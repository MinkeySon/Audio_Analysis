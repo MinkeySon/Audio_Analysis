{
 "cells": [
  {
   "cell_type": "markdown",
   "id": "5490efe8-83b5-4c69-8f4b-57de80b54ebe",
   "metadata": {},
   "source": [
    "# 음향 데이터를 분석하고 사람의 감정을 인식하는 AI 모델만들기"
   ]
  },
  {
   "cell_type": "markdown",
   "id": "c702ca51-c200-4b65-bd81-d8f3394fa8ff",
   "metadata": {},
   "source": [
    "# Importing 작업"
   ]
  },
  {
   "cell_type": "code",
   "execution_count": 16,
   "id": "fbb69b3f-fc85-4e4c-ab4c-2fb6f4da927c",
   "metadata": {},
   "outputs": [],
   "source": [
    "import librosa #librosa는 오디오 신호를 처리하고 분석하는데 사용되는 파이썬 라이브러리입니다.\n",
    "import librosa.display as dsp # librosa.display는 librosa에서 사용되는 그래픽 기능을 제공합니다.\n",
    "from IPython.display import Audio # IPython.display는 여기서 Audio 파일을 브라우저에서 듣기 위해 사용합니다.\n",
    "import pandas as pd\n",
    "import numpy as np\n",
    "import matplotlib.pyplot as plt\n",
    "import seaborn as sns\n",
    "import warnings\n",
    "warnings.filterwarnings('ignore')\n",
    "import torch \n",
    "import torchaudio\n",
    "import IPython.display as ipd"
   ]
  },
  {
   "cell_type": "markdown",
   "id": "46ad8d4d-b235-42d7-9b6c-79934465bd29",
   "metadata": {},
   "source": [
    "# 데이터 확인"
   ]
  },
  {
   "cell_type": "code",
   "execution_count": 2,
   "id": "94437c18-d34b-40f0-a4c1-c7aebe06e3e2",
   "metadata": {},
   "outputs": [
    {
     "data": {
      "text/html": [
       "<div>\n",
       "<style scoped>\n",
       "    .dataframe tbody tr th:only-of-type {\n",
       "        vertical-align: middle;\n",
       "    }\n",
       "\n",
       "    .dataframe tbody tr th {\n",
       "        vertical-align: top;\n",
       "    }\n",
       "\n",
       "    .dataframe thead th {\n",
       "        text-align: right;\n",
       "    }\n",
       "</style>\n",
       "<table border=\"1\" class=\"dataframe\">\n",
       "  <thead>\n",
       "    <tr style=\"text-align: right;\">\n",
       "      <th></th>\n",
       "      <th>id</th>\n",
       "      <th>path</th>\n",
       "      <th>label</th>\n",
       "    </tr>\n",
       "  </thead>\n",
       "  <tbody>\n",
       "    <tr>\n",
       "      <th>0</th>\n",
       "      <td>TRAIN_0000</td>\n",
       "      <td>./train/TRAIN_0000.wav</td>\n",
       "      <td>1</td>\n",
       "    </tr>\n",
       "    <tr>\n",
       "      <th>1</th>\n",
       "      <td>TRAIN_0001</td>\n",
       "      <td>./train/TRAIN_0001.wav</td>\n",
       "      <td>2</td>\n",
       "    </tr>\n",
       "    <tr>\n",
       "      <th>2</th>\n",
       "      <td>TRAIN_0002</td>\n",
       "      <td>./train/TRAIN_0002.wav</td>\n",
       "      <td>4</td>\n",
       "    </tr>\n",
       "    <tr>\n",
       "      <th>3</th>\n",
       "      <td>TRAIN_0003</td>\n",
       "      <td>./train/TRAIN_0003.wav</td>\n",
       "      <td>5</td>\n",
       "    </tr>\n",
       "    <tr>\n",
       "      <th>4</th>\n",
       "      <td>TRAIN_0004</td>\n",
       "      <td>./train/TRAIN_0004.wav</td>\n",
       "      <td>4</td>\n",
       "    </tr>\n",
       "  </tbody>\n",
       "</table>\n",
       "</div>"
      ],
      "text/plain": [
       "           id                    path  label\n",
       "0  TRAIN_0000  ./train/TRAIN_0000.wav      1\n",
       "1  TRAIN_0001  ./train/TRAIN_0001.wav      2\n",
       "2  TRAIN_0002  ./train/TRAIN_0002.wav      4\n",
       "3  TRAIN_0003  ./train/TRAIN_0003.wav      5\n",
       "4  TRAIN_0004  ./train/TRAIN_0004.wav      4"
      ]
     },
     "execution_count": 2,
     "metadata": {},
     "output_type": "execute_result"
    }
   ],
   "source": [
    "train = pd.read_csv('./train.csv')\n",
    "test = pd.read_csv('./test.csv')\n",
    "train.head()"
   ]
  },
  {
   "cell_type": "code",
   "execution_count": 3,
   "id": "4f606b4f-7a8f-4329-8aa7-4492df712752",
   "metadata": {},
   "outputs": [
    {
     "name": "stdout",
     "output_type": "stream",
     "text": [
      "<class 'pandas.core.frame.DataFrame'>\n",
      "RangeIndex: 5001 entries, 0 to 5000\n",
      "Data columns (total 3 columns):\n",
      " #   Column  Non-Null Count  Dtype \n",
      "---  ------  --------------  ----- \n",
      " 0   id      5001 non-null   object\n",
      " 1   path    5001 non-null   object\n",
      " 2   label   5001 non-null   int64 \n",
      "dtypes: int64(1), object(2)\n",
      "memory usage: 117.3+ KB\n"
     ]
    }
   ],
   "source": [
    "train.info()"
   ]
  },
  {
   "cell_type": "markdown",
   "id": "394c700c-fb23-44a0-916a-3e987bcca17c",
   "metadata": {},
   "source": [
    "> 총 5001개 데이터 존재하고 null값이 없음. <br>\n",
    "id와 path는 고유한 이름과 경로로 category화 할 수 없음.<br> 하지만 label은 감정의 종류로 0~5까지 존재하는 Ordinal variable이므로 용량 줄이기 가능!"
   ]
  },
  {
   "cell_type": "code",
   "execution_count": 4,
   "id": "2800810c-4934-4d27-879a-851060c507c0",
   "metadata": {},
   "outputs": [
    {
     "data": {
      "text/plain": [
       "iinfo(min=-128, max=127, dtype=int8)"
      ]
     },
     "execution_count": 4,
     "metadata": {},
     "output_type": "execute_result"
    }
   ],
   "source": [
    "np.iinfo('int8')"
   ]
  },
  {
   "cell_type": "code",
   "execution_count": 5,
   "id": "06d9d2ea-43ea-4779-a06c-4a7d14d4c26d",
   "metadata": {},
   "outputs": [
    {
     "data": {
      "text/plain": [
       "0       1\n",
       "1       2\n",
       "2       4\n",
       "3       5\n",
       "4       4\n",
       "       ..\n",
       "4996    5\n",
       "4997    0\n",
       "4998    1\n",
       "4999    1\n",
       "5000    4\n",
       "Name: label, Length: 5001, dtype: int8"
      ]
     },
     "execution_count": 5,
     "metadata": {},
     "output_type": "execute_result"
    }
   ],
   "source": [
    "train.label.astype('int8')"
   ]
  },
  {
   "cell_type": "code",
   "execution_count": 6,
   "id": "558e26db-8e3f-4f1b-98d1-a4eb5688257d",
   "metadata": {},
   "outputs": [
    {
     "name": "stdout",
     "output_type": "stream",
     "text": [
      "<class 'pandas.core.frame.DataFrame'>\n",
      "RangeIndex: 5001 entries, 0 to 5000\n",
      "Data columns (total 3 columns):\n",
      " #   Column  Non-Null Count  Dtype \n",
      "---  ------  --------------  ----- \n",
      " 0   id      5001 non-null   object\n",
      " 1   path    5001 non-null   object\n",
      " 2   label   5001 non-null   int8  \n",
      "dtypes: int8(1), object(2)\n",
      "memory usage: 83.1+ KB\n"
     ]
    }
   ],
   "source": [
    "train=pd.read_csv('./train.csv',\n",
    "                  dtype  = {\n",
    "                      'label' : np.int8\n",
    "                  })\n",
    "train.info()"
   ]
  },
  {
   "cell_type": "code",
   "execution_count": 7,
   "id": "39975187-26e8-4f22-8ef0-a5c5fca34a4d",
   "metadata": {},
   "outputs": [
    {
     "data": {
      "text/plain": [
       "0.71"
      ]
     },
     "execution_count": 7,
     "metadata": {},
     "output_type": "execute_result"
    }
   ],
   "source": [
    "round(83.1/117.3,2)"
   ]
  },
  {
   "cell_type": "markdown",
   "id": "f1d4cdb3-814d-4e8e-a1ec-e2309bd67986",
   "metadata": {},
   "source": [
    "> 메모리 약 70프로 줄임"
   ]
  },
  {
   "cell_type": "code",
   "execution_count": 21,
   "id": "53f273c1-cc6f-4ffd-8e33-fa27b908e134",
   "metadata": {
    "tags": []
   },
   "outputs": [
    {
     "name": "stdout",
     "output_type": "stream",
     "text": [
      "torch.Size([1, 36303]) 16000\n"
     ]
    }
   ],
   "source": [
    " #음성 파일 경로 지정\n",
    "import os\n",
    "\n",
    "file_name = './train/TRAIN_0113.wav'\n",
    "x, sr = torchaudio.load(file_name)\n",
    "print(x.shape, sr)\n"
   ]
  },
  {
   "cell_type": "code",
   "execution_count": 8,
   "id": "1f1523b9-0ae4-473a-a447-dd075220e58e",
   "metadata": {
    "scrolled": true,
    "tags": []
   },
   "outputs": [],
   "source": [
    "# # 음성 파일 불러와서 MFCC 추출\n",
    "# for file_name in os.listdir(audio_path): \n",
    "#     file_path = os.path.join(audio_path, file_name)\n",
    "#     if file_path.endswith(\".wav\"):\n",
    "#         y, sr = librosa.load(file_path) # 오디오 파형(y) 샘플링 속도(sr)를 반환\n",
    "#         mfcc = librosa.feature.mfcc(y=y, sr=sr)\n",
    "#         print(f\"MFCC shape of {file_name}: {mfcc.shape}\")\n"
   ]
  },
  {
   "cell_type": "markdown",
   "id": "cae07586-be2e-42d4-9c2c-be7a1f19b3d6",
   "metadata": {},
   "source": [
    "1. 데이터 전처리: './train.csv' 데이터를 불러와서 필요한 정보를 추출하고, 불필요한 정보는 제거합니다. 그리고 음성 신호를 수치화하기 위해 오디오 파일을 불러와서 Mel-frequency cepstral coefficients(MFCCs)를 추출합니다.<br>\n",
    "2. 데이터 시각화: 추출한 MFCCs를 이용하여 시각화를 수행하여 데이터의 패턴을 파악합니다.<br>\n",
    "3. 모델링: 추출한 MFCCs와 감정 라벨 정보를 이용하여 감정 분류를 수행할 모델을 만듭니다.<br>\n",
    "4. 모델 평가: 만든 모델을 테스트 데이터에 적용하여 모델의 성능을 평가합니다."
   ]
  },
  {
   "cell_type": "code",
   "execution_count": 9,
   "id": "cdbb8e8f-c42f-4571-8f9b-daeb05322b48",
   "metadata": {},
   "outputs": [],
   "source": [
    "# train1.label.groupby(train1.label).count()"
   ]
  },
  {
   "cell_type": "code",
   "execution_count": 10,
   "id": "bf622741-3b1f-4842-84bc-f19565624bd6",
   "metadata": {},
   "outputs": [],
   "source": [
    "# x = train.id.groupby(train.label).count().index\n",
    "# y = train.id.groupby(train.label).count()"
   ]
  },
  {
   "cell_type": "code",
   "execution_count": 11,
   "id": "3d38b937-312f-49ed-a408-f8f35eef9ff5",
   "metadata": {
    "scrolled": true,
    "tags": []
   },
   "outputs": [],
   "source": [
    "# plt.bar(x,y)\n",
    "# plt.xticks(x)\n",
    "# plt.title('Number of labels')\n",
    "# plt.show()"
   ]
  },
  {
   "cell_type": "markdown",
   "id": "31ca0b35-668f-48cd-8922-558cf0bf129f",
   "metadata": {},
   "source": [
    "# 데이터 처리(wav)"
   ]
  },
  {
   "cell_type": "code",
   "execution_count": 22,
   "id": "3ab515e3-fef5-4be3-b212-4efe08101cdd",
   "metadata": {},
   "outputs": [
    {
     "name": "stdout",
     "output_type": "stream",
     "text": [
      "./train/TRAIN_1392.wav\n"
     ]
    }
   ],
   "source": [
    "train_dir = './train'\n",
    "\n",
    "for file_name in os.listdir(train_dir):\n",
    "    if file_name.endswith(\".wav\"):\n",
    "         file_path = os.path.join(train_dir, file_name)\n"
   ]
  },
  {
   "cell_type": "code",
   "execution_count": 13,
   "id": "4b0d144a-9f0c-44d1-9e76-6e3c7cc1aac4",
   "metadata": {},
   "outputs": [],
   "source": [
    "filtered_train_0 = train[train['label'] == 0]\n"
   ]
  },
  {
   "cell_type": "code",
   "execution_count": 14,
   "id": "16d8341a-3d84-4bb4-bae2-62efe18eb1c5",
   "metadata": {},
   "outputs": [
    {
     "data": {
      "text/plain": [
       "6       TRAIN_0006\n",
       "7       TRAIN_0007\n",
       "19      TRAIN_0019\n",
       "33      TRAIN_0033\n",
       "37      TRAIN_0037\n",
       "           ...    \n",
       "4963    TRAIN_4963\n",
       "4970    TRAIN_4970\n",
       "4977    TRAIN_4977\n",
       "4979    TRAIN_4979\n",
       "4997    TRAIN_4997\n",
       "Name: id, Length: 867, dtype: object"
      ]
     },
     "execution_count": 14,
     "metadata": {},
     "output_type": "execute_result"
    }
   ],
   "source": [
    "ids_0 = filtered_train_0['id']\n",
    "ids_0"
   ]
  },
  {
   "cell_type": "code",
   "execution_count": null,
   "id": "da7b763c-5664-4b5a-be68-cd299bf5c432",
   "metadata": {},
   "outputs": [],
   "source": []
  },
  {
   "cell_type": "code",
   "execution_count": null,
   "id": "1b8bef32-61ff-437a-850f-f76d111c9dc4",
   "metadata": {},
   "outputs": [],
   "source": []
  }
 ],
 "metadata": {
  "kernelspec": {
   "display_name": "Python 3 (ipykernel)",
   "language": "python",
   "name": "python3"
  },
  "language_info": {
   "codemirror_mode": {
    "name": "ipython",
    "version": 3
   },
   "file_extension": ".py",
   "mimetype": "text/x-python",
   "name": "python",
   "nbconvert_exporter": "python",
   "pygments_lexer": "ipython3",
   "version": "3.9.13"
  }
 },
 "nbformat": 4,
 "nbformat_minor": 5
}
