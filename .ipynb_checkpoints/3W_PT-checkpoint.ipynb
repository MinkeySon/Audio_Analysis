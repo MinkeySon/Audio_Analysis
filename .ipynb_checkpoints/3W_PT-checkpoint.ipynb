{
 "cells": [
  {
   "cell_type": "code",
   "execution_count": 2,
   "id": "7cd3d930-a315-421b-aafe-cdceb3943661",
   "metadata": {},
   "outputs": [],
   "source": [
    "#필요한 import\n",
    "import pandas as pd\n",
    "import numpy as np"
   ]
  },
  {
   "cell_type": "code",
   "execution_count": 3,
   "id": "46bf53b8-ad1b-469e-9b3e-3d30d1dc26c6",
   "metadata": {},
   "outputs": [
    {
     "data": {
      "text/html": [
       "<div>\n",
       "<style scoped>\n",
       "    .dataframe tbody tr th:only-of-type {\n",
       "        vertical-align: middle;\n",
       "    }\n",
       "\n",
       "    .dataframe tbody tr th {\n",
       "        vertical-align: top;\n",
       "    }\n",
       "\n",
       "    .dataframe thead th {\n",
       "        text-align: right;\n",
       "    }\n",
       "</style>\n",
       "<table border=\"1\" class=\"dataframe\">\n",
       "  <thead>\n",
       "    <tr style=\"text-align: right;\">\n",
       "      <th></th>\n",
       "      <th>family_name</th>\n",
       "      <th>first_name</th>\n",
       "      <th>age</th>\n",
       "    </tr>\n",
       "  </thead>\n",
       "  <tbody>\n",
       "    <tr>\n",
       "      <th>0</th>\n",
       "      <td>홍</td>\n",
       "      <td>길동</td>\n",
       "      <td>23</td>\n",
       "    </tr>\n",
       "    <tr>\n",
       "      <th>1</th>\n",
       "      <td>김</td>\n",
       "      <td>철수</td>\n",
       "      <td>45</td>\n",
       "    </tr>\n",
       "    <tr>\n",
       "      <th>2</th>\n",
       "      <td>이</td>\n",
       "      <td>성계</td>\n",
       "      <td>99</td>\n",
       "    </tr>\n",
       "    <tr>\n",
       "      <th>3</th>\n",
       "      <td>박</td>\n",
       "      <td>지성</td>\n",
       "      <td>41</td>\n",
       "    </tr>\n",
       "    <tr>\n",
       "      <th>4</th>\n",
       "      <td>최</td>\n",
       "      <td>용수</td>\n",
       "      <td>48</td>\n",
       "    </tr>\n",
       "  </tbody>\n",
       "</table>\n",
       "</div>"
      ],
      "text/plain": [
       "  family_name first_name  age\n",
       "0           홍         길동   23\n",
       "1           김         철수   45\n",
       "2           이         성계   99\n",
       "3           박         지성   41\n",
       "4           최         용수   48"
      ]
     },
     "execution_count": 3,
     "metadata": {},
     "output_type": "execute_result"
    }
   ],
   "source": [
    "# 리스트들 생성하기\n",
    "list1 = ['홍', '김', '이', '박', '최']\n",
    "list2 = ['길동', '철수', '성계', '지성', '용수']\n",
    "list3 = [23, 45, 99, 41, 48]\n",
    "\n",
    "names_dic = {'family_name':list1, 'first_name':list2, 'age':list3}\n",
    "\n",
    "names = pd.DataFrame(names_dic)\n",
    "names\n",
    "\n"
   ]
  },
  {
   "cell_type": "markdown",
   "id": "c02b54c8-349f-4a17-9536-b066f819e534",
   "metadata": {},
   "source": [
    "> DF 생성 시 리스트 길이 맞춰야 함."
   ]
  },
  {
   "cell_type": "code",
   "execution_count": 4,
   "id": "31519ce2-80f4-4914-83af-e97d96314725",
   "metadata": {},
   "outputs": [
    {
     "data": {
      "text/plain": [
       "[('홍', '길동', 23),\n",
       " ('김', '철수', 45),\n",
       " ('이', '성계', 99),\n",
       " ('박', '지성', 41),\n",
       " ('최', '용수', 48)]"
      ]
     },
     "execution_count": 4,
     "metadata": {},
     "output_type": "execute_result"
    }
   ],
   "source": [
    "list(zip(list1, list2, list3))"
   ]
  },
  {
   "cell_type": "code",
   "execution_count": 5,
   "id": "a9066e92-acd9-4faa-8a85-fb6a91fa35dc",
   "metadata": {},
   "outputs": [
    {
     "data": {
      "text/plain": [
       "[('홍', '길동'), ('김', '철수'), ('이', '성계'), ('박', '지성'), ('최', '용수')]"
      ]
     },
     "execution_count": 5,
     "metadata": {},
     "output_type": "execute_result"
    }
   ],
   "source": [
    "list(zip(list1,list2))"
   ]
  },
  {
   "cell_type": "code",
   "execution_count": 13,
   "id": "7889ff70-1567-4480-9521-40f60dc42db0",
   "metadata": {},
   "outputs": [
    {
     "data": {
      "text/html": [
       "<div>\n",
       "<style scoped>\n",
       "    .dataframe tbody tr th:only-of-type {\n",
       "        vertical-align: middle;\n",
       "    }\n",
       "\n",
       "    .dataframe tbody tr th {\n",
       "        vertical-align: top;\n",
       "    }\n",
       "\n",
       "    .dataframe thead th {\n",
       "        text-align: right;\n",
       "    }\n",
       "</style>\n",
       "<table border=\"1\" class=\"dataframe\">\n",
       "  <thead>\n",
       "    <tr style=\"text-align: right;\">\n",
       "      <th></th>\n",
       "      <th>familyName</th>\n",
       "      <th>firstName</th>\n",
       "      <th>age</th>\n",
       "    </tr>\n",
       "  </thead>\n",
       "  <tbody>\n",
       "    <tr>\n",
       "      <th>0</th>\n",
       "      <td>홍</td>\n",
       "      <td>길동</td>\n",
       "      <td>23</td>\n",
       "    </tr>\n",
       "    <tr>\n",
       "      <th>1</th>\n",
       "      <td>김</td>\n",
       "      <td>철수</td>\n",
       "      <td>45</td>\n",
       "    </tr>\n",
       "    <tr>\n",
       "      <th>2</th>\n",
       "      <td>이</td>\n",
       "      <td>성계</td>\n",
       "      <td>99</td>\n",
       "    </tr>\n",
       "    <tr>\n",
       "      <th>3</th>\n",
       "      <td>박</td>\n",
       "      <td>지성</td>\n",
       "      <td>41</td>\n",
       "    </tr>\n",
       "    <tr>\n",
       "      <th>4</th>\n",
       "      <td>최</td>\n",
       "      <td>용수</td>\n",
       "      <td>48</td>\n",
       "    </tr>\n",
       "  </tbody>\n",
       "</table>\n",
       "</div>"
      ],
      "text/plain": [
       "  familyName firstName  age\n",
       "0          홍        길동   23\n",
       "1          김        철수   45\n",
       "2          이        성계   99\n",
       "3          박        지성   41\n",
       "4          최        용수   48"
      ]
     },
     "execution_count": 13,
     "metadata": {},
     "output_type": "execute_result"
    }
   ],
   "source": [
    "#혹은 이 방법도 가능합니다.\n",
    "\n",
    "# names_dic = {'family_name':list1, 'first_name':list2, 'age':list3}\n",
    "\n",
    "pd.DataFrame(list(zip(list1, list2, list3)), \n",
    "            columns=['familyName', 'firstName', 'age'])"
   ]
  },
  {
   "cell_type": "code",
   "execution_count": 14,
   "id": "0dfa1d3a-d1f8-49cf-ab5c-d1b18160d32c",
   "metadata": {},
   "outputs": [
    {
     "data": {
      "text/plain": [
       "array([0, 1, 2, 3])"
      ]
     },
     "execution_count": 14,
     "metadata": {},
     "output_type": "execute_result"
    }
   ],
   "source": [
    "list4 = np.arange(0, 4) # 0, 1, 2, 3\n",
    "list4"
   ]
  },
  {
   "cell_type": "code",
   "execution_count": 15,
   "id": "c3a8e1ac-68da-4845-833a-9d54cbcebe1c",
   "metadata": {},
   "outputs": [
    {
     "data": {
      "text/html": [
       "<div>\n",
       "<style scoped>\n",
       "    .dataframe tbody tr th:only-of-type {\n",
       "        vertical-align: middle;\n",
       "    }\n",
       "\n",
       "    .dataframe tbody tr th {\n",
       "        vertical-align: top;\n",
       "    }\n",
       "\n",
       "    .dataframe thead th {\n",
       "        text-align: right;\n",
       "    }\n",
       "</style>\n",
       "<table border=\"1\" class=\"dataframe\">\n",
       "  <thead>\n",
       "    <tr style=\"text-align: right;\">\n",
       "      <th></th>\n",
       "      <th>family</th>\n",
       "      <th>first</th>\n",
       "      <th>age</th>\n",
       "    </tr>\n",
       "  </thead>\n",
       "  <tbody>\n",
       "    <tr>\n",
       "      <th>0</th>\n",
       "      <td>홍</td>\n",
       "      <td>길동</td>\n",
       "      <td>0</td>\n",
       "    </tr>\n",
       "    <tr>\n",
       "      <th>1</th>\n",
       "      <td>김</td>\n",
       "      <td>철수</td>\n",
       "      <td>1</td>\n",
       "    </tr>\n",
       "    <tr>\n",
       "      <th>2</th>\n",
       "      <td>이</td>\n",
       "      <td>성계</td>\n",
       "      <td>2</td>\n",
       "    </tr>\n",
       "    <tr>\n",
       "      <th>3</th>\n",
       "      <td>박</td>\n",
       "      <td>지성</td>\n",
       "      <td>3</td>\n",
       "    </tr>\n",
       "  </tbody>\n",
       "</table>\n",
       "</div>"
      ],
      "text/plain": [
       "  family first  age\n",
       "0      홍    길동    0\n",
       "1      김    철수    1\n",
       "2      이    성계    2\n",
       "3      박    지성    3"
      ]
     },
     "execution_count": 15,
     "metadata": {},
     "output_type": "execute_result"
    }
   ],
   "source": [
    "pd.DataFrame(list(zip(list1,list2,list4)),columns=['family','first','age'])"
   ]
  },
  {
   "cell_type": "markdown",
   "id": "05366c89-c413-43d7-b10a-7883eb2d03be",
   "metadata": {},
   "source": [
    "# zip 생성 후 DF 생성 vs 딕셔너리 생성 후 DF 생성 차이점\n",
    "\n",
    "> zip 생성은 key 값 개수가 맞지 않아도 오류 x\n",
    "> 딕셔너리는 오류 발생"
   ]
  },
  {
   "cell_type": "code",
   "execution_count": 16,
   "id": "6ea1da25-e93e-47c3-aae4-8acafc8717c0",
   "metadata": {},
   "outputs": [
    {
     "ename": "ValueError",
     "evalue": "All arrays must be of the same length",
     "output_type": "error",
     "traceback": [
      "\u001b[0;31m---------------------------------------------------------------------------\u001b[0m",
      "\u001b[0;31mValueError\u001b[0m                                Traceback (most recent call last)",
      "\u001b[0;32m/var/folders/_l/nhxw713s4yx4h9jgpqkyf7qw0000gn/T/ipykernel_1118/290152380.py\u001b[0m in \u001b[0;36m<module>\u001b[0;34m\u001b[0m\n\u001b[1;32m      2\u001b[0m \u001b[0;34m\u001b[0m\u001b[0m\n\u001b[1;32m      3\u001b[0m \u001b[0mnames_dic_short\u001b[0m \u001b[0;34m=\u001b[0m \u001b[0;34m{\u001b[0m\u001b[0;34m'family_name'\u001b[0m\u001b[0;34m:\u001b[0m\u001b[0mlist1\u001b[0m\u001b[0;34m,\u001b[0m \u001b[0;34m'first_name'\u001b[0m\u001b[0;34m:\u001b[0m\u001b[0mlist2\u001b[0m\u001b[0;34m,\u001b[0m \u001b[0;34m'age'\u001b[0m\u001b[0;34m:\u001b[0m\u001b[0mlist4\u001b[0m\u001b[0;34m}\u001b[0m\u001b[0;34m\u001b[0m\u001b[0;34m\u001b[0m\u001b[0m\n\u001b[0;32m----> 4\u001b[0;31m \u001b[0mpd\u001b[0m\u001b[0;34m.\u001b[0m\u001b[0mDataFrame\u001b[0m\u001b[0;34m(\u001b[0m\u001b[0mnames_dic_short\u001b[0m\u001b[0;34m)\u001b[0m\u001b[0;34m\u001b[0m\u001b[0;34m\u001b[0m\u001b[0m\n\u001b[0m",
      "\u001b[0;32m~/opt/anaconda3/lib/python3.9/site-packages/pandas/core/frame.py\u001b[0m in \u001b[0;36m__init__\u001b[0;34m(self, data, index, columns, dtype, copy)\u001b[0m\n\u001b[1;32m    634\u001b[0m         \u001b[0;32melif\u001b[0m \u001b[0misinstance\u001b[0m\u001b[0;34m(\u001b[0m\u001b[0mdata\u001b[0m\u001b[0;34m,\u001b[0m \u001b[0mdict\u001b[0m\u001b[0;34m)\u001b[0m\u001b[0;34m:\u001b[0m\u001b[0;34m\u001b[0m\u001b[0;34m\u001b[0m\u001b[0m\n\u001b[1;32m    635\u001b[0m             \u001b[0;31m# GH#38939 de facto copy defaults to False only in non-dict cases\u001b[0m\u001b[0;34m\u001b[0m\u001b[0;34m\u001b[0m\u001b[0m\n\u001b[0;32m--> 636\u001b[0;31m             \u001b[0mmgr\u001b[0m \u001b[0;34m=\u001b[0m \u001b[0mdict_to_mgr\u001b[0m\u001b[0;34m(\u001b[0m\u001b[0mdata\u001b[0m\u001b[0;34m,\u001b[0m \u001b[0mindex\u001b[0m\u001b[0;34m,\u001b[0m \u001b[0mcolumns\u001b[0m\u001b[0;34m,\u001b[0m \u001b[0mdtype\u001b[0m\u001b[0;34m=\u001b[0m\u001b[0mdtype\u001b[0m\u001b[0;34m,\u001b[0m \u001b[0mcopy\u001b[0m\u001b[0;34m=\u001b[0m\u001b[0mcopy\u001b[0m\u001b[0;34m,\u001b[0m \u001b[0mtyp\u001b[0m\u001b[0;34m=\u001b[0m\u001b[0mmanager\u001b[0m\u001b[0;34m)\u001b[0m\u001b[0;34m\u001b[0m\u001b[0;34m\u001b[0m\u001b[0m\n\u001b[0m\u001b[1;32m    637\u001b[0m         \u001b[0;32melif\u001b[0m \u001b[0misinstance\u001b[0m\u001b[0;34m(\u001b[0m\u001b[0mdata\u001b[0m\u001b[0;34m,\u001b[0m \u001b[0mma\u001b[0m\u001b[0;34m.\u001b[0m\u001b[0mMaskedArray\u001b[0m\u001b[0;34m)\u001b[0m\u001b[0;34m:\u001b[0m\u001b[0;34m\u001b[0m\u001b[0;34m\u001b[0m\u001b[0m\n\u001b[1;32m    638\u001b[0m             \u001b[0;32mimport\u001b[0m \u001b[0mnumpy\u001b[0m\u001b[0;34m.\u001b[0m\u001b[0mma\u001b[0m\u001b[0;34m.\u001b[0m\u001b[0mmrecords\u001b[0m \u001b[0;32mas\u001b[0m \u001b[0mmrecords\u001b[0m\u001b[0;34m\u001b[0m\u001b[0;34m\u001b[0m\u001b[0m\n",
      "\u001b[0;32m~/opt/anaconda3/lib/python3.9/site-packages/pandas/core/internals/construction.py\u001b[0m in \u001b[0;36mdict_to_mgr\u001b[0;34m(data, index, columns, dtype, typ, copy)\u001b[0m\n\u001b[1;32m    500\u001b[0m         \u001b[0;31m# TODO: can we get rid of the dt64tz special case above?\u001b[0m\u001b[0;34m\u001b[0m\u001b[0;34m\u001b[0m\u001b[0m\n\u001b[1;32m    501\u001b[0m \u001b[0;34m\u001b[0m\u001b[0m\n\u001b[0;32m--> 502\u001b[0;31m     \u001b[0;32mreturn\u001b[0m \u001b[0marrays_to_mgr\u001b[0m\u001b[0;34m(\u001b[0m\u001b[0marrays\u001b[0m\u001b[0;34m,\u001b[0m \u001b[0mcolumns\u001b[0m\u001b[0;34m,\u001b[0m \u001b[0mindex\u001b[0m\u001b[0;34m,\u001b[0m \u001b[0mdtype\u001b[0m\u001b[0;34m=\u001b[0m\u001b[0mdtype\u001b[0m\u001b[0;34m,\u001b[0m \u001b[0mtyp\u001b[0m\u001b[0;34m=\u001b[0m\u001b[0mtyp\u001b[0m\u001b[0;34m,\u001b[0m \u001b[0mconsolidate\u001b[0m\u001b[0;34m=\u001b[0m\u001b[0mcopy\u001b[0m\u001b[0;34m)\u001b[0m\u001b[0;34m\u001b[0m\u001b[0;34m\u001b[0m\u001b[0m\n\u001b[0m\u001b[1;32m    503\u001b[0m \u001b[0;34m\u001b[0m\u001b[0m\n\u001b[1;32m    504\u001b[0m \u001b[0;34m\u001b[0m\u001b[0m\n",
      "\u001b[0;32m~/opt/anaconda3/lib/python3.9/site-packages/pandas/core/internals/construction.py\u001b[0m in \u001b[0;36marrays_to_mgr\u001b[0;34m(arrays, columns, index, dtype, verify_integrity, typ, consolidate)\u001b[0m\n\u001b[1;32m    118\u001b[0m         \u001b[0;31m# figure out the index, if necessary\u001b[0m\u001b[0;34m\u001b[0m\u001b[0;34m\u001b[0m\u001b[0m\n\u001b[1;32m    119\u001b[0m         \u001b[0;32mif\u001b[0m \u001b[0mindex\u001b[0m \u001b[0;32mis\u001b[0m \u001b[0;32mNone\u001b[0m\u001b[0;34m:\u001b[0m\u001b[0;34m\u001b[0m\u001b[0;34m\u001b[0m\u001b[0m\n\u001b[0;32m--> 120\u001b[0;31m             \u001b[0mindex\u001b[0m \u001b[0;34m=\u001b[0m \u001b[0m_extract_index\u001b[0m\u001b[0;34m(\u001b[0m\u001b[0marrays\u001b[0m\u001b[0;34m)\u001b[0m\u001b[0;34m\u001b[0m\u001b[0;34m\u001b[0m\u001b[0m\n\u001b[0m\u001b[1;32m    121\u001b[0m         \u001b[0;32melse\u001b[0m\u001b[0;34m:\u001b[0m\u001b[0;34m\u001b[0m\u001b[0;34m\u001b[0m\u001b[0m\n\u001b[1;32m    122\u001b[0m             \u001b[0mindex\u001b[0m \u001b[0;34m=\u001b[0m \u001b[0mensure_index\u001b[0m\u001b[0;34m(\u001b[0m\u001b[0mindex\u001b[0m\u001b[0;34m)\u001b[0m\u001b[0;34m\u001b[0m\u001b[0;34m\u001b[0m\u001b[0m\n",
      "\u001b[0;32m~/opt/anaconda3/lib/python3.9/site-packages/pandas/core/internals/construction.py\u001b[0m in \u001b[0;36m_extract_index\u001b[0;34m(data)\u001b[0m\n\u001b[1;32m    672\u001b[0m             \u001b[0mlengths\u001b[0m \u001b[0;34m=\u001b[0m \u001b[0mlist\u001b[0m\u001b[0;34m(\u001b[0m\u001b[0mset\u001b[0m\u001b[0;34m(\u001b[0m\u001b[0mraw_lengths\u001b[0m\u001b[0;34m)\u001b[0m\u001b[0;34m)\u001b[0m\u001b[0;34m\u001b[0m\u001b[0;34m\u001b[0m\u001b[0m\n\u001b[1;32m    673\u001b[0m             \u001b[0;32mif\u001b[0m \u001b[0mlen\u001b[0m\u001b[0;34m(\u001b[0m\u001b[0mlengths\u001b[0m\u001b[0;34m)\u001b[0m \u001b[0;34m>\u001b[0m \u001b[0;36m1\u001b[0m\u001b[0;34m:\u001b[0m\u001b[0;34m\u001b[0m\u001b[0;34m\u001b[0m\u001b[0m\n\u001b[0;32m--> 674\u001b[0;31m                 \u001b[0;32mraise\u001b[0m \u001b[0mValueError\u001b[0m\u001b[0;34m(\u001b[0m\u001b[0;34m\"All arrays must be of the same length\"\u001b[0m\u001b[0;34m)\u001b[0m\u001b[0;34m\u001b[0m\u001b[0;34m\u001b[0m\u001b[0m\n\u001b[0m\u001b[1;32m    675\u001b[0m \u001b[0;34m\u001b[0m\u001b[0m\n\u001b[1;32m    676\u001b[0m             \u001b[0;32mif\u001b[0m \u001b[0mhave_dicts\u001b[0m\u001b[0;34m:\u001b[0m\u001b[0;34m\u001b[0m\u001b[0;34m\u001b[0m\u001b[0m\n",
      "\u001b[0;31mValueError\u001b[0m: All arrays must be of the same length"
     ]
    }
   ],
   "source": [
    "#일부러 애러 내기\n",
    "\n",
    "names_dic_short = {'family_name':list1, 'first_name':list2, 'age':list4}\n",
    "pd.DataFrame(names_dic_short)\n"
   ]
  },
  {
   "cell_type": "code",
   "execution_count": 17,
   "id": "df5a4a87-a0a6-4b46-b165-399e33c9bae6",
   "metadata": {},
   "outputs": [
    {
     "data": {
      "text/plain": [
       "RangeIndex(start=0, stop=5, step=1)"
      ]
     },
     "execution_count": 17,
     "metadata": {},
     "output_type": "execute_result"
    }
   ],
   "source": [
    "names.index\n",
    "\n",
    "# index 값 확인 메소드"
   ]
  },
  {
   "cell_type": "code",
   "execution_count": 49,
   "id": "b6c74302-130a-4f98-8ab6-907eaa000912",
   "metadata": {},
   "outputs": [
    {
     "data": {
      "text/html": [
       "<div>\n",
       "<style scoped>\n",
       "    .dataframe tbody tr th:only-of-type {\n",
       "        vertical-align: middle;\n",
       "    }\n",
       "\n",
       "    .dataframe tbody tr th {\n",
       "        vertical-align: top;\n",
       "    }\n",
       "\n",
       "    .dataframe thead th {\n",
       "        text-align: right;\n",
       "    }\n",
       "</style>\n",
       "<table border=\"1\" class=\"dataframe\">\n",
       "  <thead>\n",
       "    <tr style=\"text-align: right;\">\n",
       "      <th></th>\n",
       "      <th>family_name</th>\n",
       "      <th>first_name</th>\n",
       "      <th>age</th>\n",
       "    </tr>\n",
       "  </thead>\n",
       "  <tbody>\n",
       "    <tr>\n",
       "      <th>1번학생</th>\n",
       "      <td>홍</td>\n",
       "      <td>길동</td>\n",
       "      <td>23</td>\n",
       "    </tr>\n",
       "    <tr>\n",
       "      <th>2번학생</th>\n",
       "      <td>김</td>\n",
       "      <td>철수</td>\n",
       "      <td>45</td>\n",
       "    </tr>\n",
       "    <tr>\n",
       "      <th>3번학생</th>\n",
       "      <td>이</td>\n",
       "      <td>성계</td>\n",
       "      <td>99</td>\n",
       "    </tr>\n",
       "    <tr>\n",
       "      <th>4번학생</th>\n",
       "      <td>박</td>\n",
       "      <td>지성</td>\n",
       "      <td>41</td>\n",
       "    </tr>\n",
       "    <tr>\n",
       "      <th>5번학생</th>\n",
       "      <td>최</td>\n",
       "      <td>용수</td>\n",
       "      <td>48</td>\n",
       "    </tr>\n",
       "  </tbody>\n",
       "</table>\n",
       "</div>"
      ],
      "text/plain": [
       "     family_name first_name  age\n",
       "1번학생           홍         길동   23\n",
       "2번학생           김         철수   45\n",
       "3번학생           이         성계   99\n",
       "4번학생           박         지성   41\n",
       "5번학생           최         용수   48"
      ]
     },
     "execution_count": 49,
     "metadata": {},
     "output_type": "execute_result"
    }
   ],
   "source": [
    "names_dic = {'family_name':list1, 'first_name':list2, 'age':list3}\n",
    "\n",
    "names = pd.DataFrame(names_dic, \n",
    "                     index=['1번학생', '2번학생', '3번학생', '4번학생', '5번학생'])\n",
    "names\n",
    "\n",
    "# index 지정"
   ]
  },
  {
   "cell_type": "markdown",
   "id": "8f09e86e-c1dd-406c-be77-2d428aa2174f",
   "metadata": {},
   "source": [
    "> index를 내가 아는 걸로 지정하는 이유\n",
    "-> loc으로 index 시 편함"
   ]
  },
  {
   "cell_type": "code",
   "execution_count": 50,
   "id": "1eeec065-b64b-4e52-9c8f-007bb9916c41",
   "metadata": {},
   "outputs": [
    {
     "data": {
      "text/plain": [
       "23"
      ]
     },
     "execution_count": 50,
     "metadata": {},
     "output_type": "execute_result"
    }
   ],
   "source": [
    "names.loc['1번학생','age']"
   ]
  },
  {
   "cell_type": "markdown",
   "id": "3a56b5c3-ce52-4ba0-9941-77d5ebb060ac",
   "metadata": {},
   "source": [
    "# loc vs iloc\n",
    "\n",
    "loc은 이름으로 인덱스 하기 때문에 끝까지 인덱스\n",
    "iloc은 -1"
   ]
  },
  {
   "cell_type": "code",
   "execution_count": 51,
   "id": "b74e8ae3-4e7c-4e9c-bf6f-80ac33afbeda",
   "metadata": {},
   "outputs": [],
   "source": [
    "names = pd.DataFrame(names_dic)\n",
    "names.to_csv('names.csv',index = False)\n",
    "new_names = pd.read_csv('names.csv')\n",
    "\n",
    "# csv 저장 및 읽기"
   ]
  },
  {
   "cell_type": "code",
   "execution_count": 52,
   "id": "ba97d739-69ee-40d0-a49a-ea1dd08d25cf",
   "metadata": {},
   "outputs": [
    {
     "data": {
      "text/html": [
       "<div>\n",
       "<style scoped>\n",
       "    .dataframe tbody tr th:only-of-type {\n",
       "        vertical-align: middle;\n",
       "    }\n",
       "\n",
       "    .dataframe tbody tr th {\n",
       "        vertical-align: top;\n",
       "    }\n",
       "\n",
       "    .dataframe thead th {\n",
       "        text-align: right;\n",
       "    }\n",
       "</style>\n",
       "<table border=\"1\" class=\"dataframe\">\n",
       "  <thead>\n",
       "    <tr style=\"text-align: right;\">\n",
       "      <th></th>\n",
       "      <th>family_name</th>\n",
       "      <th>first_name</th>\n",
       "      <th>age</th>\n",
       "    </tr>\n",
       "  </thead>\n",
       "  <tbody>\n",
       "    <tr>\n",
       "      <th>0</th>\n",
       "      <td>홍</td>\n",
       "      <td>길동</td>\n",
       "      <td>23</td>\n",
       "    </tr>\n",
       "    <tr>\n",
       "      <th>1</th>\n",
       "      <td>김</td>\n",
       "      <td>철수</td>\n",
       "      <td>45</td>\n",
       "    </tr>\n",
       "    <tr>\n",
       "      <th>2</th>\n",
       "      <td>이</td>\n",
       "      <td>성계</td>\n",
       "      <td>99</td>\n",
       "    </tr>\n",
       "    <tr>\n",
       "      <th>3</th>\n",
       "      <td>박</td>\n",
       "      <td>지성</td>\n",
       "      <td>41</td>\n",
       "    </tr>\n",
       "    <tr>\n",
       "      <th>4</th>\n",
       "      <td>최</td>\n",
       "      <td>용수</td>\n",
       "      <td>48</td>\n",
       "    </tr>\n",
       "  </tbody>\n",
       "</table>\n",
       "</div>"
      ],
      "text/plain": [
       "  family_name first_name  age\n",
       "0           홍         길동   23\n",
       "1           김         철수   45\n",
       "2           이         성계   99\n",
       "3           박         지성   41\n",
       "4           최         용수   48"
      ]
     },
     "execution_count": 52,
     "metadata": {},
     "output_type": "execute_result"
    }
   ],
   "source": [
    "#new_names.drop(columns=new_names.columns[0])\n",
    "#new_names.iloc[:, 1:]\n",
    "new_names"
   ]
  },
  {
   "cell_type": "code",
   "execution_count": 53,
   "id": "cfa6fded-6407-439a-ad83-0474425d24a5",
   "metadata": {},
   "outputs": [
    {
     "data": {
      "text/html": [
       "<div>\n",
       "<style scoped>\n",
       "    .dataframe tbody tr th:only-of-type {\n",
       "        vertical-align: middle;\n",
       "    }\n",
       "\n",
       "    .dataframe tbody tr th {\n",
       "        vertical-align: top;\n",
       "    }\n",
       "\n",
       "    .dataframe thead th {\n",
       "        text-align: right;\n",
       "    }\n",
       "</style>\n",
       "<table border=\"1\" class=\"dataframe\">\n",
       "  <thead>\n",
       "    <tr style=\"text-align: right;\">\n",
       "      <th></th>\n",
       "      <th>family_name</th>\n",
       "      <th>first_name</th>\n",
       "      <th>age</th>\n",
       "    </tr>\n",
       "  </thead>\n",
       "  <tbody>\n",
       "    <tr>\n",
       "      <th>0</th>\n",
       "      <td>홍</td>\n",
       "      <td>길동</td>\n",
       "      <td>23</td>\n",
       "    </tr>\n",
       "    <tr>\n",
       "      <th>1</th>\n",
       "      <td>김</td>\n",
       "      <td>철수</td>\n",
       "      <td>45</td>\n",
       "    </tr>\n",
       "    <tr>\n",
       "      <th>2</th>\n",
       "      <td>이</td>\n",
       "      <td>성계</td>\n",
       "      <td>99</td>\n",
       "    </tr>\n",
       "    <tr>\n",
       "      <th>3</th>\n",
       "      <td>박</td>\n",
       "      <td>지성</td>\n",
       "      <td>41</td>\n",
       "    </tr>\n",
       "    <tr>\n",
       "      <th>4</th>\n",
       "      <td>최</td>\n",
       "      <td>용수</td>\n",
       "      <td>48</td>\n",
       "    </tr>\n",
       "  </tbody>\n",
       "</table>\n",
       "</div>"
      ],
      "text/plain": [
       "  family_name first_name  age\n",
       "0           홍         길동   23\n",
       "1           김         철수   45\n",
       "2           이         성계   99\n",
       "3           박         지성   41\n",
       "4           최         용수   48"
      ]
     },
     "execution_count": 53,
     "metadata": {},
     "output_type": "execute_result"
    }
   ],
   "source": [
    "# pd.read_csv('names.csv',index_col=0)\n",
    "new_names.iloc[:,0:]"
   ]
  },
  {
   "cell_type": "code",
   "execution_count": 54,
   "id": "e5ddc42c-142b-4d20-9022-7dd5efd554bc",
   "metadata": {},
   "outputs": [
    {
     "data": {
      "text/html": [
       "<div>\n",
       "<style scoped>\n",
       "    .dataframe tbody tr th:only-of-type {\n",
       "        vertical-align: middle;\n",
       "    }\n",
       "\n",
       "    .dataframe tbody tr th {\n",
       "        vertical-align: top;\n",
       "    }\n",
       "\n",
       "    .dataframe thead th {\n",
       "        text-align: right;\n",
       "    }\n",
       "</style>\n",
       "<table border=\"1\" class=\"dataframe\">\n",
       "  <thead>\n",
       "    <tr style=\"text-align: right;\">\n",
       "      <th></th>\n",
       "      <th>first_name</th>\n",
       "      <th>age</th>\n",
       "    </tr>\n",
       "  </thead>\n",
       "  <tbody>\n",
       "    <tr>\n",
       "      <th>0</th>\n",
       "      <td>길동</td>\n",
       "      <td>23</td>\n",
       "    </tr>\n",
       "    <tr>\n",
       "      <th>1</th>\n",
       "      <td>철수</td>\n",
       "      <td>45</td>\n",
       "    </tr>\n",
       "    <tr>\n",
       "      <th>2</th>\n",
       "      <td>성계</td>\n",
       "      <td>99</td>\n",
       "    </tr>\n",
       "    <tr>\n",
       "      <th>3</th>\n",
       "      <td>지성</td>\n",
       "      <td>41</td>\n",
       "    </tr>\n",
       "    <tr>\n",
       "      <th>4</th>\n",
       "      <td>용수</td>\n",
       "      <td>48</td>\n",
       "    </tr>\n",
       "  </tbody>\n",
       "</table>\n",
       "</div>"
      ],
      "text/plain": [
       "  first_name  age\n",
       "0         길동   23\n",
       "1         철수   45\n",
       "2         성계   99\n",
       "3         지성   41\n",
       "4         용수   48"
      ]
     },
     "execution_count": 54,
     "metadata": {},
     "output_type": "execute_result"
    }
   ],
   "source": [
    "new_names.drop(columns=new_names.columns[0])"
   ]
  },
  {
   "cell_type": "markdown",
   "id": "cef4cb07-4b50-49e3-bf09-5a070c2a561c",
   "metadata": {},
   "source": [
    "코드를 보면 첫 컬럼에 희안한 값이 들어가 있죠? \n",
    "\n",
    "이는 index 정보를 담고 있는 column 입니다.\n",
    "\n",
    "이 지저분한 열을 처리하는 것엔 크게 몇 가지 방법이 있습니다.\n",
    "\n",
    "먼저 저장할 때 index를 포함하지 않는 것이죠. \n",
    "\n",
    "> names.to_csv('names.csv', index=False)\n",
    "\n",
    "아니면, 저 특정 열을 index 로 지정해서 처리하는 방법입니다.\n",
    "\n",
    "index_col 은 index로 사용할 컬럼의 위치가 몇 번째인지 지정합니다.\n",
    "\n",
    "> pd.read_csv('names.csv', index_col=0)\n"
   ]
  },
  {
   "cell_type": "markdown",
   "id": "0c0df5e0-4746-49a7-a691-04313f382e34",
   "metadata": {
    "tags": []
   },
   "source": [
    "# 3. 대용량 csv 파일 읽기\n",
    "\n",
    "첫 시간에 pandas는 인메모리 (in-memory), 즉 메모리에 모든 데이터를 불러와 한 PC에서 사용할 수 있다고 배웠습니다. 만약 메모리가 충분히 크다면 데이터를 불러와 처리하는 것이 어렵지 않겠지만, GB가 넘어가는 파일을 불러오게 되면 장담할 수 없습니다.\n",
    "\n",
    "이런 경우 할 수 있는 행동은\n",
    "\n",
    "1. 더 큰 메모리 (구매 or 클라우드)\n",
    "2. 파일 작게 자르기 (piece by piece)\n",
    "3. 메모리를 적게 소비하는 구조 만들기 \n",
    "4. 디스크 형태의 구조를 사용하기 (dask)\n",
    "\n",
    "여기서는 3번에 대해 배워보겠습니다.\n",
    "\n",
    "이 절에서는 diamonds 데이터를 이용합니다.\n"
   ]
  },
  {
   "cell_type": "markdown",
   "id": "4a8c594b-1df8-4f2e-822c-4258131200cc",
   "metadata": {},
   "source": [
    "# 메모리 적게 소비하는 구조 만들기"
   ]
  },
  {
   "cell_type": "code",
   "execution_count": 60,
   "id": "405faefe-b0b2-4be6-830a-f95961e2f2eb",
   "metadata": {},
   "outputs": [
    {
     "name": "stdout",
     "output_type": "stream",
     "text": [
      "<class 'pandas.core.frame.DataFrame'>\n",
      "RangeIndex: 1000 entries, 0 to 999\n",
      "Data columns (total 10 columns):\n",
      " #   Column   Non-Null Count  Dtype  \n",
      "---  ------   --------------  -----  \n",
      " 0   carat    1000 non-null   float64\n",
      " 1   cut      1000 non-null   object \n",
      " 2   color    1000 non-null   object \n",
      " 3   clarity  1000 non-null   object \n",
      " 4   depth    1000 non-null   float64\n",
      " 5   table    1000 non-null   float64\n",
      " 6   price    1000 non-null   int64  \n",
      " 7   x        1000 non-null   float64\n",
      " 8   y        1000 non-null   float64\n",
      " 9   z        1000 non-null   float64\n",
      "dtypes: float64(6), int64(1), object(3)\n",
      "memory usage: 78.2+ KB\n"
     ]
    }
   ],
   "source": [
    "diamonds = pd.read_csv('data/diamonds.csv', nrows=1000)\n",
    "diamonds.info()"
   ]
  },
  {
   "cell_type": "code",
   "execution_count": 62,
   "id": "d17ba490-64df-4cb4-b1f3-62ae34b8ad74",
   "metadata": {},
   "outputs": [
    {
     "data": {
      "text/plain": [
       "finfo(resolution=0.001, min=-6.55040e+04, max=6.55040e+04, dtype=float16)"
      ]
     },
     "execution_count": 62,
     "metadata": {},
     "output_type": "execute_result"
    }
   ],
   "source": [
    "np.finfo('float16')"
   ]
  },
  {
   "cell_type": "markdown",
   "id": "d089aa28-090b-4b23-97e1-afa1b10985f9",
   "metadata": {},
   "source": [
    "> resolution : 소수점 몇번재 자리까지?"
   ]
  },
  {
   "cell_type": "code",
   "execution_count": 63,
   "id": "787c3fe9-3817-4853-8494-9165f7e5077d",
   "metadata": {},
   "outputs": [
    {
     "data": {
      "text/html": [
       "<div>\n",
       "<style scoped>\n",
       "    .dataframe tbody tr th:only-of-type {\n",
       "        vertical-align: middle;\n",
       "    }\n",
       "\n",
       "    .dataframe tbody tr th {\n",
       "        vertical-align: top;\n",
       "    }\n",
       "\n",
       "    .dataframe thead th {\n",
       "        text-align: right;\n",
       "    }\n",
       "</style>\n",
       "<table border=\"1\" class=\"dataframe\">\n",
       "  <thead>\n",
       "    <tr style=\"text-align: right;\">\n",
       "      <th></th>\n",
       "      <th>carat</th>\n",
       "      <th>cut</th>\n",
       "      <th>color</th>\n",
       "      <th>clarity</th>\n",
       "      <th>depth</th>\n",
       "      <th>table</th>\n",
       "      <th>price</th>\n",
       "      <th>x</th>\n",
       "      <th>y</th>\n",
       "      <th>z</th>\n",
       "    </tr>\n",
       "  </thead>\n",
       "  <tbody>\n",
       "    <tr>\n",
       "      <th>0</th>\n",
       "      <td>0.23</td>\n",
       "      <td>Ideal</td>\n",
       "      <td>E</td>\n",
       "      <td>SI2</td>\n",
       "      <td>61.5</td>\n",
       "      <td>55.0</td>\n",
       "      <td>326</td>\n",
       "      <td>3.95</td>\n",
       "      <td>3.98</td>\n",
       "      <td>2.43</td>\n",
       "    </tr>\n",
       "    <tr>\n",
       "      <th>1</th>\n",
       "      <td>0.21</td>\n",
       "      <td>Premium</td>\n",
       "      <td>E</td>\n",
       "      <td>SI1</td>\n",
       "      <td>59.8</td>\n",
       "      <td>61.0</td>\n",
       "      <td>326</td>\n",
       "      <td>3.89</td>\n",
       "      <td>3.84</td>\n",
       "      <td>2.31</td>\n",
       "    </tr>\n",
       "    <tr>\n",
       "      <th>2</th>\n",
       "      <td>0.23</td>\n",
       "      <td>Good</td>\n",
       "      <td>E</td>\n",
       "      <td>VS1</td>\n",
       "      <td>56.9</td>\n",
       "      <td>65.0</td>\n",
       "      <td>327</td>\n",
       "      <td>4.05</td>\n",
       "      <td>4.07</td>\n",
       "      <td>2.31</td>\n",
       "    </tr>\n",
       "    <tr>\n",
       "      <th>3</th>\n",
       "      <td>0.29</td>\n",
       "      <td>Premium</td>\n",
       "      <td>I</td>\n",
       "      <td>VS2</td>\n",
       "      <td>62.4</td>\n",
       "      <td>58.0</td>\n",
       "      <td>334</td>\n",
       "      <td>4.20</td>\n",
       "      <td>4.23</td>\n",
       "      <td>2.63</td>\n",
       "    </tr>\n",
       "    <tr>\n",
       "      <th>4</th>\n",
       "      <td>0.31</td>\n",
       "      <td>Good</td>\n",
       "      <td>J</td>\n",
       "      <td>SI2</td>\n",
       "      <td>63.3</td>\n",
       "      <td>58.0</td>\n",
       "      <td>335</td>\n",
       "      <td>4.34</td>\n",
       "      <td>4.35</td>\n",
       "      <td>2.75</td>\n",
       "    </tr>\n",
       "  </tbody>\n",
       "</table>\n",
       "</div>"
      ],
      "text/plain": [
       "   carat      cut color clarity  depth  table  price     x     y     z\n",
       "0   0.23    Ideal     E     SI2   61.5   55.0    326  3.95  3.98  2.43\n",
       "1   0.21  Premium     E     SI1   59.8   61.0    326  3.89  3.84  2.31\n",
       "2   0.23     Good     E     VS1   56.9   65.0    327  4.05  4.07  2.31\n",
       "3   0.29  Premium     I     VS2   62.4   58.0    334  4.20  4.23  2.63\n",
       "4   0.31     Good     J     SI2   63.3   58.0    335  4.34  4.35  2.75"
      ]
     },
     "execution_count": 63,
     "metadata": {},
     "output_type": "execute_result"
    }
   ],
   "source": [
    "diamonds.head()"
   ]
  },
  {
   "cell_type": "code",
   "execution_count": 58,
   "id": "8e7f09e9-b236-4ffb-a7f9-f366dcf95e3f",
   "metadata": {},
   "outputs": [
    {
     "data": {
      "text/html": [
       "<div>\n",
       "<style scoped>\n",
       "    .dataframe tbody tr th:only-of-type {\n",
       "        vertical-align: middle;\n",
       "    }\n",
       "\n",
       "    .dataframe tbody tr th {\n",
       "        vertical-align: top;\n",
       "    }\n",
       "\n",
       "    .dataframe thead th {\n",
       "        text-align: right;\n",
       "    }\n",
       "</style>\n",
       "<table border=\"1\" class=\"dataframe\">\n",
       "  <thead>\n",
       "    <tr style=\"text-align: right;\">\n",
       "      <th></th>\n",
       "      <th>count</th>\n",
       "      <th>mean</th>\n",
       "      <th>std</th>\n",
       "      <th>min</th>\n",
       "      <th>25%</th>\n",
       "      <th>50%</th>\n",
       "      <th>75%</th>\n",
       "      <th>max</th>\n",
       "    </tr>\n",
       "  </thead>\n",
       "  <tbody>\n",
       "    <tr>\n",
       "      <th>carat</th>\n",
       "      <td>1000.0</td>\n",
       "      <td>0.68928</td>\n",
       "      <td>0.195291</td>\n",
       "      <td>0.20</td>\n",
       "      <td>0.70</td>\n",
       "      <td>0.71</td>\n",
       "      <td>0.79</td>\n",
       "      <td>1.27</td>\n",
       "    </tr>\n",
       "    <tr>\n",
       "      <th>depth</th>\n",
       "      <td>1000.0</td>\n",
       "      <td>61.72280</td>\n",
       "      <td>1.758879</td>\n",
       "      <td>53.00</td>\n",
       "      <td>60.90</td>\n",
       "      <td>61.80</td>\n",
       "      <td>62.60</td>\n",
       "      <td>69.50</td>\n",
       "    </tr>\n",
       "    <tr>\n",
       "      <th>table</th>\n",
       "      <td>1000.0</td>\n",
       "      <td>57.73470</td>\n",
       "      <td>2.467946</td>\n",
       "      <td>52.00</td>\n",
       "      <td>56.00</td>\n",
       "      <td>57.00</td>\n",
       "      <td>59.00</td>\n",
       "      <td>70.00</td>\n",
       "    </tr>\n",
       "    <tr>\n",
       "      <th>price</th>\n",
       "      <td>1000.0</td>\n",
       "      <td>2476.54000</td>\n",
       "      <td>839.575620</td>\n",
       "      <td>326.00</td>\n",
       "      <td>2777.00</td>\n",
       "      <td>2818.00</td>\n",
       "      <td>2856.00</td>\n",
       "      <td>2898.00</td>\n",
       "    </tr>\n",
       "    <tr>\n",
       "      <th>x</th>\n",
       "      <td>1000.0</td>\n",
       "      <td>5.60594</td>\n",
       "      <td>0.625173</td>\n",
       "      <td>3.79</td>\n",
       "      <td>5.64</td>\n",
       "      <td>5.77</td>\n",
       "      <td>5.92</td>\n",
       "      <td>7.12</td>\n",
       "    </tr>\n",
       "    <tr>\n",
       "      <th>y</th>\n",
       "      <td>1000.0</td>\n",
       "      <td>5.59918</td>\n",
       "      <td>0.611974</td>\n",
       "      <td>3.75</td>\n",
       "      <td>5.63</td>\n",
       "      <td>5.76</td>\n",
       "      <td>5.91</td>\n",
       "      <td>7.05</td>\n",
       "    </tr>\n",
       "    <tr>\n",
       "      <th>z</th>\n",
       "      <td>1000.0</td>\n",
       "      <td>3.45753</td>\n",
       "      <td>0.389819</td>\n",
       "      <td>2.27</td>\n",
       "      <td>3.45</td>\n",
       "      <td>3.55</td>\n",
       "      <td>3.64</td>\n",
       "      <td>4.33</td>\n",
       "    </tr>\n",
       "  </tbody>\n",
       "</table>\n",
       "</div>"
      ],
      "text/plain": [
       "        count        mean         std     min      25%      50%      75%  \\\n",
       "carat  1000.0     0.68928    0.195291    0.20     0.70     0.71     0.79   \n",
       "depth  1000.0    61.72280    1.758879   53.00    60.90    61.80    62.60   \n",
       "table  1000.0    57.73470    2.467946   52.00    56.00    57.00    59.00   \n",
       "price  1000.0  2476.54000  839.575620  326.00  2777.00  2818.00  2856.00   \n",
       "x      1000.0     5.60594    0.625173    3.79     5.64     5.77     5.92   \n",
       "y      1000.0     5.59918    0.611974    3.75     5.63     5.76     5.91   \n",
       "z      1000.0     3.45753    0.389819    2.27     3.45     3.55     3.64   \n",
       "\n",
       "           max  \n",
       "carat     1.27  \n",
       "depth    69.50  \n",
       "table    70.00  \n",
       "price  2898.00  \n",
       "x         7.12  \n",
       "y         7.05  \n",
       "z         4.33  "
      ]
     },
     "execution_count": 58,
     "metadata": {},
     "output_type": "execute_result"
    }
   ],
   "source": [
    "diamonds.describe().T"
   ]
  },
  {
   "cell_type": "markdown",
   "id": "3b9d505e-175d-4c23-a00b-5be5d226d60f",
   "metadata": {},
   "source": [
    "소수점 둘째 자리까지 쓰고 있으니 float16을 써도 전혀 무리가 없겠습니다.\n",
    "\n",
    "그러면, 모든 float64를 16으로 바꿔서 결과를 알아봅시다.\n",
    "\n",
    "read_csv 에서 dtype 을 아래 코드와 같이 설정할 수 있습니다."
   ]
  },
  {
   "cell_type": "code",
   "execution_count": 26,
   "id": "e487db1b-ca11-46df-9d4b-715bec6c0e11",
   "metadata": {},
   "outputs": [
    {
     "name": "stdout",
     "output_type": "stream",
     "text": [
      "<class 'pandas.core.frame.DataFrame'>\n",
      "RangeIndex: 1000 entries, 0 to 999\n",
      "Data columns (total 10 columns):\n",
      " #   Column   Non-Null Count  Dtype  \n",
      "---  ------   --------------  -----  \n",
      " 0   carat    1000 non-null   float16\n",
      " 1   cut      1000 non-null   object \n",
      " 2   color    1000 non-null   object \n",
      " 3   clarity  1000 non-null   object \n",
      " 4   depth    1000 non-null   float16\n",
      " 5   table    1000 non-null   float16\n",
      " 6   price    1000 non-null   int16  \n",
      " 7   x        1000 non-null   float16\n",
      " 8   y        1000 non-null   float16\n",
      " 9   z        1000 non-null   float16\n",
      "dtypes: float16(6), int16(1), object(3)\n",
      "memory usage: 37.2+ KB\n"
     ]
    }
   ],
   "source": [
    "diamonds2 = pd.read_csv('data/diamonds.csv', nrows=1000,\n",
    "           dtype={\n",
    "               'carat': np.float16,\n",
    "               'depth': np.float16,\n",
    "               'table': np.float16,\n",
    "               'x': np.float16,\n",
    "               'y': np.float16,\n",
    "               'z': np.float16,\n",
    "               'price': np.int16\n",
    "           })\n",
    "diamonds2.info()"
   ]
  },
  {
   "cell_type": "code",
   "execution_count": 67,
   "id": "9121590b-595d-4415-9c26-ff7b567fb7d2",
   "metadata": {},
   "outputs": [
    {
     "data": {
      "text/plain": [
       "0.48"
      ]
     },
     "execution_count": 67,
     "metadata": {},
     "output_type": "execute_result"
    }
   ],
   "source": [
    "round(37.2/78.2,2)\n",
    "#소수점 둘째까지~"
   ]
  },
  {
   "cell_type": "markdown",
   "id": "f5e3e6c9-02b7-4eed-a2e8-c4bb7d697e17",
   "metadata": {},
   "source": [
    "# describe object 형 묘사"
   ]
  },
  {
   "cell_type": "code",
   "execution_count": 74,
   "id": "83f328ff-42cf-460e-9e76-c956e978f966",
   "metadata": {},
   "outputs": [
    {
     "data": {
      "text/html": [
       "<div>\n",
       "<style scoped>\n",
       "    .dataframe tbody tr th:only-of-type {\n",
       "        vertical-align: middle;\n",
       "    }\n",
       "\n",
       "    .dataframe tbody tr th {\n",
       "        vertical-align: top;\n",
       "    }\n",
       "\n",
       "    .dataframe thead th {\n",
       "        text-align: right;\n",
       "    }\n",
       "</style>\n",
       "<table border=\"1\" class=\"dataframe\">\n",
       "  <thead>\n",
       "    <tr style=\"text-align: right;\">\n",
       "      <th></th>\n",
       "      <th>cut</th>\n",
       "      <th>color</th>\n",
       "      <th>clarity</th>\n",
       "    </tr>\n",
       "  </thead>\n",
       "  <tbody>\n",
       "    <tr>\n",
       "      <th>count</th>\n",
       "      <td>1000</td>\n",
       "      <td>1000</td>\n",
       "      <td>1000</td>\n",
       "    </tr>\n",
       "    <tr>\n",
       "      <th>unique</th>\n",
       "      <td>5</td>\n",
       "      <td>7</td>\n",
       "      <td>8</td>\n",
       "    </tr>\n",
       "    <tr>\n",
       "      <th>top</th>\n",
       "      <td>Ideal</td>\n",
       "      <td>E</td>\n",
       "      <td>SI1</td>\n",
       "    </tr>\n",
       "    <tr>\n",
       "      <th>freq</th>\n",
       "      <td>333</td>\n",
       "      <td>240</td>\n",
       "      <td>306</td>\n",
       "    </tr>\n",
       "  </tbody>\n",
       "</table>\n",
       "</div>"
      ],
      "text/plain": [
       "          cut color clarity\n",
       "count    1000  1000    1000\n",
       "unique      5     7       8\n",
       "top     Ideal     E     SI1\n",
       "freq      333   240     306"
      ]
     },
     "execution_count": 74,
     "metadata": {},
     "output_type": "execute_result"
    }
   ],
   "source": [
    "diamonds2.describe(include='O')\n",
    "\n",
    "# cut / color / clarity object 있음."
   ]
  },
  {
   "cell_type": "code",
   "execution_count": 77,
   "id": "16ee2ff0-7be3-4e67-9449-6a8f39cccb23",
   "metadata": {},
   "outputs": [
    {
     "data": {
      "text/html": [
       "<div>\n",
       "<style scoped>\n",
       "    .dataframe tbody tr th:only-of-type {\n",
       "        vertical-align: middle;\n",
       "    }\n",
       "\n",
       "    .dataframe tbody tr th {\n",
       "        vertical-align: top;\n",
       "    }\n",
       "\n",
       "    .dataframe thead th {\n",
       "        text-align: right;\n",
       "    }\n",
       "</style>\n",
       "<table border=\"1\" class=\"dataframe\">\n",
       "  <thead>\n",
       "    <tr style=\"text-align: right;\">\n",
       "      <th></th>\n",
       "      <th>carat</th>\n",
       "      <th>cut</th>\n",
       "      <th>color</th>\n",
       "      <th>clarity</th>\n",
       "      <th>depth</th>\n",
       "      <th>table</th>\n",
       "      <th>price</th>\n",
       "      <th>x</th>\n",
       "      <th>y</th>\n",
       "      <th>z</th>\n",
       "    </tr>\n",
       "  </thead>\n",
       "  <tbody>\n",
       "    <tr>\n",
       "      <th>0</th>\n",
       "      <td>0.23</td>\n",
       "      <td>Ideal</td>\n",
       "      <td>E</td>\n",
       "      <td>SI2</td>\n",
       "      <td>61.5</td>\n",
       "      <td>55.0</td>\n",
       "      <td>326</td>\n",
       "      <td>3.95</td>\n",
       "      <td>3.98</td>\n",
       "      <td>2.43</td>\n",
       "    </tr>\n",
       "    <tr>\n",
       "      <th>1</th>\n",
       "      <td>0.21</td>\n",
       "      <td>Premium</td>\n",
       "      <td>E</td>\n",
       "      <td>SI1</td>\n",
       "      <td>59.8</td>\n",
       "      <td>61.0</td>\n",
       "      <td>326</td>\n",
       "      <td>3.89</td>\n",
       "      <td>3.84</td>\n",
       "      <td>2.31</td>\n",
       "    </tr>\n",
       "    <tr>\n",
       "      <th>2</th>\n",
       "      <td>0.23</td>\n",
       "      <td>Good</td>\n",
       "      <td>E</td>\n",
       "      <td>VS1</td>\n",
       "      <td>56.9</td>\n",
       "      <td>65.0</td>\n",
       "      <td>327</td>\n",
       "      <td>4.05</td>\n",
       "      <td>4.07</td>\n",
       "      <td>2.31</td>\n",
       "    </tr>\n",
       "    <tr>\n",
       "      <th>3</th>\n",
       "      <td>0.29</td>\n",
       "      <td>Premium</td>\n",
       "      <td>I</td>\n",
       "      <td>VS2</td>\n",
       "      <td>62.4</td>\n",
       "      <td>58.0</td>\n",
       "      <td>334</td>\n",
       "      <td>4.20</td>\n",
       "      <td>4.23</td>\n",
       "      <td>2.63</td>\n",
       "    </tr>\n",
       "    <tr>\n",
       "      <th>4</th>\n",
       "      <td>0.31</td>\n",
       "      <td>Good</td>\n",
       "      <td>J</td>\n",
       "      <td>SI2</td>\n",
       "      <td>63.3</td>\n",
       "      <td>58.0</td>\n",
       "      <td>335</td>\n",
       "      <td>4.34</td>\n",
       "      <td>4.35</td>\n",
       "      <td>2.75</td>\n",
       "    </tr>\n",
       "  </tbody>\n",
       "</table>\n",
       "</div>"
      ],
      "text/plain": [
       "   carat      cut color clarity  depth  table  price     x     y     z\n",
       "0   0.23    Ideal     E     SI2   61.5   55.0    326  3.95  3.98  2.43\n",
       "1   0.21  Premium     E     SI1   59.8   61.0    326  3.89  3.84  2.31\n",
       "2   0.23     Good     E     VS1   56.9   65.0    327  4.05  4.07  2.31\n",
       "3   0.29  Premium     I     VS2   62.4   58.0    334  4.20  4.23  2.63\n",
       "4   0.31     Good     J     SI2   63.3   58.0    335  4.34  4.35  2.75"
      ]
     },
     "execution_count": 77,
     "metadata": {},
     "output_type": "execute_result"
    }
   ],
   "source": [
    "diamonds.head()"
   ]
  },
  {
   "cell_type": "code",
   "execution_count": 72,
   "id": "cff70724-8521-4223-86eb-97e710a3d218",
   "metadata": {},
   "outputs": [
    {
     "data": {
      "text/plain": [
       "Ideal        333\n",
       "Premium      290\n",
       "Very Good    226\n",
       "Good          89\n",
       "Fair          62\n",
       "Name: cut, dtype: int64"
      ]
     },
     "execution_count": 72,
     "metadata": {},
     "output_type": "execute_result"
    }
   ],
   "source": [
    "diamonds2.cut.value_counts()"
   ]
  },
  {
   "cell_type": "code",
   "execution_count": 73,
   "id": "2f28a1f5-a6aa-46b7-bb04-72b1a9a603a5",
   "metadata": {},
   "outputs": [
    {
     "data": {
      "text/plain": [
       "E    240\n",
       "F    226\n",
       "G    139\n",
       "D    129\n",
       "H    125\n",
       "I     95\n",
       "J     46\n",
       "Name: color, dtype: int64"
      ]
     },
     "execution_count": 73,
     "metadata": {},
     "output_type": "execute_result"
    }
   ],
   "source": [
    "diamonds2.color.value_counts()"
   ]
  },
  {
   "cell_type": "code",
   "execution_count": 78,
   "id": "c8f0b3bb-f2bf-4a03-886e-fc8a3558dca3",
   "metadata": {},
   "outputs": [
    {
     "data": {
      "text/plain": [
       "SI1     306\n",
       "VS2     218\n",
       "VS1     159\n",
       "SI2     154\n",
       "VVS2     62\n",
       "VVS1     58\n",
       "I1       29\n",
       "IF       14\n",
       "Name: clarity, dtype: int64"
      ]
     },
     "execution_count": 78,
     "metadata": {},
     "output_type": "execute_result"
    }
   ],
   "source": [
    "diamonds2.clarity.value_counts()\n"
   ]
  },
  {
   "cell_type": "markdown",
   "id": "3cd7c366-e8a4-4372-b08c-995ebba723a1",
   "metadata": {},
   "source": [
    "> 모두 범주형이라서 이럴 땐 object 보다 category 가 더 메모리 절약됨."
   ]
  },
  {
   "cell_type": "code",
   "execution_count": 29,
   "id": "5a969f62-e6f0-451c-ad9d-fbdbff224871",
   "metadata": {},
   "outputs": [
    {
     "name": "stdout",
     "output_type": "stream",
     "text": [
      "<class 'pandas.core.frame.DataFrame'>\n",
      "RangeIndex: 1000 entries, 0 to 999\n",
      "Data columns (total 10 columns):\n",
      " #   Column   Non-Null Count  Dtype   \n",
      "---  ------   --------------  -----   \n",
      " 0   carat    1000 non-null   float16 \n",
      " 1   cut      1000 non-null   category\n",
      " 2   color    1000 non-null   category\n",
      " 3   clarity  1000 non-null   category\n",
      " 4   depth    1000 non-null   float16 \n",
      " 5   table    1000 non-null   float16 \n",
      " 6   price    1000 non-null   int16   \n",
      " 7   x        1000 non-null   float16 \n",
      " 8   y        1000 non-null   float16 \n",
      " 9   z        1000 non-null   float16 \n",
      "dtypes: category(3), float16(6), int16(1)\n",
      "memory usage: 17.6 KB\n"
     ]
    }
   ],
   "source": [
    "diamonds3 = pd.read_csv('data/diamonds.csv', nrows=1000,\n",
    "           dtype={\n",
    "               'carat': np.float16,\n",
    "               'depth': np.float16,\n",
    "               'table': np.float16,\n",
    "               'x': np.float16,\n",
    "               'y': np.float16,\n",
    "               'z': np.float16,\n",
    "               'price': np.int16,\n",
    "               'color': 'category',\n",
    "               'cut': 'category',\n",
    "               'clarity': 'category'\n",
    "           })\n",
    "diamonds3.info()"
   ]
  },
  {
   "cell_type": "code",
   "execution_count": 30,
   "id": "c1d81826-30fc-4366-b34c-8672a3a650ef",
   "metadata": {},
   "outputs": [
    {
     "name": "stdout",
     "output_type": "stream",
     "text": [
      "<class 'pandas.core.frame.DataFrame'>\n",
      "RangeIndex: 1000 entries, 0 to 999\n",
      "Data columns (total 7 columns):\n",
      " #   Column   Non-Null Count  Dtype   \n",
      "---  ------   --------------  -----   \n",
      " 0   carat    1000 non-null   float16 \n",
      " 1   cut      1000 non-null   category\n",
      " 2   color    1000 non-null   category\n",
      " 3   clarity  1000 non-null   category\n",
      " 4   depth    1000 non-null   float16 \n",
      " 5   table    1000 non-null   float16 \n",
      " 6   price    1000 non-null   int16   \n",
      "dtypes: category(3), float16(3), int16(1)\n",
      "memory usage: 11.8 KB\n"
     ]
    }
   ],
   "source": [
    "cols = ['carat', 'cut', 'color', 'clarity', 'depth', 'table', 'price']\n",
    "\n",
    "diamonds4 = pd.read_csv('data/diamonds.csv', nrows=1000,\n",
    "           dtype={\n",
    "               'carat': np.float16,\n",
    "               'depth': np.float16,\n",
    "               'price': np.int16,\n",
    "               'table': np.float16,\n",
    "               'color': 'category',\n",
    "               'cut': 'category',\n",
    "               'clarity': 'category'\n",
    "           },\n",
    "            usecols=cols)\n",
    "diamonds4.info()"
   ]
  },
  {
   "cell_type": "code",
   "execution_count": 83,
   "id": "12b566d6-67e1-4e7a-837e-731e01bc4378",
   "metadata": {},
   "outputs": [
    {
     "name": "stdout",
     "output_type": "stream",
     "text": [
      "processed (200, 7) shape of df carat      0.22998\n",
      "cut          Ideal\n",
      "color            E\n",
      "clarity        SI2\n",
      "depth         61.5\n",
      "table         55.0\n",
      "price          326\n",
      "Name: 0, dtype: object\n",
      "processed (200, 7) shape of df carat       0.700195\n",
      "cut        Very Good\n",
      "color              E\n",
      "clarity          SI1\n",
      "depth       59.90625\n",
      "table           63.0\n",
      "price           2777\n",
      "Name: 200, dtype: object\n",
      "processed (200, 7) shape of df carat      0.300049\n",
      "cut            Good\n",
      "color             H\n",
      "clarity         SI1\n",
      "depth       63.8125\n",
      "table          55.0\n",
      "price           554\n",
      "Name: 400, dtype: object\n",
      "processed (200, 7) shape of df carat      0.700195\n",
      "cut         Premium\n",
      "color             F\n",
      "clarity         VS2\n",
      "depth      59.40625\n",
      "table          61.0\n",
      "price          2838\n",
      "Name: 600, dtype: object\n",
      "processed (200, 7) shape of df carat      1.219727\n",
      "cut         Premium\n",
      "color             E\n",
      "clarity          I1\n",
      "depth      60.90625\n",
      "table          57.0\n",
      "price          2862\n",
      "Name: 800, dtype: object\n"
     ]
    }
   ],
   "source": [
    "cols = ['carat', 'cut', 'color', 'clarity', 'depth', 'table', 'price']\n",
    "\n",
    "diamonds_iter = pd.read_csv('data/diamonds.csv', nrows=1000,\n",
    "           dtype={\n",
    "               'carat': np.float16,\n",
    "               'depth': np.float16,\n",
    "               'price': np.int16,\n",
    "               'color': 'category',\n",
    "               'cut': 'category',\n",
    "               'clarity': 'category'\n",
    "           },\n",
    "            usecols=cols,\n",
    "            chunksize=200 #한번에 200row씩 불러옴.\n",
    "        )\n",
    "\n",
    "def process(df):\n",
    "    return f'processed {df.shape} shape of df {df.iloc[0, :]}'\n",
    "# df 형태로 0번째 row 부터 쭉\n",
    "\n",
    "for chunk in diamonds_iter:\n",
    "    print(process(chunk))"
   ]
  },
  {
   "cell_type": "markdown",
   "id": "080b313c-b519-4523-9589-f2ec7af694df",
   "metadata": {},
   "source": [
    "# 엑셀 파일 읽기/쓰기"
   ]
  },
  {
   "cell_type": "code",
   "execution_count": 32,
   "id": "73728645-0822-4bfe-9881-141c09a44df9",
   "metadata": {},
   "outputs": [],
   "source": [
    "diamonds.to_excel('dia.xlsx', sheet_name='test')"
   ]
  },
  {
   "cell_type": "code",
   "execution_count": 33,
   "id": "7bb36071-cc1b-4cb6-bc90-43888e7047b6",
   "metadata": {},
   "outputs": [
    {
     "data": {
      "text/html": [
       "<div>\n",
       "<style scoped>\n",
       "    .dataframe tbody tr th:only-of-type {\n",
       "        vertical-align: middle;\n",
       "    }\n",
       "\n",
       "    .dataframe tbody tr th {\n",
       "        vertical-align: top;\n",
       "    }\n",
       "\n",
       "    .dataframe thead th {\n",
       "        text-align: right;\n",
       "    }\n",
       "</style>\n",
       "<table border=\"1\" class=\"dataframe\">\n",
       "  <thead>\n",
       "    <tr style=\"text-align: right;\">\n",
       "      <th></th>\n",
       "      <th>Unnamed: 0</th>\n",
       "      <th>carat</th>\n",
       "      <th>cut</th>\n",
       "      <th>color</th>\n",
       "      <th>clarity</th>\n",
       "      <th>depth</th>\n",
       "      <th>table</th>\n",
       "      <th>price</th>\n",
       "      <th>x</th>\n",
       "      <th>y</th>\n",
       "      <th>z</th>\n",
       "    </tr>\n",
       "  </thead>\n",
       "  <tbody>\n",
       "    <tr>\n",
       "      <th>0</th>\n",
       "      <td>0</td>\n",
       "      <td>0.23</td>\n",
       "      <td>Ideal</td>\n",
       "      <td>E</td>\n",
       "      <td>SI2</td>\n",
       "      <td>61.5</td>\n",
       "      <td>55.0</td>\n",
       "      <td>326</td>\n",
       "      <td>3.95</td>\n",
       "      <td>3.98</td>\n",
       "      <td>2.43</td>\n",
       "    </tr>\n",
       "    <tr>\n",
       "      <th>1</th>\n",
       "      <td>1</td>\n",
       "      <td>0.21</td>\n",
       "      <td>Premium</td>\n",
       "      <td>E</td>\n",
       "      <td>SI1</td>\n",
       "      <td>59.8</td>\n",
       "      <td>61.0</td>\n",
       "      <td>326</td>\n",
       "      <td>3.89</td>\n",
       "      <td>3.84</td>\n",
       "      <td>2.31</td>\n",
       "    </tr>\n",
       "    <tr>\n",
       "      <th>2</th>\n",
       "      <td>2</td>\n",
       "      <td>0.23</td>\n",
       "      <td>Good</td>\n",
       "      <td>E</td>\n",
       "      <td>VS1</td>\n",
       "      <td>56.9</td>\n",
       "      <td>65.0</td>\n",
       "      <td>327</td>\n",
       "      <td>4.05</td>\n",
       "      <td>4.07</td>\n",
       "      <td>2.31</td>\n",
       "    </tr>\n",
       "    <tr>\n",
       "      <th>3</th>\n",
       "      <td>3</td>\n",
       "      <td>0.29</td>\n",
       "      <td>Premium</td>\n",
       "      <td>I</td>\n",
       "      <td>VS2</td>\n",
       "      <td>62.4</td>\n",
       "      <td>58.0</td>\n",
       "      <td>334</td>\n",
       "      <td>4.20</td>\n",
       "      <td>4.23</td>\n",
       "      <td>2.63</td>\n",
       "    </tr>\n",
       "    <tr>\n",
       "      <th>4</th>\n",
       "      <td>4</td>\n",
       "      <td>0.31</td>\n",
       "      <td>Good</td>\n",
       "      <td>J</td>\n",
       "      <td>SI2</td>\n",
       "      <td>63.3</td>\n",
       "      <td>58.0</td>\n",
       "      <td>335</td>\n",
       "      <td>4.34</td>\n",
       "      <td>4.35</td>\n",
       "      <td>2.75</td>\n",
       "    </tr>\n",
       "    <tr>\n",
       "      <th>...</th>\n",
       "      <td>...</td>\n",
       "      <td>...</td>\n",
       "      <td>...</td>\n",
       "      <td>...</td>\n",
       "      <td>...</td>\n",
       "      <td>...</td>\n",
       "      <td>...</td>\n",
       "      <td>...</td>\n",
       "      <td>...</td>\n",
       "      <td>...</td>\n",
       "      <td>...</td>\n",
       "    </tr>\n",
       "    <tr>\n",
       "      <th>995</th>\n",
       "      <td>995</td>\n",
       "      <td>0.54</td>\n",
       "      <td>Ideal</td>\n",
       "      <td>D</td>\n",
       "      <td>VVS2</td>\n",
       "      <td>61.4</td>\n",
       "      <td>52.0</td>\n",
       "      <td>2897</td>\n",
       "      <td>5.30</td>\n",
       "      <td>5.34</td>\n",
       "      <td>3.26</td>\n",
       "    </tr>\n",
       "    <tr>\n",
       "      <th>996</th>\n",
       "      <td>996</td>\n",
       "      <td>0.72</td>\n",
       "      <td>Ideal</td>\n",
       "      <td>E</td>\n",
       "      <td>SI1</td>\n",
       "      <td>62.5</td>\n",
       "      <td>55.0</td>\n",
       "      <td>2897</td>\n",
       "      <td>5.69</td>\n",
       "      <td>5.74</td>\n",
       "      <td>3.57</td>\n",
       "    </tr>\n",
       "    <tr>\n",
       "      <th>997</th>\n",
       "      <td>997</td>\n",
       "      <td>0.72</td>\n",
       "      <td>Good</td>\n",
       "      <td>F</td>\n",
       "      <td>VS1</td>\n",
       "      <td>59.4</td>\n",
       "      <td>61.0</td>\n",
       "      <td>2897</td>\n",
       "      <td>5.82</td>\n",
       "      <td>5.89</td>\n",
       "      <td>3.48</td>\n",
       "    </tr>\n",
       "    <tr>\n",
       "      <th>998</th>\n",
       "      <td>998</td>\n",
       "      <td>0.74</td>\n",
       "      <td>Premium</td>\n",
       "      <td>D</td>\n",
       "      <td>VS2</td>\n",
       "      <td>61.8</td>\n",
       "      <td>58.0</td>\n",
       "      <td>2897</td>\n",
       "      <td>5.81</td>\n",
       "      <td>5.77</td>\n",
       "      <td>3.58</td>\n",
       "    </tr>\n",
       "    <tr>\n",
       "      <th>999</th>\n",
       "      <td>999</td>\n",
       "      <td>1.12</td>\n",
       "      <td>Premium</td>\n",
       "      <td>J</td>\n",
       "      <td>SI2</td>\n",
       "      <td>60.6</td>\n",
       "      <td>59.0</td>\n",
       "      <td>2898</td>\n",
       "      <td>6.68</td>\n",
       "      <td>6.61</td>\n",
       "      <td>4.03</td>\n",
       "    </tr>\n",
       "  </tbody>\n",
       "</table>\n",
       "<p>1000 rows × 11 columns</p>\n",
       "</div>"
      ],
      "text/plain": [
       "     Unnamed: 0  carat      cut color clarity  depth  table  price     x  \\\n",
       "0             0   0.23    Ideal     E     SI2   61.5   55.0    326  3.95   \n",
       "1             1   0.21  Premium     E     SI1   59.8   61.0    326  3.89   \n",
       "2             2   0.23     Good     E     VS1   56.9   65.0    327  4.05   \n",
       "3             3   0.29  Premium     I     VS2   62.4   58.0    334  4.20   \n",
       "4             4   0.31     Good     J     SI2   63.3   58.0    335  4.34   \n",
       "..          ...    ...      ...   ...     ...    ...    ...    ...   ...   \n",
       "995         995   0.54    Ideal     D    VVS2   61.4   52.0   2897  5.30   \n",
       "996         996   0.72    Ideal     E     SI1   62.5   55.0   2897  5.69   \n",
       "997         997   0.72     Good     F     VS1   59.4   61.0   2897  5.82   \n",
       "998         998   0.74  Premium     D     VS2   61.8   58.0   2897  5.81   \n",
       "999         999   1.12  Premium     J     SI2   60.6   59.0   2898  6.68   \n",
       "\n",
       "        y     z  \n",
       "0    3.98  2.43  \n",
       "1    3.84  2.31  \n",
       "2    4.07  2.31  \n",
       "3    4.23  2.63  \n",
       "4    4.35  2.75  \n",
       "..    ...   ...  \n",
       "995  5.34  3.26  \n",
       "996  5.74  3.57  \n",
       "997  5.89  3.48  \n",
       "998  5.77  3.58  \n",
       "999  6.61  4.03  \n",
       "\n",
       "[1000 rows x 11 columns]"
      ]
     },
     "execution_count": 33,
     "metadata": {},
     "output_type": "execute_result"
    }
   ],
   "source": [
    "dia = pd.read_excel('dia.xlsx')\n",
    "dia"
   ]
  },
  {
   "cell_type": "code",
   "execution_count": null,
   "id": "6ba6f3cd-032f-4d29-b556-34947e2e5dc9",
   "metadata": {},
   "outputs": [],
   "source": []
  },
  {
   "cell_type": "code",
   "execution_count": null,
   "id": "2cbaaaf6-7793-4869-8129-51551afde410",
   "metadata": {},
   "outputs": [],
   "source": []
  },
  {
   "cell_type": "code",
   "execution_count": null,
   "id": "cca9add9-a7a0-490d-8765-af59d06c5ba1",
   "metadata": {},
   "outputs": [],
   "source": []
  }
 ],
 "metadata": {
  "kernelspec": {
   "display_name": "Python 3 (ipykernel)",
   "language": "python",
   "name": "python3"
  },
  "language_info": {
   "codemirror_mode": {
    "name": "ipython",
    "version": 3
   },
   "file_extension": ".py",
   "mimetype": "text/x-python",
   "name": "python",
   "nbconvert_exporter": "python",
   "pygments_lexer": "ipython3",
   "version": "3.9.13"
  }
 },
 "nbformat": 4,
 "nbformat_minor": 5
}
