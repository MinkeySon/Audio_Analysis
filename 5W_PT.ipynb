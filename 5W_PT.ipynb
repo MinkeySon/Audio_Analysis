{
 "cells": [
  {
   "cell_type": "code",
   "execution_count": 6,
   "id": "cfd66ec5-3642-4f24-8942-1bb2f4179e29",
   "metadata": {},
   "outputs": [],
   "source": [
    "import pandas as pd\n",
    "import numpy as np"
   ]
  },
  {
   "cell_type": "code",
   "execution_count": 7,
   "id": "bd49325d",
   "metadata": {},
   "outputs": [],
   "source": [
    "import seaborn as sns"
   ]
  },
  {
   "cell_type": "code",
   "execution_count": 8,
   "id": "8c2d6009-ac14-4c17-aabe-54df6b8f5b9e",
   "metadata": {},
   "outputs": [
    {
     "name": "stderr",
     "output_type": "stream",
     "text": [
      "/var/folders/_l/nhxw713s4yx4h9jgpqkyf7qw0000gn/T/ipykernel_1208/1669104439.py:1: DtypeWarning: Columns (70,71,72,73,74,76,79) have mixed types. Specify dtype option on import or set low_memory=False.\n",
      "  fueleco = pd.read_csv(\"data/vehicles.csv.zip\")\n"
     ]
    }
   ],
   "source": [
    "fueleco = pd.read_csv(\"data/vehicles.csv.zip\")"
   ]
  },
  {
   "cell_type": "markdown",
   "id": "80f31ec8-3a3a-4222-85a4-71ff428e12e7",
   "metadata": {},
   "source": [
    "> **혼합된 데이터 type때문**"
   ]
  },
  {
   "cell_type": "code",
   "execution_count": 9,
   "id": "aa6ac961-15a3-40e1-a05a-339ab15c8b5d",
   "metadata": {},
   "outputs": [
    {
     "data": {
      "text/html": [
       "<div>\n",
       "<style scoped>\n",
       "    .dataframe tbody tr th:only-of-type {\n",
       "        vertical-align: middle;\n",
       "    }\n",
       "\n",
       "    .dataframe tbody tr th {\n",
       "        vertical-align: top;\n",
       "    }\n",
       "\n",
       "    .dataframe thead th {\n",
       "        text-align: right;\n",
       "    }\n",
       "</style>\n",
       "<table border=\"1\" class=\"dataframe\">\n",
       "  <thead>\n",
       "    <tr style=\"text-align: right;\">\n",
       "      <th></th>\n",
       "      <th>barrels08</th>\n",
       "      <th>barrelsA08</th>\n",
       "      <th>charge120</th>\n",
       "      <th>charge240</th>\n",
       "      <th>city08</th>\n",
       "      <th>city08U</th>\n",
       "      <th>cityA08</th>\n",
       "      <th>cityA08U</th>\n",
       "      <th>cityCD</th>\n",
       "      <th>cityE</th>\n",
       "      <th>...</th>\n",
       "      <th>mfrCode</th>\n",
       "      <th>c240Dscr</th>\n",
       "      <th>charge240b</th>\n",
       "      <th>c240bDscr</th>\n",
       "      <th>createdOn</th>\n",
       "      <th>modifiedOn</th>\n",
       "      <th>startStop</th>\n",
       "      <th>phevCity</th>\n",
       "      <th>phevHwy</th>\n",
       "      <th>phevComb</th>\n",
       "    </tr>\n",
       "  </thead>\n",
       "  <tbody>\n",
       "    <tr>\n",
       "      <th>0</th>\n",
       "      <td>15.695714</td>\n",
       "      <td>0.0</td>\n",
       "      <td>0.0</td>\n",
       "      <td>0.0</td>\n",
       "      <td>19</td>\n",
       "      <td>0.0</td>\n",
       "      <td>0</td>\n",
       "      <td>0.0</td>\n",
       "      <td>0.0</td>\n",
       "      <td>0.0</td>\n",
       "      <td>...</td>\n",
       "      <td>NaN</td>\n",
       "      <td>NaN</td>\n",
       "      <td>0.0</td>\n",
       "      <td>NaN</td>\n",
       "      <td>Tue Jan 01 00:00:00 EST 2013</td>\n",
       "      <td>Tue Jan 01 00:00:00 EST 2013</td>\n",
       "      <td>NaN</td>\n",
       "      <td>0</td>\n",
       "      <td>0</td>\n",
       "      <td>0</td>\n",
       "    </tr>\n",
       "    <tr>\n",
       "      <th>1</th>\n",
       "      <td>29.964545</td>\n",
       "      <td>0.0</td>\n",
       "      <td>0.0</td>\n",
       "      <td>0.0</td>\n",
       "      <td>9</td>\n",
       "      <td>0.0</td>\n",
       "      <td>0</td>\n",
       "      <td>0.0</td>\n",
       "      <td>0.0</td>\n",
       "      <td>0.0</td>\n",
       "      <td>...</td>\n",
       "      <td>NaN</td>\n",
       "      <td>NaN</td>\n",
       "      <td>0.0</td>\n",
       "      <td>NaN</td>\n",
       "      <td>Tue Jan 01 00:00:00 EST 2013</td>\n",
       "      <td>Tue Jan 01 00:00:00 EST 2013</td>\n",
       "      <td>NaN</td>\n",
       "      <td>0</td>\n",
       "      <td>0</td>\n",
       "      <td>0</td>\n",
       "    </tr>\n",
       "    <tr>\n",
       "      <th>2</th>\n",
       "      <td>12.207778</td>\n",
       "      <td>0.0</td>\n",
       "      <td>0.0</td>\n",
       "      <td>0.0</td>\n",
       "      <td>23</td>\n",
       "      <td>0.0</td>\n",
       "      <td>0</td>\n",
       "      <td>0.0</td>\n",
       "      <td>0.0</td>\n",
       "      <td>0.0</td>\n",
       "      <td>...</td>\n",
       "      <td>NaN</td>\n",
       "      <td>NaN</td>\n",
       "      <td>0.0</td>\n",
       "      <td>NaN</td>\n",
       "      <td>Tue Jan 01 00:00:00 EST 2013</td>\n",
       "      <td>Tue Jan 01 00:00:00 EST 2013</td>\n",
       "      <td>NaN</td>\n",
       "      <td>0</td>\n",
       "      <td>0</td>\n",
       "      <td>0</td>\n",
       "    </tr>\n",
       "    <tr>\n",
       "      <th>3</th>\n",
       "      <td>29.964545</td>\n",
       "      <td>0.0</td>\n",
       "      <td>0.0</td>\n",
       "      <td>0.0</td>\n",
       "      <td>10</td>\n",
       "      <td>0.0</td>\n",
       "      <td>0</td>\n",
       "      <td>0.0</td>\n",
       "      <td>0.0</td>\n",
       "      <td>0.0</td>\n",
       "      <td>...</td>\n",
       "      <td>NaN</td>\n",
       "      <td>NaN</td>\n",
       "      <td>0.0</td>\n",
       "      <td>NaN</td>\n",
       "      <td>Tue Jan 01 00:00:00 EST 2013</td>\n",
       "      <td>Tue Jan 01 00:00:00 EST 2013</td>\n",
       "      <td>NaN</td>\n",
       "      <td>0</td>\n",
       "      <td>0</td>\n",
       "      <td>0</td>\n",
       "    </tr>\n",
       "    <tr>\n",
       "      <th>4</th>\n",
       "      <td>17.347895</td>\n",
       "      <td>0.0</td>\n",
       "      <td>0.0</td>\n",
       "      <td>0.0</td>\n",
       "      <td>17</td>\n",
       "      <td>0.0</td>\n",
       "      <td>0</td>\n",
       "      <td>0.0</td>\n",
       "      <td>0.0</td>\n",
       "      <td>0.0</td>\n",
       "      <td>...</td>\n",
       "      <td>NaN</td>\n",
       "      <td>NaN</td>\n",
       "      <td>0.0</td>\n",
       "      <td>NaN</td>\n",
       "      <td>Tue Jan 01 00:00:00 EST 2013</td>\n",
       "      <td>Tue Jan 01 00:00:00 EST 2013</td>\n",
       "      <td>NaN</td>\n",
       "      <td>0</td>\n",
       "      <td>0</td>\n",
       "      <td>0</td>\n",
       "    </tr>\n",
       "  </tbody>\n",
       "</table>\n",
       "<p>5 rows × 83 columns</p>\n",
       "</div>"
      ],
      "text/plain": [
       "   barrels08  barrelsA08  charge120  charge240  city08  city08U  cityA08   \n",
       "0  15.695714         0.0        0.0        0.0      19      0.0        0  \\\n",
       "1  29.964545         0.0        0.0        0.0       9      0.0        0   \n",
       "2  12.207778         0.0        0.0        0.0      23      0.0        0   \n",
       "3  29.964545         0.0        0.0        0.0      10      0.0        0   \n",
       "4  17.347895         0.0        0.0        0.0      17      0.0        0   \n",
       "\n",
       "   cityA08U  cityCD  cityE  ...  mfrCode  c240Dscr  charge240b  c240bDscr   \n",
       "0       0.0     0.0    0.0  ...      NaN       NaN         0.0        NaN  \\\n",
       "1       0.0     0.0    0.0  ...      NaN       NaN         0.0        NaN   \n",
       "2       0.0     0.0    0.0  ...      NaN       NaN         0.0        NaN   \n",
       "3       0.0     0.0    0.0  ...      NaN       NaN         0.0        NaN   \n",
       "4       0.0     0.0    0.0  ...      NaN       NaN         0.0        NaN   \n",
       "\n",
       "                      createdOn                    modifiedOn  startStop   \n",
       "0  Tue Jan 01 00:00:00 EST 2013  Tue Jan 01 00:00:00 EST 2013        NaN  \\\n",
       "1  Tue Jan 01 00:00:00 EST 2013  Tue Jan 01 00:00:00 EST 2013        NaN   \n",
       "2  Tue Jan 01 00:00:00 EST 2013  Tue Jan 01 00:00:00 EST 2013        NaN   \n",
       "3  Tue Jan 01 00:00:00 EST 2013  Tue Jan 01 00:00:00 EST 2013        NaN   \n",
       "4  Tue Jan 01 00:00:00 EST 2013  Tue Jan 01 00:00:00 EST 2013        NaN   \n",
       "\n",
       "   phevCity  phevHwy  phevComb  \n",
       "0         0        0         0  \n",
       "1         0        0         0  \n",
       "2         0        0         0  \n",
       "3         0        0         0  \n",
       "4         0        0         0  \n",
       "\n",
       "[5 rows x 83 columns]"
      ]
     },
     "execution_count": 9,
     "metadata": {},
     "output_type": "execute_result"
    }
   ],
   "source": [
    "fueleco.head()"
   ]
  },
  {
   "cell_type": "code",
   "execution_count": 10,
   "id": "afcbada0-064b-4f6a-899c-418483212e70",
   "metadata": {
    "scrolled": true,
    "tags": []
   },
   "outputs": [
    {
     "name": "stdout",
     "output_type": "stream",
     "text": [
      "<class 'pandas.core.frame.DataFrame'>\n",
      "RangeIndex: 43418 entries, 0 to 43417\n",
      "Data columns (total 83 columns):\n",
      " #   Column           Non-Null Count  Dtype  \n",
      "---  ------           --------------  -----  \n",
      " 0   barrels08        43418 non-null  float64\n",
      " 1   barrelsA08       43418 non-null  float64\n",
      " 2   charge120        43418 non-null  float64\n",
      " 3   charge240        43418 non-null  float64\n",
      " 4   city08           43418 non-null  int64  \n",
      " 5   city08U          43418 non-null  float64\n",
      " 6   cityA08          43418 non-null  int64  \n",
      " 7   cityA08U         43418 non-null  float64\n",
      " 8   cityCD           43418 non-null  float64\n",
      " 9   cityE            43418 non-null  float64\n",
      " 10  cityUF           43418 non-null  float64\n",
      " 11  co2              43418 non-null  int64  \n",
      " 12  co2A             43418 non-null  int64  \n",
      " 13  co2TailpipeAGpm  43418 non-null  float64\n",
      " 14  co2TailpipeGpm   43418 non-null  float64\n",
      " 15  comb08           43418 non-null  int64  \n",
      " 16  comb08U          43418 non-null  float64\n",
      " 17  combA08          43418 non-null  int64  \n",
      " 18  combA08U         43418 non-null  float64\n",
      " 19  combE            43418 non-null  float64\n",
      " 20  combinedCD       43418 non-null  float64\n",
      " 21  combinedUF       43418 non-null  float64\n",
      " 22  cylinders        43139 non-null  float64\n",
      " 23  displ            43141 non-null  float64\n",
      " 24  drive            42232 non-null  object \n",
      " 25  engId            43418 non-null  int64  \n",
      " 26  eng_dscr         26887 non-null  object \n",
      " 27  feScore          43418 non-null  int64  \n",
      " 28  fuelCost08       43418 non-null  int64  \n",
      " 29  fuelCostA08      43418 non-null  int64  \n",
      " 30  fuelType         43418 non-null  object \n",
      " 31  fuelType1        43418 non-null  object \n",
      " 32  ghgScore         43418 non-null  int64  \n",
      " 33  ghgScoreA        43418 non-null  int64  \n",
      " 34  highway08        43418 non-null  int64  \n",
      " 35  highway08U       43418 non-null  float64\n",
      " 36  highwayA08       43418 non-null  int64  \n",
      " 37  highwayA08U      43418 non-null  float64\n",
      " 38  highwayCD        43418 non-null  float64\n",
      " 39  highwayE         43418 non-null  float64\n",
      " 40  highwayUF        43418 non-null  float64\n",
      " 41  hlv              43418 non-null  int64  \n",
      " 42  hpv              43418 non-null  int64  \n",
      " 43  id               43418 non-null  int64  \n",
      " 44  lv2              43418 non-null  int64  \n",
      " 45  lv4              43418 non-null  int64  \n",
      " 46  make             43418 non-null  object \n",
      " 47  model            43418 non-null  object \n",
      " 48  mpgData          43400 non-null  object \n",
      " 49  phevBlended      43418 non-null  bool   \n",
      " 50  pv2              43418 non-null  int64  \n",
      " 51  pv4              43418 non-null  int64  \n",
      " 52  range            43418 non-null  int64  \n",
      " 53  rangeCity        43418 non-null  float64\n",
      " 54  rangeCityA       43418 non-null  float64\n",
      " 55  rangeHwy         43418 non-null  float64\n",
      " 56  rangeHwyA        43418 non-null  float64\n",
      " 57  trany            43407 non-null  object \n",
      " 58  UCity            43418 non-null  float64\n",
      " 59  UCityA           43418 non-null  float64\n",
      " 60  UHighway         43418 non-null  float64\n",
      " 61  UHighwayA        43418 non-null  float64\n",
      " 62  VClass           43418 non-null  object \n",
      " 63  year             43418 non-null  int64  \n",
      " 64  youSaveSpend     43418 non-null  int64  \n",
      " 65  guzzler          2558 non-null   object \n",
      " 66  trans_dscr       15044 non-null  object \n",
      " 67  tCharger         8143 non-null   object \n",
      " 68  sCharger         916 non-null    object \n",
      " 69  atvType          3987 non-null   object \n",
      " 70  fuelType2        1731 non-null   object \n",
      " 71  rangeA           1726 non-null   object \n",
      " 72  evMotor          1221 non-null   object \n",
      " 73  mfrCode          12610 non-null  object \n",
      " 74  c240Dscr         114 non-null    object \n",
      " 75  charge240b       43418 non-null  float64\n",
      " 76  c240bDscr        108 non-null    object \n",
      " 77  createdOn        43418 non-null  object \n",
      " 78  modifiedOn       43418 non-null  object \n",
      " 79  startStop        11729 non-null  object \n",
      " 80  phevCity         43418 non-null  int64  \n",
      " 81  phevHwy          43418 non-null  int64  \n",
      " 82  phevComb         43418 non-null  int64  \n",
      "dtypes: bool(1), float64(32), int64(27), object(23)\n",
      "memory usage: 27.2+ MB\n"
     ]
    }
   ],
   "source": [
    "fueleco.info()"
   ]
  },
  {
   "cell_type": "code",
   "execution_count": 11,
   "id": "28d5a5d1-38d4-4829-809b-89da060f7d80",
   "metadata": {},
   "outputs": [
    {
     "data": {
      "text/plain": [
       "0.13303876522257438"
      ]
     },
     "execution_count": 11,
     "metadata": {},
     "output_type": "execute_result"
    }
   ],
   "source": [
    "fueleco.isna().sum().sum()/(fueleco.shape[0] * fueleco.shape[1])\n",
    "#nan의 비율이 나옴!"
   ]
  },
  {
   "cell_type": "code",
   "execution_count": 12,
   "id": "f2033a20-f34c-41f0-bead-0bf5fa35f786",
   "metadata": {},
   "outputs": [
    {
     "data": {
      "text/html": [
       "<div>\n",
       "<style scoped>\n",
       "    .dataframe tbody tr th:only-of-type {\n",
       "        vertical-align: middle;\n",
       "    }\n",
       "\n",
       "    .dataframe tbody tr th {\n",
       "        vertical-align: top;\n",
       "    }\n",
       "\n",
       "    .dataframe thead th {\n",
       "        text-align: right;\n",
       "    }\n",
       "</style>\n",
       "<table border=\"1\" class=\"dataframe\">\n",
       "  <thead>\n",
       "    <tr style=\"text-align: right;\">\n",
       "      <th></th>\n",
       "      <th>count</th>\n",
       "      <th>mean</th>\n",
       "      <th>std</th>\n",
       "      <th>min</th>\n",
       "      <th>25%</th>\n",
       "      <th>50%</th>\n",
       "      <th>75%</th>\n",
       "      <th>max</th>\n",
       "    </tr>\n",
       "  </thead>\n",
       "  <tbody>\n",
       "    <tr>\n",
       "      <th>barrels08</th>\n",
       "      <td>43418.0</td>\n",
       "      <td>17.132865</td>\n",
       "      <td>4.678481</td>\n",
       "      <td>0.06</td>\n",
       "      <td>14.33087</td>\n",
       "      <td>16.4805</td>\n",
       "      <td>19.388824</td>\n",
       "      <td>47.087143</td>\n",
       "    </tr>\n",
       "    <tr>\n",
       "      <th>barrelsA08</th>\n",
       "      <td>43418.0</td>\n",
       "      <td>0.221869</td>\n",
       "      <td>1.142116</td>\n",
       "      <td>0.00</td>\n",
       "      <td>0.00000</td>\n",
       "      <td>0.0000</td>\n",
       "      <td>0.000000</td>\n",
       "      <td>18.311667</td>\n",
       "    </tr>\n",
       "    <tr>\n",
       "      <th>charge120</th>\n",
       "      <td>43418.0</td>\n",
       "      <td>0.000000</td>\n",
       "      <td>0.000000</td>\n",
       "      <td>0.00</td>\n",
       "      <td>0.00000</td>\n",
       "      <td>0.0000</td>\n",
       "      <td>0.000000</td>\n",
       "      <td>0.000000</td>\n",
       "    </tr>\n",
       "    <tr>\n",
       "      <th>charge240</th>\n",
       "      <td>43418.0</td>\n",
       "      <td>0.066276</td>\n",
       "      <td>0.739613</td>\n",
       "      <td>0.00</td>\n",
       "      <td>0.00000</td>\n",
       "      <td>0.0000</td>\n",
       "      <td>0.000000</td>\n",
       "      <td>15.300000</td>\n",
       "    </tr>\n",
       "    <tr>\n",
       "      <th>city08</th>\n",
       "      <td>43418.0</td>\n",
       "      <td>18.654521</td>\n",
       "      <td>8.750168</td>\n",
       "      <td>6.00</td>\n",
       "      <td>15.00000</td>\n",
       "      <td>17.0000</td>\n",
       "      <td>21.000000</td>\n",
       "      <td>150.000000</td>\n",
       "    </tr>\n",
       "  </tbody>\n",
       "</table>\n",
       "</div>"
      ],
      "text/plain": [
       "              count       mean       std   min       25%      50%        75%   \n",
       "barrels08   43418.0  17.132865  4.678481  0.06  14.33087  16.4805  19.388824  \\\n",
       "barrelsA08  43418.0   0.221869  1.142116  0.00   0.00000   0.0000   0.000000   \n",
       "charge120   43418.0   0.000000  0.000000  0.00   0.00000   0.0000   0.000000   \n",
       "charge240   43418.0   0.066276  0.739613  0.00   0.00000   0.0000   0.000000   \n",
       "city08      43418.0  18.654521  8.750168  6.00  15.00000  17.0000  21.000000   \n",
       "\n",
       "                   max  \n",
       "barrels08    47.087143  \n",
       "barrelsA08   18.311667  \n",
       "charge120     0.000000  \n",
       "charge240    15.300000  \n",
       "city08      150.000000  "
      ]
     },
     "execution_count": 12,
     "metadata": {},
     "output_type": "execute_result"
    }
   ],
   "source": [
    "fueleco.iloc[:,:5].describe().T\n",
    "#iloc은 index[n] 했을 때 n위치에 인덱스 가능!"
   ]
  },
  {
   "cell_type": "code",
   "execution_count": 13,
   "id": "5c525217-0b3c-405b-8b56-9313e4fbb126",
   "metadata": {},
   "outputs": [],
   "source": [
    "#fueleco.mean().head()\n",
    "#이전 버전에선 numeric이 아닌 열은 제거, but 다음 버전에선 그런거 없음 그래서 warning"
   ]
  },
  {
   "cell_type": "code",
   "execution_count": 14,
   "id": "787791f3-404e-4ea3-9404-a8d26d4b013f",
   "metadata": {},
   "outputs": [
    {
     "data": {
      "text/plain": [
       "barrels08     17.132865\n",
       "barrelsA08     0.221869\n",
       "charge120      0.000000\n",
       "charge240      0.066276\n",
       "city08        18.654521\n",
       "dtype: float64"
      ]
     },
     "execution_count": 14,
     "metadata": {},
     "output_type": "execute_result"
    }
   ],
   "source": [
    "fueleco.select_dtypes(include = 'number').mean().head()\n",
    "# 또는 fueleco.mean(numeric_only=True).head()"
   ]
  },
  {
   "cell_type": "code",
   "execution_count": 15,
   "id": "ca1803fc-bda1-4bdf-ac9a-6de1522aa494",
   "metadata": {},
   "outputs": [
    {
     "data": {
      "text/html": [
       "<div>\n",
       "<style scoped>\n",
       "    .dataframe tbody tr th:only-of-type {\n",
       "        vertical-align: middle;\n",
       "    }\n",
       "\n",
       "    .dataframe tbody tr th {\n",
       "        vertical-align: top;\n",
       "    }\n",
       "\n",
       "    .dataframe thead th {\n",
       "        text-align: right;\n",
       "    }\n",
       "</style>\n",
       "<table border=\"1\" class=\"dataframe\">\n",
       "  <thead>\n",
       "    <tr style=\"text-align: right;\">\n",
       "      <th></th>\n",
       "      <th>barrels08</th>\n",
       "      <th>barrelsA08</th>\n",
       "      <th>charge120</th>\n",
       "      <th>charge240</th>\n",
       "      <th>city08</th>\n",
       "      <th>city08U</th>\n",
       "      <th>cityA08</th>\n",
       "      <th>cityA08U</th>\n",
       "      <th>cityCD</th>\n",
       "      <th>cityE</th>\n",
       "      <th>...</th>\n",
       "      <th>UCity</th>\n",
       "      <th>UCityA</th>\n",
       "      <th>UHighway</th>\n",
       "      <th>UHighwayA</th>\n",
       "      <th>year</th>\n",
       "      <th>youSaveSpend</th>\n",
       "      <th>charge240b</th>\n",
       "      <th>phevCity</th>\n",
       "      <th>phevHwy</th>\n",
       "      <th>phevComb</th>\n",
       "    </tr>\n",
       "  </thead>\n",
       "  <tbody>\n",
       "    <tr>\n",
       "      <th>0</th>\n",
       "      <td>15.695714</td>\n",
       "      <td>0.0</td>\n",
       "      <td>0.0</td>\n",
       "      <td>0.0</td>\n",
       "      <td>19</td>\n",
       "      <td>0.0</td>\n",
       "      <td>0</td>\n",
       "      <td>0.0</td>\n",
       "      <td>0.0</td>\n",
       "      <td>0.0</td>\n",
       "      <td>...</td>\n",
       "      <td>23.3333</td>\n",
       "      <td>0.0</td>\n",
       "      <td>35.0000</td>\n",
       "      <td>0.0</td>\n",
       "      <td>1985</td>\n",
       "      <td>-2250</td>\n",
       "      <td>0.0</td>\n",
       "      <td>0</td>\n",
       "      <td>0</td>\n",
       "      <td>0</td>\n",
       "    </tr>\n",
       "    <tr>\n",
       "      <th>1</th>\n",
       "      <td>29.964545</td>\n",
       "      <td>0.0</td>\n",
       "      <td>0.0</td>\n",
       "      <td>0.0</td>\n",
       "      <td>9</td>\n",
       "      <td>0.0</td>\n",
       "      <td>0</td>\n",
       "      <td>0.0</td>\n",
       "      <td>0.0</td>\n",
       "      <td>0.0</td>\n",
       "      <td>...</td>\n",
       "      <td>11.0000</td>\n",
       "      <td>0.0</td>\n",
       "      <td>19.0000</td>\n",
       "      <td>0.0</td>\n",
       "      <td>1985</td>\n",
       "      <td>-11500</td>\n",
       "      <td>0.0</td>\n",
       "      <td>0</td>\n",
       "      <td>0</td>\n",
       "      <td>0</td>\n",
       "    </tr>\n",
       "    <tr>\n",
       "      <th>2</th>\n",
       "      <td>12.207778</td>\n",
       "      <td>0.0</td>\n",
       "      <td>0.0</td>\n",
       "      <td>0.0</td>\n",
       "      <td>23</td>\n",
       "      <td>0.0</td>\n",
       "      <td>0</td>\n",
       "      <td>0.0</td>\n",
       "      <td>0.0</td>\n",
       "      <td>0.0</td>\n",
       "      <td>...</td>\n",
       "      <td>29.0000</td>\n",
       "      <td>0.0</td>\n",
       "      <td>47.0000</td>\n",
       "      <td>0.0</td>\n",
       "      <td>1985</td>\n",
       "      <td>0</td>\n",
       "      <td>0.0</td>\n",
       "      <td>0</td>\n",
       "      <td>0</td>\n",
       "      <td>0</td>\n",
       "    </tr>\n",
       "    <tr>\n",
       "      <th>3</th>\n",
       "      <td>29.964545</td>\n",
       "      <td>0.0</td>\n",
       "      <td>0.0</td>\n",
       "      <td>0.0</td>\n",
       "      <td>10</td>\n",
       "      <td>0.0</td>\n",
       "      <td>0</td>\n",
       "      <td>0.0</td>\n",
       "      <td>0.0</td>\n",
       "      <td>0.0</td>\n",
       "      <td>...</td>\n",
       "      <td>12.2222</td>\n",
       "      <td>0.0</td>\n",
       "      <td>16.6667</td>\n",
       "      <td>0.0</td>\n",
       "      <td>1985</td>\n",
       "      <td>-11500</td>\n",
       "      <td>0.0</td>\n",
       "      <td>0</td>\n",
       "      <td>0</td>\n",
       "      <td>0</td>\n",
       "    </tr>\n",
       "    <tr>\n",
       "      <th>4</th>\n",
       "      <td>17.347895</td>\n",
       "      <td>0.0</td>\n",
       "      <td>0.0</td>\n",
       "      <td>0.0</td>\n",
       "      <td>17</td>\n",
       "      <td>0.0</td>\n",
       "      <td>0</td>\n",
       "      <td>0.0</td>\n",
       "      <td>0.0</td>\n",
       "      <td>0.0</td>\n",
       "      <td>...</td>\n",
       "      <td>21.0000</td>\n",
       "      <td>0.0</td>\n",
       "      <td>32.0000</td>\n",
       "      <td>0.0</td>\n",
       "      <td>1993</td>\n",
       "      <td>-6000</td>\n",
       "      <td>0.0</td>\n",
       "      <td>0</td>\n",
       "      <td>0</td>\n",
       "      <td>0</td>\n",
       "    </tr>\n",
       "  </tbody>\n",
       "</table>\n",
       "<p>5 rows × 59 columns</p>\n",
       "</div>"
      ],
      "text/plain": [
       "   barrels08  barrelsA08  charge120  charge240  city08  city08U  cityA08   \n",
       "0  15.695714         0.0        0.0        0.0      19      0.0        0  \\\n",
       "1  29.964545         0.0        0.0        0.0       9      0.0        0   \n",
       "2  12.207778         0.0        0.0        0.0      23      0.0        0   \n",
       "3  29.964545         0.0        0.0        0.0      10      0.0        0   \n",
       "4  17.347895         0.0        0.0        0.0      17      0.0        0   \n",
       "\n",
       "   cityA08U  cityCD  cityE  ...    UCity  UCityA  UHighway  UHighwayA  year   \n",
       "0       0.0     0.0    0.0  ...  23.3333     0.0   35.0000        0.0  1985  \\\n",
       "1       0.0     0.0    0.0  ...  11.0000     0.0   19.0000        0.0  1985   \n",
       "2       0.0     0.0    0.0  ...  29.0000     0.0   47.0000        0.0  1985   \n",
       "3       0.0     0.0    0.0  ...  12.2222     0.0   16.6667        0.0  1985   \n",
       "4       0.0     0.0    0.0  ...  21.0000     0.0   32.0000        0.0  1993   \n",
       "\n",
       "   youSaveSpend  charge240b  phevCity  phevHwy  phevComb  \n",
       "0         -2250         0.0         0        0         0  \n",
       "1        -11500         0.0         0        0         0  \n",
       "2             0         0.0         0        0         0  \n",
       "3        -11500         0.0         0        0         0  \n",
       "4         -6000         0.0         0        0         0  \n",
       "\n",
       "[5 rows x 59 columns]"
      ]
     },
     "execution_count": 15,
     "metadata": {},
     "output_type": "execute_result"
    }
   ],
   "source": [
    "fueleco.select_dtypes(include = 'number').head()"
   ]
  },
  {
   "cell_type": "code",
   "execution_count": 16,
   "id": "5a95a4b4-9d57-4c2e-904f-b6c45d04c1a8",
   "metadata": {
    "scrolled": true,
    "tags": []
   },
   "outputs": [
    {
     "data": {
      "text/html": [
       "<div>\n",
       "<style scoped>\n",
       "    .dataframe tbody tr th:only-of-type {\n",
       "        vertical-align: middle;\n",
       "    }\n",
       "\n",
       "    .dataframe tbody tr th {\n",
       "        vertical-align: top;\n",
       "    }\n",
       "\n",
       "    .dataframe thead th {\n",
       "        text-align: right;\n",
       "    }\n",
       "</style>\n",
       "<table border=\"1\" class=\"dataframe\">\n",
       "  <thead>\n",
       "    <tr style=\"text-align: right;\">\n",
       "      <th></th>\n",
       "      <th>0.00</th>\n",
       "      <th>0.20</th>\n",
       "      <th>0.50</th>\n",
       "      <th>0.75</th>\n",
       "      <th>1.00</th>\n",
       "    </tr>\n",
       "  </thead>\n",
       "  <tbody>\n",
       "    <tr>\n",
       "      <th>barrels08</th>\n",
       "      <td>0.06</td>\n",
       "      <td>13.733750</td>\n",
       "      <td>16.48050</td>\n",
       "      <td>19.388824</td>\n",
       "      <td>47.087143</td>\n",
       "    </tr>\n",
       "    <tr>\n",
       "      <th>barrelsA08</th>\n",
       "      <td>0.00</td>\n",
       "      <td>0.000000</td>\n",
       "      <td>0.00000</td>\n",
       "      <td>0.000000</td>\n",
       "      <td>18.311667</td>\n",
       "    </tr>\n",
       "    <tr>\n",
       "      <th>charge120</th>\n",
       "      <td>0.00</td>\n",
       "      <td>0.000000</td>\n",
       "      <td>0.00000</td>\n",
       "      <td>0.000000</td>\n",
       "      <td>0.000000</td>\n",
       "    </tr>\n",
       "    <tr>\n",
       "      <th>charge240</th>\n",
       "      <td>0.00</td>\n",
       "      <td>0.000000</td>\n",
       "      <td>0.00000</td>\n",
       "      <td>0.000000</td>\n",
       "      <td>15.300000</td>\n",
       "    </tr>\n",
       "    <tr>\n",
       "      <th>city08</th>\n",
       "      <td>6.00</td>\n",
       "      <td>14.000000</td>\n",
       "      <td>17.00000</td>\n",
       "      <td>21.000000</td>\n",
       "      <td>150.000000</td>\n",
       "    </tr>\n",
       "    <tr>\n",
       "      <th>city08U</th>\n",
       "      <td>0.00</td>\n",
       "      <td>0.000000</td>\n",
       "      <td>0.00000</td>\n",
       "      <td>15.877425</td>\n",
       "      <td>150.195800</td>\n",
       "    </tr>\n",
       "    <tr>\n",
       "      <th>cityA08</th>\n",
       "      <td>0.00</td>\n",
       "      <td>0.000000</td>\n",
       "      <td>0.00000</td>\n",
       "      <td>0.000000</td>\n",
       "      <td>145.000000</td>\n",
       "    </tr>\n",
       "    <tr>\n",
       "      <th>cityA08U</th>\n",
       "      <td>0.00</td>\n",
       "      <td>0.000000</td>\n",
       "      <td>0.00000</td>\n",
       "      <td>0.000000</td>\n",
       "      <td>145.083500</td>\n",
       "    </tr>\n",
       "    <tr>\n",
       "      <th>cityCD</th>\n",
       "      <td>0.00</td>\n",
       "      <td>0.000000</td>\n",
       "      <td>0.00000</td>\n",
       "      <td>0.000000</td>\n",
       "      <td>5.350000</td>\n",
       "    </tr>\n",
       "    <tr>\n",
       "      <th>cityE</th>\n",
       "      <td>0.00</td>\n",
       "      <td>0.000000</td>\n",
       "      <td>0.00000</td>\n",
       "      <td>0.000000</td>\n",
       "      <td>122.000000</td>\n",
       "    </tr>\n",
       "    <tr>\n",
       "      <th>cityUF</th>\n",
       "      <td>0.00</td>\n",
       "      <td>0.000000</td>\n",
       "      <td>0.00000</td>\n",
       "      <td>0.000000</td>\n",
       "      <td>0.927000</td>\n",
       "    </tr>\n",
       "    <tr>\n",
       "      <th>co2</th>\n",
       "      <td>-1.00</td>\n",
       "      <td>-1.000000</td>\n",
       "      <td>-1.00000</td>\n",
       "      <td>228.000000</td>\n",
       "      <td>893.000000</td>\n",
       "    </tr>\n",
       "    <tr>\n",
       "      <th>co2A</th>\n",
       "      <td>-1.00</td>\n",
       "      <td>-1.000000</td>\n",
       "      <td>-1.00000</td>\n",
       "      <td>-1.000000</td>\n",
       "      <td>713.000000</td>\n",
       "    </tr>\n",
       "    <tr>\n",
       "      <th>co2TailpipeAGpm</th>\n",
       "      <td>0.00</td>\n",
       "      <td>0.000000</td>\n",
       "      <td>0.00000</td>\n",
       "      <td>0.000000</td>\n",
       "      <td>713.000000</td>\n",
       "    </tr>\n",
       "    <tr>\n",
       "      <th>co2TailpipeGpm</th>\n",
       "      <td>0.00</td>\n",
       "      <td>370.291667</td>\n",
       "      <td>444.35000</td>\n",
       "      <td>522.764706</td>\n",
       "      <td>1269.571429</td>\n",
       "    </tr>\n",
       "    <tr>\n",
       "      <th>comb08</th>\n",
       "      <td>7.00</td>\n",
       "      <td>16.000000</td>\n",
       "      <td>20.00000</td>\n",
       "      <td>23.000000</td>\n",
       "      <td>142.000000</td>\n",
       "    </tr>\n",
       "    <tr>\n",
       "      <th>comb08U</th>\n",
       "      <td>0.00</td>\n",
       "      <td>0.000000</td>\n",
       "      <td>0.00000</td>\n",
       "      <td>18.305775</td>\n",
       "      <td>141.951200</td>\n",
       "    </tr>\n",
       "    <tr>\n",
       "      <th>combA08</th>\n",
       "      <td>0.00</td>\n",
       "      <td>0.000000</td>\n",
       "      <td>0.00000</td>\n",
       "      <td>0.000000</td>\n",
       "      <td>133.000000</td>\n",
       "    </tr>\n",
       "    <tr>\n",
       "      <th>combA08U</th>\n",
       "      <td>0.00</td>\n",
       "      <td>0.000000</td>\n",
       "      <td>0.00000</td>\n",
       "      <td>0.000000</td>\n",
       "      <td>133.266200</td>\n",
       "    </tr>\n",
       "    <tr>\n",
       "      <th>combE</th>\n",
       "      <td>0.00</td>\n",
       "      <td>0.000000</td>\n",
       "      <td>0.00000</td>\n",
       "      <td>0.000000</td>\n",
       "      <td>121.000000</td>\n",
       "    </tr>\n",
       "    <tr>\n",
       "      <th>combinedCD</th>\n",
       "      <td>0.00</td>\n",
       "      <td>0.000000</td>\n",
       "      <td>0.00000</td>\n",
       "      <td>0.000000</td>\n",
       "      <td>45.000000</td>\n",
       "    </tr>\n",
       "    <tr>\n",
       "      <th>combinedUF</th>\n",
       "      <td>0.00</td>\n",
       "      <td>0.000000</td>\n",
       "      <td>0.00000</td>\n",
       "      <td>0.000000</td>\n",
       "      <td>0.920000</td>\n",
       "    </tr>\n",
       "    <tr>\n",
       "      <th>cylinders</th>\n",
       "      <td>2.00</td>\n",
       "      <td>4.000000</td>\n",
       "      <td>6.00000</td>\n",
       "      <td>6.000000</td>\n",
       "      <td>16.000000</td>\n",
       "    </tr>\n",
       "    <tr>\n",
       "      <th>displ</th>\n",
       "      <td>0.00</td>\n",
       "      <td>2.000000</td>\n",
       "      <td>3.00000</td>\n",
       "      <td>4.300000</td>\n",
       "      <td>8.400000</td>\n",
       "    </tr>\n",
       "    <tr>\n",
       "      <th>engId</th>\n",
       "      <td>0.00</td>\n",
       "      <td>0.000000</td>\n",
       "      <td>164.00000</td>\n",
       "      <td>4122.000000</td>\n",
       "      <td>69102.000000</td>\n",
       "    </tr>\n",
       "    <tr>\n",
       "      <th>feScore</th>\n",
       "      <td>-1.00</td>\n",
       "      <td>-1.000000</td>\n",
       "      <td>-1.00000</td>\n",
       "      <td>2.000000</td>\n",
       "      <td>10.000000</td>\n",
       "    </tr>\n",
       "    <tr>\n",
       "      <th>fuelCost08</th>\n",
       "      <td>450.00</td>\n",
       "      <td>1850.000000</td>\n",
       "      <td>2400.00000</td>\n",
       "      <td>2800.000000</td>\n",
       "      <td>7550.000000</td>\n",
       "    </tr>\n",
       "    <tr>\n",
       "      <th>fuelCostA08</th>\n",
       "      <td>0.00</td>\n",
       "      <td>0.000000</td>\n",
       "      <td>0.00000</td>\n",
       "      <td>0.000000</td>\n",
       "      <td>3750.000000</td>\n",
       "    </tr>\n",
       "    <tr>\n",
       "      <th>ghgScore</th>\n",
       "      <td>-1.00</td>\n",
       "      <td>-1.000000</td>\n",
       "      <td>-1.00000</td>\n",
       "      <td>2.000000</td>\n",
       "      <td>10.000000</td>\n",
       "    </tr>\n",
       "    <tr>\n",
       "      <th>ghgScoreA</th>\n",
       "      <td>-1.00</td>\n",
       "      <td>-1.000000</td>\n",
       "      <td>-1.00000</td>\n",
       "      <td>-1.000000</td>\n",
       "      <td>8.000000</td>\n",
       "    </tr>\n",
       "    <tr>\n",
       "      <th>highway08</th>\n",
       "      <td>9.00</td>\n",
       "      <td>19.000000</td>\n",
       "      <td>24.00000</td>\n",
       "      <td>28.000000</td>\n",
       "      <td>133.000000</td>\n",
       "    </tr>\n",
       "    <tr>\n",
       "      <th>highway08U</th>\n",
       "      <td>0.00</td>\n",
       "      <td>0.000000</td>\n",
       "      <td>0.00000</td>\n",
       "      <td>22.388650</td>\n",
       "      <td>133.026300</td>\n",
       "    </tr>\n",
       "    <tr>\n",
       "      <th>highwayA08</th>\n",
       "      <td>0.00</td>\n",
       "      <td>0.000000</td>\n",
       "      <td>0.00000</td>\n",
       "      <td>0.000000</td>\n",
       "      <td>121.000000</td>\n",
       "    </tr>\n",
       "    <tr>\n",
       "      <th>highwayA08U</th>\n",
       "      <td>0.00</td>\n",
       "      <td>0.000000</td>\n",
       "      <td>0.00000</td>\n",
       "      <td>0.000000</td>\n",
       "      <td>121.200500</td>\n",
       "    </tr>\n",
       "    <tr>\n",
       "      <th>highwayCD</th>\n",
       "      <td>0.00</td>\n",
       "      <td>0.000000</td>\n",
       "      <td>0.00000</td>\n",
       "      <td>0.000000</td>\n",
       "      <td>4.060000</td>\n",
       "    </tr>\n",
       "    <tr>\n",
       "      <th>highwayE</th>\n",
       "      <td>0.00</td>\n",
       "      <td>0.000000</td>\n",
       "      <td>0.00000</td>\n",
       "      <td>0.000000</td>\n",
       "      <td>120.000000</td>\n",
       "    </tr>\n",
       "    <tr>\n",
       "      <th>highwayUF</th>\n",
       "      <td>0.00</td>\n",
       "      <td>0.000000</td>\n",
       "      <td>0.00000</td>\n",
       "      <td>0.000000</td>\n",
       "      <td>0.910000</td>\n",
       "    </tr>\n",
       "    <tr>\n",
       "      <th>hlv</th>\n",
       "      <td>0.00</td>\n",
       "      <td>0.000000</td>\n",
       "      <td>0.00000</td>\n",
       "      <td>0.000000</td>\n",
       "      <td>49.000000</td>\n",
       "    </tr>\n",
       "    <tr>\n",
       "      <th>hpv</th>\n",
       "      <td>0.00</td>\n",
       "      <td>0.000000</td>\n",
       "      <td>0.00000</td>\n",
       "      <td>0.000000</td>\n",
       "      <td>195.000000</td>\n",
       "    </tr>\n",
       "    <tr>\n",
       "      <th>id</th>\n",
       "      <td>1.00</td>\n",
       "      <td>8684.400000</td>\n",
       "      <td>21713.50000</td>\n",
       "      <td>32862.750000</td>\n",
       "      <td>43821.000000</td>\n",
       "    </tr>\n",
       "    <tr>\n",
       "      <th>lv2</th>\n",
       "      <td>0.00</td>\n",
       "      <td>0.000000</td>\n",
       "      <td>0.00000</td>\n",
       "      <td>0.000000</td>\n",
       "      <td>41.000000</td>\n",
       "    </tr>\n",
       "    <tr>\n",
       "      <th>lv4</th>\n",
       "      <td>0.00</td>\n",
       "      <td>0.000000</td>\n",
       "      <td>0.00000</td>\n",
       "      <td>13.000000</td>\n",
       "      <td>55.000000</td>\n",
       "    </tr>\n",
       "    <tr>\n",
       "      <th>pv2</th>\n",
       "      <td>0.00</td>\n",
       "      <td>0.000000</td>\n",
       "      <td>0.00000</td>\n",
       "      <td>0.000000</td>\n",
       "      <td>194.000000</td>\n",
       "    </tr>\n",
       "    <tr>\n",
       "      <th>pv4</th>\n",
       "      <td>0.00</td>\n",
       "      <td>0.000000</td>\n",
       "      <td>0.00000</td>\n",
       "      <td>91.000000</td>\n",
       "      <td>192.000000</td>\n",
       "    </tr>\n",
       "    <tr>\n",
       "      <th>range</th>\n",
       "      <td>0.00</td>\n",
       "      <td>0.000000</td>\n",
       "      <td>0.00000</td>\n",
       "      <td>0.000000</td>\n",
       "      <td>402.000000</td>\n",
       "    </tr>\n",
       "    <tr>\n",
       "      <th>rangeCity</th>\n",
       "      <td>0.00</td>\n",
       "      <td>0.000000</td>\n",
       "      <td>0.00000</td>\n",
       "      <td>0.000000</td>\n",
       "      <td>416.200000</td>\n",
       "    </tr>\n",
       "    <tr>\n",
       "      <th>rangeCityA</th>\n",
       "      <td>0.00</td>\n",
       "      <td>0.000000</td>\n",
       "      <td>0.00000</td>\n",
       "      <td>0.000000</td>\n",
       "      <td>135.280000</td>\n",
       "    </tr>\n",
       "    <tr>\n",
       "      <th>rangeHwy</th>\n",
       "      <td>0.00</td>\n",
       "      <td>0.000000</td>\n",
       "      <td>0.00000</td>\n",
       "      <td>0.000000</td>\n",
       "      <td>383.800000</td>\n",
       "    </tr>\n",
       "    <tr>\n",
       "      <th>rangeHwyA</th>\n",
       "      <td>0.00</td>\n",
       "      <td>0.000000</td>\n",
       "      <td>0.00000</td>\n",
       "      <td>0.000000</td>\n",
       "      <td>114.760000</td>\n",
       "    </tr>\n",
       "    <tr>\n",
       "      <th>UCity</th>\n",
       "      <td>0.00</td>\n",
       "      <td>17.700000</td>\n",
       "      <td>21.63995</td>\n",
       "      <td>26.000000</td>\n",
       "      <td>224.800000</td>\n",
       "    </tr>\n",
       "    <tr>\n",
       "      <th>UCityA</th>\n",
       "      <td>0.00</td>\n",
       "      <td>0.000000</td>\n",
       "      <td>0.00000</td>\n",
       "      <td>0.000000</td>\n",
       "      <td>207.262200</td>\n",
       "    </tr>\n",
       "    <tr>\n",
       "      <th>UHighway</th>\n",
       "      <td>0.00</td>\n",
       "      <td>26.000000</td>\n",
       "      <td>33.30000</td>\n",
       "      <td>39.095825</td>\n",
       "      <td>187.100000</td>\n",
       "    </tr>\n",
       "    <tr>\n",
       "      <th>UHighwayA</th>\n",
       "      <td>0.00</td>\n",
       "      <td>0.000000</td>\n",
       "      <td>0.00000</td>\n",
       "      <td>0.000000</td>\n",
       "      <td>173.143600</td>\n",
       "    </tr>\n",
       "    <tr>\n",
       "      <th>year</th>\n",
       "      <td>1984.00</td>\n",
       "      <td>1990.000000</td>\n",
       "      <td>2003.00000</td>\n",
       "      <td>2013.000000</td>\n",
       "      <td>2022.000000</td>\n",
       "    </tr>\n",
       "    <tr>\n",
       "      <th>youSaveSpend</th>\n",
       "      <td>-29750.00</td>\n",
       "      <td>-6250.000000</td>\n",
       "      <td>-4000.00000</td>\n",
       "      <td>-1750.000000</td>\n",
       "      <td>5750.000000</td>\n",
       "    </tr>\n",
       "    <tr>\n",
       "      <th>charge240b</th>\n",
       "      <td>0.00</td>\n",
       "      <td>0.000000</td>\n",
       "      <td>0.00000</td>\n",
       "      <td>0.000000</td>\n",
       "      <td>9.600000</td>\n",
       "    </tr>\n",
       "    <tr>\n",
       "      <th>phevCity</th>\n",
       "      <td>0.00</td>\n",
       "      <td>0.000000</td>\n",
       "      <td>0.00000</td>\n",
       "      <td>0.000000</td>\n",
       "      <td>97.000000</td>\n",
       "    </tr>\n",
       "    <tr>\n",
       "      <th>phevHwy</th>\n",
       "      <td>0.00</td>\n",
       "      <td>0.000000</td>\n",
       "      <td>0.00000</td>\n",
       "      <td>0.000000</td>\n",
       "      <td>81.000000</td>\n",
       "    </tr>\n",
       "    <tr>\n",
       "      <th>phevComb</th>\n",
       "      <td>0.00</td>\n",
       "      <td>0.000000</td>\n",
       "      <td>0.00000</td>\n",
       "      <td>0.000000</td>\n",
       "      <td>88.000000</td>\n",
       "    </tr>\n",
       "  </tbody>\n",
       "</table>\n",
       "</div>"
      ],
      "text/plain": [
       "                     0.00         0.20         0.50          0.75   \n",
       "barrels08            0.06    13.733750     16.48050     19.388824  \\\n",
       "barrelsA08           0.00     0.000000      0.00000      0.000000   \n",
       "charge120            0.00     0.000000      0.00000      0.000000   \n",
       "charge240            0.00     0.000000      0.00000      0.000000   \n",
       "city08               6.00    14.000000     17.00000     21.000000   \n",
       "city08U              0.00     0.000000      0.00000     15.877425   \n",
       "cityA08              0.00     0.000000      0.00000      0.000000   \n",
       "cityA08U             0.00     0.000000      0.00000      0.000000   \n",
       "cityCD               0.00     0.000000      0.00000      0.000000   \n",
       "cityE                0.00     0.000000      0.00000      0.000000   \n",
       "cityUF               0.00     0.000000      0.00000      0.000000   \n",
       "co2                 -1.00    -1.000000     -1.00000    228.000000   \n",
       "co2A                -1.00    -1.000000     -1.00000     -1.000000   \n",
       "co2TailpipeAGpm      0.00     0.000000      0.00000      0.000000   \n",
       "co2TailpipeGpm       0.00   370.291667    444.35000    522.764706   \n",
       "comb08               7.00    16.000000     20.00000     23.000000   \n",
       "comb08U              0.00     0.000000      0.00000     18.305775   \n",
       "combA08              0.00     0.000000      0.00000      0.000000   \n",
       "combA08U             0.00     0.000000      0.00000      0.000000   \n",
       "combE                0.00     0.000000      0.00000      0.000000   \n",
       "combinedCD           0.00     0.000000      0.00000      0.000000   \n",
       "combinedUF           0.00     0.000000      0.00000      0.000000   \n",
       "cylinders            2.00     4.000000      6.00000      6.000000   \n",
       "displ                0.00     2.000000      3.00000      4.300000   \n",
       "engId                0.00     0.000000    164.00000   4122.000000   \n",
       "feScore             -1.00    -1.000000     -1.00000      2.000000   \n",
       "fuelCost08         450.00  1850.000000   2400.00000   2800.000000   \n",
       "fuelCostA08          0.00     0.000000      0.00000      0.000000   \n",
       "ghgScore            -1.00    -1.000000     -1.00000      2.000000   \n",
       "ghgScoreA           -1.00    -1.000000     -1.00000     -1.000000   \n",
       "highway08            9.00    19.000000     24.00000     28.000000   \n",
       "highway08U           0.00     0.000000      0.00000     22.388650   \n",
       "highwayA08           0.00     0.000000      0.00000      0.000000   \n",
       "highwayA08U          0.00     0.000000      0.00000      0.000000   \n",
       "highwayCD            0.00     0.000000      0.00000      0.000000   \n",
       "highwayE             0.00     0.000000      0.00000      0.000000   \n",
       "highwayUF            0.00     0.000000      0.00000      0.000000   \n",
       "hlv                  0.00     0.000000      0.00000      0.000000   \n",
       "hpv                  0.00     0.000000      0.00000      0.000000   \n",
       "id                   1.00  8684.400000  21713.50000  32862.750000   \n",
       "lv2                  0.00     0.000000      0.00000      0.000000   \n",
       "lv4                  0.00     0.000000      0.00000     13.000000   \n",
       "pv2                  0.00     0.000000      0.00000      0.000000   \n",
       "pv4                  0.00     0.000000      0.00000     91.000000   \n",
       "range                0.00     0.000000      0.00000      0.000000   \n",
       "rangeCity            0.00     0.000000      0.00000      0.000000   \n",
       "rangeCityA           0.00     0.000000      0.00000      0.000000   \n",
       "rangeHwy             0.00     0.000000      0.00000      0.000000   \n",
       "rangeHwyA            0.00     0.000000      0.00000      0.000000   \n",
       "UCity                0.00    17.700000     21.63995     26.000000   \n",
       "UCityA               0.00     0.000000      0.00000      0.000000   \n",
       "UHighway             0.00    26.000000     33.30000     39.095825   \n",
       "UHighwayA            0.00     0.000000      0.00000      0.000000   \n",
       "year              1984.00  1990.000000   2003.00000   2013.000000   \n",
       "youSaveSpend    -29750.00 -6250.000000  -4000.00000  -1750.000000   \n",
       "charge240b           0.00     0.000000      0.00000      0.000000   \n",
       "phevCity             0.00     0.000000      0.00000      0.000000   \n",
       "phevHwy              0.00     0.000000      0.00000      0.000000   \n",
       "phevComb             0.00     0.000000      0.00000      0.000000   \n",
       "\n",
       "                         1.00  \n",
       "barrels08           47.087143  \n",
       "barrelsA08          18.311667  \n",
       "charge120            0.000000  \n",
       "charge240           15.300000  \n",
       "city08             150.000000  \n",
       "city08U            150.195800  \n",
       "cityA08            145.000000  \n",
       "cityA08U           145.083500  \n",
       "cityCD               5.350000  \n",
       "cityE              122.000000  \n",
       "cityUF               0.927000  \n",
       "co2                893.000000  \n",
       "co2A               713.000000  \n",
       "co2TailpipeAGpm    713.000000  \n",
       "co2TailpipeGpm    1269.571429  \n",
       "comb08             142.000000  \n",
       "comb08U            141.951200  \n",
       "combA08            133.000000  \n",
       "combA08U           133.266200  \n",
       "combE              121.000000  \n",
       "combinedCD          45.000000  \n",
       "combinedUF           0.920000  \n",
       "cylinders           16.000000  \n",
       "displ                8.400000  \n",
       "engId            69102.000000  \n",
       "feScore             10.000000  \n",
       "fuelCost08        7550.000000  \n",
       "fuelCostA08       3750.000000  \n",
       "ghgScore            10.000000  \n",
       "ghgScoreA            8.000000  \n",
       "highway08          133.000000  \n",
       "highway08U         133.026300  \n",
       "highwayA08         121.000000  \n",
       "highwayA08U        121.200500  \n",
       "highwayCD            4.060000  \n",
       "highwayE           120.000000  \n",
       "highwayUF            0.910000  \n",
       "hlv                 49.000000  \n",
       "hpv                195.000000  \n",
       "id               43821.000000  \n",
       "lv2                 41.000000  \n",
       "lv4                 55.000000  \n",
       "pv2                194.000000  \n",
       "pv4                192.000000  \n",
       "range              402.000000  \n",
       "rangeCity          416.200000  \n",
       "rangeCityA         135.280000  \n",
       "rangeHwy           383.800000  \n",
       "rangeHwyA          114.760000  \n",
       "UCity              224.800000  \n",
       "UCityA             207.262200  \n",
       "UHighway           187.100000  \n",
       "UHighwayA          173.143600  \n",
       "year              2022.000000  \n",
       "youSaveSpend      5750.000000  \n",
       "charge240b           9.600000  \n",
       "phevCity            97.000000  \n",
       "phevHwy             81.000000  \n",
       "phevComb            88.000000  "
      ]
     },
     "execution_count": 16,
     "metadata": {},
     "output_type": "execute_result"
    }
   ],
   "source": [
    "fueleco.select_dtypes(include = 'number').quantile([0,0.2,0.5,0.75,1]).T"
   ]
  },
  {
   "cell_type": "code",
   "execution_count": 17,
   "id": "6caf6a62-6c1a-46b2-a372-305bdc8b207d",
   "metadata": {},
   "outputs": [
    {
     "data": {
      "text/plain": [
       "float64    32\n",
       "int64      27\n",
       "object     23\n",
       "bool        1\n",
       "Name: count, dtype: int64"
      ]
     },
     "execution_count": 17,
     "metadata": {},
     "output_type": "execute_result"
    }
   ],
   "source": [
    "fueleco.dtypes.value_counts()"
   ]
  },
  {
   "cell_type": "markdown",
   "id": "c1f1418d-6ed9-4b17-8b41-c9b7b84965ef",
   "metadata": {},
   "source": [
    "# 1. int 형 데이터 줄이기"
   ]
  },
  {
   "cell_type": "code",
   "execution_count": 18,
   "id": "d8679d05-1eb7-41d0-9022-3783323d2ce7",
   "metadata": {},
   "outputs": [
    {
     "data": {
      "text/html": [
       "<div>\n",
       "<style scoped>\n",
       "    .dataframe tbody tr th:only-of-type {\n",
       "        vertical-align: middle;\n",
       "    }\n",
       "\n",
       "    .dataframe tbody tr th {\n",
       "        vertical-align: top;\n",
       "    }\n",
       "\n",
       "    .dataframe thead th {\n",
       "        text-align: right;\n",
       "    }\n",
       "</style>\n",
       "<table border=\"1\" class=\"dataframe\">\n",
       "  <thead>\n",
       "    <tr style=\"text-align: right;\">\n",
       "      <th></th>\n",
       "      <th>city08</th>\n",
       "      <th>cityA08</th>\n",
       "      <th>co2</th>\n",
       "      <th>co2A</th>\n",
       "      <th>comb08</th>\n",
       "      <th>combA08</th>\n",
       "      <th>engId</th>\n",
       "      <th>feScore</th>\n",
       "      <th>fuelCost08</th>\n",
       "      <th>fuelCostA08</th>\n",
       "      <th>...</th>\n",
       "      <th>lv2</th>\n",
       "      <th>lv4</th>\n",
       "      <th>pv2</th>\n",
       "      <th>pv4</th>\n",
       "      <th>range</th>\n",
       "      <th>year</th>\n",
       "      <th>youSaveSpend</th>\n",
       "      <th>phevCity</th>\n",
       "      <th>phevHwy</th>\n",
       "      <th>phevComb</th>\n",
       "    </tr>\n",
       "  </thead>\n",
       "  <tbody>\n",
       "    <tr>\n",
       "      <th>count</th>\n",
       "      <td>43418.000000</td>\n",
       "      <td>43418.000000</td>\n",
       "      <td>43418.000000</td>\n",
       "      <td>43418.000000</td>\n",
       "      <td>43418.000000</td>\n",
       "      <td>43418.000000</td>\n",
       "      <td>43418.000000</td>\n",
       "      <td>43418.000000</td>\n",
       "      <td>43418.000000</td>\n",
       "      <td>43418.000000</td>\n",
       "      <td>...</td>\n",
       "      <td>43418.000000</td>\n",
       "      <td>43418.000000</td>\n",
       "      <td>43418.000000</td>\n",
       "      <td>43418.000000</td>\n",
       "      <td>43418.000000</td>\n",
       "      <td>43418.000000</td>\n",
       "      <td>43418.000000</td>\n",
       "      <td>43418.000000</td>\n",
       "      <td>43418.000000</td>\n",
       "      <td>43418.000000</td>\n",
       "    </tr>\n",
       "    <tr>\n",
       "      <th>mean</th>\n",
       "      <td>18.654521</td>\n",
       "      <td>0.780805</td>\n",
       "      <td>103.802639</td>\n",
       "      <td>5.910291</td>\n",
       "      <td>20.894997</td>\n",
       "      <td>0.836888</td>\n",
       "      <td>7752.441913</td>\n",
       "      <td>0.592197</td>\n",
       "      <td>2400.533189</td>\n",
       "      <td>83.403197</td>\n",
       "      <td>...</td>\n",
       "      <td>1.782602</td>\n",
       "      <td>6.039868</td>\n",
       "      <td>13.395642</td>\n",
       "      <td>33.535884</td>\n",
       "      <td>1.184278</td>\n",
       "      <td>2002.536022</td>\n",
       "      <td>-3992.174904</td>\n",
       "      <td>0.229836</td>\n",
       "      <td>0.231563</td>\n",
       "      <td>0.229628</td>\n",
       "    </tr>\n",
       "    <tr>\n",
       "      <th>std</th>\n",
       "      <td>8.750168</td>\n",
       "      <td>6.050073</td>\n",
       "      <td>185.336192</td>\n",
       "      <td>57.330146</td>\n",
       "      <td>8.401355</td>\n",
       "      <td>6.034436</td>\n",
       "      <td>16894.286167</td>\n",
       "      <td>2.843539</td>\n",
       "      <td>671.690218</td>\n",
       "      <td>442.658866</td>\n",
       "      <td>...</td>\n",
       "      <td>4.331941</td>\n",
       "      <td>9.566007</td>\n",
       "      <td>30.946350</td>\n",
       "      <td>45.993292</td>\n",
       "      <td>16.726704</td>\n",
       "      <td>11.650912</td>\n",
       "      <td>3369.439953</td>\n",
       "      <td>3.526150</td>\n",
       "      <td>3.405325</td>\n",
       "      <td>3.449732</td>\n",
       "    </tr>\n",
       "    <tr>\n",
       "      <th>min</th>\n",
       "      <td>6.000000</td>\n",
       "      <td>0.000000</td>\n",
       "      <td>-1.000000</td>\n",
       "      <td>-1.000000</td>\n",
       "      <td>7.000000</td>\n",
       "      <td>0.000000</td>\n",
       "      <td>0.000000</td>\n",
       "      <td>-1.000000</td>\n",
       "      <td>450.000000</td>\n",
       "      <td>0.000000</td>\n",
       "      <td>...</td>\n",
       "      <td>0.000000</td>\n",
       "      <td>0.000000</td>\n",
       "      <td>0.000000</td>\n",
       "      <td>0.000000</td>\n",
       "      <td>0.000000</td>\n",
       "      <td>1984.000000</td>\n",
       "      <td>-29750.000000</td>\n",
       "      <td>0.000000</td>\n",
       "      <td>0.000000</td>\n",
       "      <td>0.000000</td>\n",
       "    </tr>\n",
       "    <tr>\n",
       "      <th>25%</th>\n",
       "      <td>15.000000</td>\n",
       "      <td>0.000000</td>\n",
       "      <td>-1.000000</td>\n",
       "      <td>-1.000000</td>\n",
       "      <td>17.000000</td>\n",
       "      <td>0.000000</td>\n",
       "      <td>0.000000</td>\n",
       "      <td>-1.000000</td>\n",
       "      <td>1950.000000</td>\n",
       "      <td>0.000000</td>\n",
       "      <td>...</td>\n",
       "      <td>0.000000</td>\n",
       "      <td>0.000000</td>\n",
       "      <td>0.000000</td>\n",
       "      <td>0.000000</td>\n",
       "      <td>0.000000</td>\n",
       "      <td>1992.000000</td>\n",
       "      <td>-6000.000000</td>\n",
       "      <td>0.000000</td>\n",
       "      <td>0.000000</td>\n",
       "      <td>0.000000</td>\n",
       "    </tr>\n",
       "    <tr>\n",
       "      <th>50%</th>\n",
       "      <td>17.000000</td>\n",
       "      <td>0.000000</td>\n",
       "      <td>-1.000000</td>\n",
       "      <td>-1.000000</td>\n",
       "      <td>20.000000</td>\n",
       "      <td>0.000000</td>\n",
       "      <td>164.000000</td>\n",
       "      <td>-1.000000</td>\n",
       "      <td>2400.000000</td>\n",
       "      <td>0.000000</td>\n",
       "      <td>...</td>\n",
       "      <td>0.000000</td>\n",
       "      <td>0.000000</td>\n",
       "      <td>0.000000</td>\n",
       "      <td>0.000000</td>\n",
       "      <td>0.000000</td>\n",
       "      <td>2003.000000</td>\n",
       "      <td>-4000.000000</td>\n",
       "      <td>0.000000</td>\n",
       "      <td>0.000000</td>\n",
       "      <td>0.000000</td>\n",
       "    </tr>\n",
       "    <tr>\n",
       "      <th>75%</th>\n",
       "      <td>21.000000</td>\n",
       "      <td>0.000000</td>\n",
       "      <td>228.000000</td>\n",
       "      <td>-1.000000</td>\n",
       "      <td>23.000000</td>\n",
       "      <td>0.000000</td>\n",
       "      <td>4122.000000</td>\n",
       "      <td>2.000000</td>\n",
       "      <td>2800.000000</td>\n",
       "      <td>0.000000</td>\n",
       "      <td>...</td>\n",
       "      <td>0.000000</td>\n",
       "      <td>13.000000</td>\n",
       "      <td>0.000000</td>\n",
       "      <td>91.000000</td>\n",
       "      <td>0.000000</td>\n",
       "      <td>2013.000000</td>\n",
       "      <td>-1750.000000</td>\n",
       "      <td>0.000000</td>\n",
       "      <td>0.000000</td>\n",
       "      <td>0.000000</td>\n",
       "    </tr>\n",
       "    <tr>\n",
       "      <th>max</th>\n",
       "      <td>150.000000</td>\n",
       "      <td>145.000000</td>\n",
       "      <td>893.000000</td>\n",
       "      <td>713.000000</td>\n",
       "      <td>142.000000</td>\n",
       "      <td>133.000000</td>\n",
       "      <td>69102.000000</td>\n",
       "      <td>10.000000</td>\n",
       "      <td>7550.000000</td>\n",
       "      <td>3750.000000</td>\n",
       "      <td>...</td>\n",
       "      <td>41.000000</td>\n",
       "      <td>55.000000</td>\n",
       "      <td>194.000000</td>\n",
       "      <td>192.000000</td>\n",
       "      <td>402.000000</td>\n",
       "      <td>2022.000000</td>\n",
       "      <td>5750.000000</td>\n",
       "      <td>97.000000</td>\n",
       "      <td>81.000000</td>\n",
       "      <td>88.000000</td>\n",
       "    </tr>\n",
       "  </tbody>\n",
       "</table>\n",
       "<p>8 rows × 27 columns</p>\n",
       "</div>"
      ],
      "text/plain": [
       "             city08       cityA08           co2          co2A        comb08   \n",
       "count  43418.000000  43418.000000  43418.000000  43418.000000  43418.000000  \\\n",
       "mean      18.654521      0.780805    103.802639      5.910291     20.894997   \n",
       "std        8.750168      6.050073    185.336192     57.330146      8.401355   \n",
       "min        6.000000      0.000000     -1.000000     -1.000000      7.000000   \n",
       "25%       15.000000      0.000000     -1.000000     -1.000000     17.000000   \n",
       "50%       17.000000      0.000000     -1.000000     -1.000000     20.000000   \n",
       "75%       21.000000      0.000000    228.000000     -1.000000     23.000000   \n",
       "max      150.000000    145.000000    893.000000    713.000000    142.000000   \n",
       "\n",
       "            combA08         engId       feScore    fuelCost08   fuelCostA08   \n",
       "count  43418.000000  43418.000000  43418.000000  43418.000000  43418.000000  \\\n",
       "mean       0.836888   7752.441913      0.592197   2400.533189     83.403197   \n",
       "std        6.034436  16894.286167      2.843539    671.690218    442.658866   \n",
       "min        0.000000      0.000000     -1.000000    450.000000      0.000000   \n",
       "25%        0.000000      0.000000     -1.000000   1950.000000      0.000000   \n",
       "50%        0.000000    164.000000     -1.000000   2400.000000      0.000000   \n",
       "75%        0.000000   4122.000000      2.000000   2800.000000      0.000000   \n",
       "max      133.000000  69102.000000     10.000000   7550.000000   3750.000000   \n",
       "\n",
       "       ...           lv2           lv4           pv2           pv4   \n",
       "count  ...  43418.000000  43418.000000  43418.000000  43418.000000  \\\n",
       "mean   ...      1.782602      6.039868     13.395642     33.535884   \n",
       "std    ...      4.331941      9.566007     30.946350     45.993292   \n",
       "min    ...      0.000000      0.000000      0.000000      0.000000   \n",
       "25%    ...      0.000000      0.000000      0.000000      0.000000   \n",
       "50%    ...      0.000000      0.000000      0.000000      0.000000   \n",
       "75%    ...      0.000000     13.000000      0.000000     91.000000   \n",
       "max    ...     41.000000     55.000000    194.000000    192.000000   \n",
       "\n",
       "              range          year  youSaveSpend      phevCity       phevHwy   \n",
       "count  43418.000000  43418.000000  43418.000000  43418.000000  43418.000000  \\\n",
       "mean       1.184278   2002.536022  -3992.174904      0.229836      0.231563   \n",
       "std       16.726704     11.650912   3369.439953      3.526150      3.405325   \n",
       "min        0.000000   1984.000000 -29750.000000      0.000000      0.000000   \n",
       "25%        0.000000   1992.000000  -6000.000000      0.000000      0.000000   \n",
       "50%        0.000000   2003.000000  -4000.000000      0.000000      0.000000   \n",
       "75%        0.000000   2013.000000  -1750.000000      0.000000      0.000000   \n",
       "max      402.000000   2022.000000   5750.000000     97.000000     81.000000   \n",
       "\n",
       "           phevComb  \n",
       "count  43418.000000  \n",
       "mean       0.229628  \n",
       "std        3.449732  \n",
       "min        0.000000  \n",
       "25%        0.000000  \n",
       "50%        0.000000  \n",
       "75%        0.000000  \n",
       "max       88.000000  \n",
       "\n",
       "[8 rows x 27 columns]"
      ]
     },
     "execution_count": 18,
     "metadata": {},
     "output_type": "execute_result"
    }
   ],
   "source": [
    "fueleco.describe(include=np.int64)"
   ]
  },
  {
   "cell_type": "code",
   "execution_count": 19,
   "id": "55665bce-3f2a-41df-b58f-33a1cd46bf01",
   "metadata": {},
   "outputs": [
    {
     "data": {
      "text/plain": [
       "iinfo(min=-32768, max=32767, dtype=int16)"
      ]
     },
     "execution_count": 19,
     "metadata": {},
     "output_type": "execute_result"
    }
   ],
   "source": [
    "np.iinfo(np.int16) #크기 int 16 적당함."
   ]
  },
  {
   "cell_type": "code",
   "execution_count": 20,
   "id": "631dd265-a3c6-439e-9000-965cf8f9058f",
   "metadata": {},
   "outputs": [
    {
     "name": "stdout",
     "output_type": "stream",
     "text": [
      "<class 'pandas.core.frame.DataFrame'>\n",
      "RangeIndex: 43418 entries, 0 to 43417\n",
      "Data columns (total 2 columns):\n",
      " #   Column  Non-Null Count  Dtype\n",
      "---  ------  --------------  -----\n",
      " 0   city08  43418 non-null  int64\n",
      " 1   comb08  43418 non-null  int64\n",
      "dtypes: int64(2)\n",
      "memory usage: 678.5 KB\n"
     ]
    }
   ],
   "source": [
    "fueleco[['city08','comb08']].info()"
   ]
  },
  {
   "cell_type": "code",
   "execution_count": 21,
   "id": "9bc8c773-6c40-4d62-90ea-9075ded91c79",
   "metadata": {},
   "outputs": [
    {
     "name": "stdout",
     "output_type": "stream",
     "text": [
      "<class 'pandas.core.frame.DataFrame'>\n",
      "RangeIndex: 43418 entries, 0 to 43417\n",
      "Data columns (total 2 columns):\n",
      " #   Column  Non-Null Count  Dtype\n",
      "---  ------  --------------  -----\n",
      " 0   city08  43418 non-null  int16\n",
      " 1   comb08  43418 non-null  int16\n",
      "dtypes: int16(2)\n",
      "memory usage: 169.7 KB\n"
     ]
    }
   ],
   "source": [
    "(\n",
    "fueleco[['city08','comb08']]\n",
    "    .assign(city08 = fueleco.city08.astype(np.int16),\n",
    "            comb08 = fueleco.comb08.astype(np.int16))\n",
    "    .info(memory_usage='deep')\n",
    ")"
   ]
  },
  {
   "cell_type": "code",
   "execution_count": 22,
   "id": "c0ad1b55-91af-40ab-99df-0cf82d8300d2",
   "metadata": {
    "scrolled": true,
    "tags": []
   },
   "outputs": [
    {
     "data": {
      "text/html": [
       "<div>\n",
       "<style scoped>\n",
       "    .dataframe tbody tr th:only-of-type {\n",
       "        vertical-align: middle;\n",
       "    }\n",
       "\n",
       "    .dataframe tbody tr th {\n",
       "        vertical-align: top;\n",
       "    }\n",
       "\n",
       "    .dataframe thead th {\n",
       "        text-align: right;\n",
       "    }\n",
       "</style>\n",
       "<table border=\"1\" class=\"dataframe\">\n",
       "  <thead>\n",
       "    <tr style=\"text-align: right;\">\n",
       "      <th></th>\n",
       "      <th>count</th>\n",
       "      <th>unique</th>\n",
       "      <th>top</th>\n",
       "      <th>freq</th>\n",
       "    </tr>\n",
       "  </thead>\n",
       "  <tbody>\n",
       "    <tr>\n",
       "      <th>drive</th>\n",
       "      <td>42232</td>\n",
       "      <td>7</td>\n",
       "      <td>Front-Wheel Drive</td>\n",
       "      <td>14776</td>\n",
       "    </tr>\n",
       "    <tr>\n",
       "      <th>eng_dscr</th>\n",
       "      <td>26887</td>\n",
       "      <td>562</td>\n",
       "      <td>(FFS)</td>\n",
       "      <td>8827</td>\n",
       "    </tr>\n",
       "    <tr>\n",
       "      <th>fuelType</th>\n",
       "      <td>43418</td>\n",
       "      <td>14</td>\n",
       "      <td>Regular</td>\n",
       "      <td>27381</td>\n",
       "    </tr>\n",
       "    <tr>\n",
       "      <th>fuelType1</th>\n",
       "      <td>43418</td>\n",
       "      <td>6</td>\n",
       "      <td>Regular Gasoline</td>\n",
       "      <td>28828</td>\n",
       "    </tr>\n",
       "    <tr>\n",
       "      <th>make</th>\n",
       "      <td>43418</td>\n",
       "      <td>139</td>\n",
       "      <td>Chevrolet</td>\n",
       "      <td>4159</td>\n",
       "    </tr>\n",
       "    <tr>\n",
       "      <th>model</th>\n",
       "      <td>43418</td>\n",
       "      <td>4375</td>\n",
       "      <td>F150 Pickup 2WD</td>\n",
       "      <td>226</td>\n",
       "    </tr>\n",
       "    <tr>\n",
       "      <th>mpgData</th>\n",
       "      <td>43400</td>\n",
       "      <td>2</td>\n",
       "      <td>N</td>\n",
       "      <td>29726</td>\n",
       "    </tr>\n",
       "    <tr>\n",
       "      <th>trany</th>\n",
       "      <td>43407</td>\n",
       "      <td>40</td>\n",
       "      <td>Automatic 4-spd</td>\n",
       "      <td>11048</td>\n",
       "    </tr>\n",
       "    <tr>\n",
       "      <th>VClass</th>\n",
       "      <td>43418</td>\n",
       "      <td>34</td>\n",
       "      <td>Compact Cars</td>\n",
       "      <td>6086</td>\n",
       "    </tr>\n",
       "    <tr>\n",
       "      <th>guzzler</th>\n",
       "      <td>2558</td>\n",
       "      <td>3</td>\n",
       "      <td>G</td>\n",
       "      <td>1579</td>\n",
       "    </tr>\n",
       "    <tr>\n",
       "      <th>trans_dscr</th>\n",
       "      <td>15044</td>\n",
       "      <td>52</td>\n",
       "      <td>CLKUP</td>\n",
       "      <td>7809</td>\n",
       "    </tr>\n",
       "    <tr>\n",
       "      <th>tCharger</th>\n",
       "      <td>8143</td>\n",
       "      <td>1</td>\n",
       "      <td>T</td>\n",
       "      <td>8143</td>\n",
       "    </tr>\n",
       "    <tr>\n",
       "      <th>sCharger</th>\n",
       "      <td>916</td>\n",
       "      <td>1</td>\n",
       "      <td>S</td>\n",
       "      <td>916</td>\n",
       "    </tr>\n",
       "    <tr>\n",
       "      <th>atvType</th>\n",
       "      <td>3987</td>\n",
       "      <td>8</td>\n",
       "      <td>FFV</td>\n",
       "      <td>1479</td>\n",
       "    </tr>\n",
       "    <tr>\n",
       "      <th>fuelType2</th>\n",
       "      <td>1731</td>\n",
       "      <td>4</td>\n",
       "      <td>E85</td>\n",
       "      <td>1479</td>\n",
       "    </tr>\n",
       "    <tr>\n",
       "      <th>rangeA</th>\n",
       "      <td>1726</td>\n",
       "      <td>235</td>\n",
       "      <td>290</td>\n",
       "      <td>74</td>\n",
       "    </tr>\n",
       "    <tr>\n",
       "      <th>evMotor</th>\n",
       "      <td>1221</td>\n",
       "      <td>211</td>\n",
       "      <td>288V Ni-MH</td>\n",
       "      <td>138</td>\n",
       "    </tr>\n",
       "    <tr>\n",
       "      <th>mfrCode</th>\n",
       "      <td>12610</td>\n",
       "      <td>50</td>\n",
       "      <td>GMX</td>\n",
       "      <td>1802</td>\n",
       "    </tr>\n",
       "    <tr>\n",
       "      <th>c240Dscr</th>\n",
       "      <td>114</td>\n",
       "      <td>5</td>\n",
       "      <td>standard charger</td>\n",
       "      <td>103</td>\n",
       "    </tr>\n",
       "    <tr>\n",
       "      <th>c240bDscr</th>\n",
       "      <td>108</td>\n",
       "      <td>7</td>\n",
       "      <td>80 amp dual charger</td>\n",
       "      <td>55</td>\n",
       "    </tr>\n",
       "    <tr>\n",
       "      <th>createdOn</th>\n",
       "      <td>43418</td>\n",
       "      <td>356</td>\n",
       "      <td>Tue Jan 01 00:00:00 EST 2013</td>\n",
       "      <td>34194</td>\n",
       "    </tr>\n",
       "    <tr>\n",
       "      <th>modifiedOn</th>\n",
       "      <td>43418</td>\n",
       "      <td>218</td>\n",
       "      <td>Tue Jan 01 00:00:00 EST 2013</td>\n",
       "      <td>29175</td>\n",
       "    </tr>\n",
       "    <tr>\n",
       "      <th>startStop</th>\n",
       "      <td>11729</td>\n",
       "      <td>2</td>\n",
       "      <td>N</td>\n",
       "      <td>7146</td>\n",
       "    </tr>\n",
       "  </tbody>\n",
       "</table>\n",
       "</div>"
      ],
      "text/plain": [
       "            count unique                           top   freq\n",
       "drive       42232      7             Front-Wheel Drive  14776\n",
       "eng_dscr    26887    562                         (FFS)   8827\n",
       "fuelType    43418     14                       Regular  27381\n",
       "fuelType1   43418      6              Regular Gasoline  28828\n",
       "make        43418    139                     Chevrolet   4159\n",
       "model       43418   4375               F150 Pickup 2WD    226\n",
       "mpgData     43400      2                             N  29726\n",
       "trany       43407     40               Automatic 4-spd  11048\n",
       "VClass      43418     34                  Compact Cars   6086\n",
       "guzzler      2558      3                             G   1579\n",
       "trans_dscr  15044     52                         CLKUP   7809\n",
       "tCharger     8143      1                             T   8143\n",
       "sCharger      916      1                             S    916\n",
       "atvType      3987      8                           FFV   1479\n",
       "fuelType2    1731      4                           E85   1479\n",
       "rangeA       1726    235                           290     74\n",
       "evMotor      1221    211                    288V Ni-MH    138\n",
       "mfrCode     12610     50                           GMX   1802\n",
       "c240Dscr      114      5              standard charger    103\n",
       "c240bDscr     108      7           80 amp dual charger     55\n",
       "createdOn   43418    356  Tue Jan 01 00:00:00 EST 2013  34194\n",
       "modifiedOn  43418    218  Tue Jan 01 00:00:00 EST 2013  29175\n",
       "startStop   11729      2                             N   7146"
      ]
     },
     "execution_count": 22,
     "metadata": {},
     "output_type": "execute_result"
    }
   ],
   "source": [
    "# object 타입은, include 활용\n",
    "fueleco.describe(include=object).T"
   ]
  },
  {
   "cell_type": "markdown",
   "id": "96d3e1b1-b93f-4032-bf63-0101e8f1618b",
   "metadata": {},
   "source": [
    "# 2. 문자열 데이터 줄이기"
   ]
  },
  {
   "cell_type": "code",
   "execution_count": 23,
   "id": "6b1b1379-d848-49f4-85ae-efca6abd013c",
   "metadata": {},
   "outputs": [
    {
     "data": {
      "text/plain": [
       "139"
      ]
     },
     "execution_count": 23,
     "metadata": {},
     "output_type": "execute_result"
    }
   ],
   "source": [
    "fueleco.make.nunique()"
   ]
  },
  {
   "cell_type": "code",
   "execution_count": 24,
   "id": "755b5b7c-993a-457a-9bc8-423a7c73b86c",
   "metadata": {},
   "outputs": [
    {
     "data": {
      "text/plain": [
       "4375"
      ]
     },
     "execution_count": 24,
     "metadata": {},
     "output_type": "execute_result"
    }
   ],
   "source": [
    "fueleco.model.nunique() #얘는 카테고리로 바꾸기 힘듬"
   ]
  },
  {
   "cell_type": "code",
   "execution_count": 25,
   "id": "a1a6d17f-1c70-4ce2-959f-4aad9bf589e2",
   "metadata": {},
   "outputs": [
    {
     "data": {
      "text/plain": [
       "Index       128\n",
       "make     100495\n",
       "dtype: int64"
      ]
     },
     "execution_count": 25,
     "metadata": {},
     "output_type": "execute_result"
    }
   ],
   "source": [
    "(\n",
    "fueleco[['make']]\n",
    "    .assign(make = fueleco.make.astype('category'))\n",
    "    .memory_usage(deep=True)\n",
    ")"
   ]
  },
  {
   "cell_type": "markdown",
   "id": "4edac885-8ceb-4133-9ac0-4751f1c6f563",
   "metadata": {},
   "source": [
    "# 3. 그림그리기"
   ]
  },
  {
   "cell_type": "code",
   "execution_count": 26,
   "id": "e54d09b4-bb61-4a4b-8182-d3b6ed4d1af0",
   "metadata": {},
   "outputs": [
    {
     "data": {
      "text/plain": [
       "Index(['drive', 'eng_dscr', 'fuelType', 'fuelType1', 'make', 'model',\n",
       "       'mpgData', 'trany', 'VClass', 'guzzler', 'trans_dscr', 'tCharger',\n",
       "       'sCharger', 'atvType', 'fuelType2', 'rangeA', 'evMotor', 'mfrCode',\n",
       "       'c240Dscr', 'c240bDscr', 'createdOn', 'modifiedOn', 'startStop'],\n",
       "      dtype='object')"
      ]
     },
     "execution_count": 26,
     "metadata": {},
     "output_type": "execute_result"
    }
   ],
   "source": [
    "fueleco.select_dtypes(object).columns"
   ]
  },
  {
   "cell_type": "code",
   "execution_count": 27,
   "id": "aa2bf001-abc6-46fe-a344-af6a9a5a5e5c",
   "metadata": {},
   "outputs": [
    {
     "data": {
      "text/plain": [
       "7"
      ]
     },
     "execution_count": 27,
     "metadata": {},
     "output_type": "execute_result"
    }
   ],
   "source": [
    "fueleco.drive.nunique()"
   ]
  },
  {
   "cell_type": "code",
   "execution_count": 28,
   "id": "64f4cfaa-9d9d-43bc-b77b-f81543112cf9",
   "metadata": {},
   "outputs": [
    {
     "data": {
      "text/plain": [
       "drive\n",
       "Front-Wheel Drive             14776\n",
       "Rear-Wheel Drive              14409\n",
       "4-Wheel or All-Wheel Drive     6645\n",
       "All-Wheel Drive                3788\n",
       "4-Wheel Drive                  1788\n",
       "2-Wheel Drive                   507\n",
       "Part-time 4-Wheel Drive         319\n",
       "Name: count, dtype: int64"
      ]
     },
     "execution_count": 28,
     "metadata": {},
     "output_type": "execute_result"
    }
   ],
   "source": [
    "fueleco.drive.value_counts()"
   ]
  },
  {
   "cell_type": "code",
   "execution_count": 29,
   "id": "2e0788e8-86b4-4c95-af1f-3acec18ae70f",
   "metadata": {},
   "outputs": [
    {
     "data": {
      "text/plain": [
       "1186"
      ]
     },
     "execution_count": 29,
     "metadata": {},
     "output_type": "execute_result"
    }
   ],
   "source": [
    "fueleco.drive.isna().sum()"
   ]
  },
  {
   "cell_type": "code",
   "execution_count": 30,
   "id": "00538f86-d358-4b35-935a-0466a090c54c",
   "metadata": {},
   "outputs": [
    {
     "data": {
      "text/plain": [
       "<Axes: xlabel='drive'>"
      ]
     },
     "execution_count": 30,
     "metadata": {},
     "output_type": "execute_result"
    },
    {
     "data": {
      "image/png": "[encoded data removed]",
      "text/plain": [
       "<Figure size 640x480 with 1 Axes>"
      ]
     },
     "metadata": {},
     "output_type": "display_data"
    }
   ],
   "source": [
    "fueleco.drive.value_counts().plot() #속성 값 별 그래프"
   ]
  },
  {
   "cell_type": "code",
   "execution_count": 31,
   "id": "2e2e1e9a-b2ce-4ded-b7ae-6e16f3b6956c",
   "metadata": {},
   "outputs": [
    {
     "data": {
      "text/plain": [
       "<Axes: xlabel='drive'>"
      ]
     },
     "execution_count": 31,
     "metadata": {},
     "output_type": "execute_result"
    },
    {
     "data": {
      "image/png": "[encoded data removed]",
      "text/plain": [
       "<Figure size 640x480 with 1 Axes>"
      ]
     },
     "metadata": {},
     "output_type": "display_data"
    }
   ],
   "source": [
    "fueleco.drive.value_counts().plot(kind='bar')"
   ]
  },
  {
   "cell_type": "code",
   "execution_count": 32,
   "id": "7b48355d-5869-4a01-acb7-9985947292ea",
   "metadata": {},
   "outputs": [],
   "source": [
    "import matplotlib.pyplot as plt"
   ]
  },
  {
   "cell_type": "code",
   "execution_count": 84,
   "id": "ed128e83-59de-45ce-8f0c-5ccaaea5d83b",
   "metadata": {},
   "outputs": [
    {
     "data": {
      "text/plain": [
       "<BarContainer object of 7 artists>"
      ]
     },
     "execution_count": 84,
     "metadata": {},
     "output_type": "execute_result"
    },
    {
     "data": {
      "image/png": "[encoded data removed]",
      "text/plain": [
       "<Figure size 1000x1000 with 1 Axes>"
      ]
     },
     "metadata": {},
     "output_type": "display_data"
    }
   ],
   "source": [
    "ax,fig = plt.subplots(figsize=(10,10))\n",
    "x = fueleco.drive.value_counts().index\n",
    "plt.bar(x,fueleco.drive.value_counts())"
   ]
  },
  {
   "cell_type": "code",
   "execution_count": 34,
   "id": "e18ad611-d36d-4751-9a8d-b802d3018772",
   "metadata": {},
   "outputs": [
    {
     "data": {
      "text/plain": [
       "drive\n",
       "Front-Wheel Drive             14776\n",
       "Rear-Wheel Drive              14409\n",
       "4-Wheel or All-Wheel Drive     6645\n",
       "All-Wheel Drive                3788\n",
       "4-Wheel Drive                  1788\n",
       "2-Wheel Drive                   507\n",
       "Part-time 4-Wheel Drive         319\n",
       "Name: count, dtype: int64"
      ]
     },
     "execution_count": 34,
     "metadata": {},
     "output_type": "execute_result"
    }
   ],
   "source": [
    "fueleco.drive.value_counts()\n",
    "#시리즈 형식으로 나오는데 위에 bar 그래프 생성 시 x 축을 위의 식에서 index 해야 속성 이름들이 나옴."
   ]
  },
  {
   "cell_type": "code",
   "execution_count": 85,
   "id": "dd71b04c-4b8b-42ef-82dc-0b79942011ac",
   "metadata": {},
   "outputs": [
    {
     "ename": "TypeError",
     "evalue": "barplot() takes from 0 to 1 positional arguments but 2 were given",
     "output_type": "error",
     "traceback": [
      "\u001b[0;31m---------------------------------------------------------------------------\u001b[0m",
      "\u001b[0;31mTypeError\u001b[0m                                 Traceback (most recent call last)",
      "Cell \u001b[0;32mIn[85], line 5\u001b[0m\n\u001b[1;32m      2\u001b[0m \u001b[39mimport\u001b[39;00m \u001b[39mseaborn\u001b[39;00m \u001b[39mas\u001b[39;00m \u001b[39msns\u001b[39;00m\n\u001b[1;32m      4\u001b[0m ax,fig \u001b[39m=\u001b[39m plt\u001b[39m.\u001b[39msubplots(figsize\u001b[39m=\u001b[39m(\u001b[39m10\u001b[39m,\u001b[39m10\u001b[39m))\n\u001b[0;32m----> 5\u001b[0m sns\u001b[39m.\u001b[39;49mbarplot(fueleco\u001b[39m.\u001b[39;49mdrive\u001b[39m.\u001b[39;49mindex,fueleco\u001b[39m.\u001b[39;49mdrive\u001b[39m.\u001b[39;49mvalue_counts())\n",
      "\u001b[0;31mTypeError\u001b[0m: barplot() takes from 0 to 1 positional arguments but 2 were given"
     ]
    },
    {
     "data": {
      "image/png": "[encoded data removed]",
      "text/plain": [
       "<Figure size 1000x1000 with 1 Axes>"
      ]
     },
     "metadata": {},
     "output_type": "display_data"
    }
   ],
   "source": [
    "import matplotlib.pyplot as plt\n",
    "import seaborn as sns\n",
    "\n",
    "ax,fig = plt.subplots(figsize=(10,10))\n",
    "sns.barplot(fueleco.drive.index,fueleco.drive.value_counts())"
   ]
  },
  {
   "cell_type": "code",
   "execution_count": 43,
   "id": "120954fc-16d9-4cd0-a5d5-abe83ea007f7",
   "metadata": {},
   "outputs": [],
   "source": [
    "top_make_n = fueleco.make.value_counts().index[:6]\n",
    "# column의 nunique가 많을 경우 최대 n개만 보는 것도 방법!"
   ]
  },
  {
   "cell_type": "code",
   "execution_count": 44,
   "id": "901da46c-69c8-412c-9749-b3a61d8d0367",
   "metadata": {},
   "outputs": [
    {
     "data": {
      "text/plain": [
       "Index(['Chevrolet', 'Ford', 'Dodge', 'GMC', 'Toyota', 'BMW'], dtype='object', name='make')"
      ]
     },
     "execution_count": 44,
     "metadata": {},
     "output_type": "execute_result"
    }
   ],
   "source": [
    "top_make_n"
   ]
  },
  {
   "cell_type": "code",
   "execution_count": 45,
   "id": "59069e96-0f62-48e6-93bd-13ab0126f6c1",
   "metadata": {},
   "outputs": [
    {
     "data": {
      "text/plain": [
       "<Axes: xlabel='make', ylabel='count'>"
      ]
     },
     "execution_count": 45,
     "metadata": {},
     "output_type": "execute_result"
    },
    {
     "data": {
      "image/png": "[encoded data removed]",
      "text/plain": [
       "<Figure size 640x480 with 1 Axes>"
      ]
     },
     "metadata": {},
     "output_type": "display_data"
    }
   ],
   "source": [
    "top_make_n = fueleco.make.value_counts().index[:6]\n",
    "sns.barplot(x=fueleco[fueleco.make.isin(top_make_n)].make.value_counts().index, y=fueleco[fueleco.make.isin(top_make_n)].make.value_counts())"
   ]
  },
  {
   "cell_type": "markdown",
   "id": "b06bfa89-65b4-4cee-b090-193e4d558061",
   "metadata": {},
   "source": [
    "fueleco[fueleco.make.isin(top_make_n)] 라고 할 수 있음!"
   ]
  },
  {
   "cell_type": "markdown",
   "id": "22575067-16c7-4d02-b38c-72d67320a7ef",
   "metadata": {},
   "source": [
    "# where 사용 ( false일 때만 실행)"
   ]
  },
  {
   "cell_type": "code",
   "execution_count": 46,
   "id": "5d4aea4f-de47-417b-b216-1dac57981e8d",
   "metadata": {},
   "outputs": [
    {
     "data": {
      "text/plain": [
       "0        Other\n",
       "1        Other\n",
       "2        Dodge\n",
       "3        Dodge\n",
       "4        Other\n",
       "         ...  \n",
       "43413    Other\n",
       "43414    Other\n",
       "43415    Other\n",
       "43416    Other\n",
       "43417    Other\n",
       "Name: make, Length: 43418, dtype: object"
      ]
     },
     "execution_count": 46,
     "metadata": {},
     "output_type": "execute_result"
    }
   ],
   "source": [
    "fueleco.make.where(fueleco.make.isin(top_make_n),'Other')"
   ]
  },
  {
   "cell_type": "code",
   "execution_count": 47,
   "id": "cdd403ee-c8e3-496e-90ac-6567bd1ffa65",
   "metadata": {},
   "outputs": [
    {
     "data": {
      "text/plain": [
       "make\n",
       "Other        26193\n",
       "Chevrolet     4159\n",
       "Ford          3508\n",
       "Dodge         2632\n",
       "GMC           2599\n",
       "Toyota        2189\n",
       "BMW           2138\n",
       "Name: count, dtype: int64"
      ]
     },
     "execution_count": 47,
     "metadata": {},
     "output_type": "execute_result"
    }
   ],
   "source": [
    "fueleco.make.where(fueleco.make.isin(top_make_n),'Other').value_counts()\n",
    "#masking 기법!"
   ]
  },
  {
   "cell_type": "code",
   "execution_count": 48,
   "id": "3342635c-1bc6-4eba-b641-7c3118ff78de",
   "metadata": {
    "scrolled": true,
    "tags": []
   },
   "outputs": [
    {
     "data": {
      "image/png": "[encoded data removed]",
      "text/plain": [
       "<Figure size 1000x800 with 1 Axes>"
      ]
     },
     "metadata": {},
     "output_type": "display_data"
    }
   ],
   "source": [
    "import matplotlib.pyplot as plt\n",
    "fig, ax = plt.subplots(figsize = (10,8))"
   ]
  },
  {
   "cell_type": "code",
   "execution_count": 49,
   "id": "66998874-805c-4927-92ec-21e72533babb",
   "metadata": {},
   "outputs": [
    {
     "data": {
      "text/plain": [
       "<Axes: xlabel='make'>"
      ]
     },
     "execution_count": 49,
     "metadata": {},
     "output_type": "execute_result"
    },
    {
     "data": {
      "image/png": "[encoded data removed]",
      "text/plain": [
       "<Figure size 1000x800 with 1 Axes>"
      ]
     },
     "metadata": {},
     "output_type": "display_data"
    }
   ],
   "source": [
    "import matplotlib.pyplot as plt # 이 부분은 관용적으로 이렇게 씁니다.\n",
    "fig, ax = plt.subplots(figsize=(10, 8))\n",
    "top_n = fueleco.make.value_counts().index[:6]\n",
    "(\n",
    "    fueleco.assign(\n",
    "        make=fueleco.make.where(\n",
    "            fueleco.make.isin(top_n), 'Other')) #top_n이 아닌 애들을 다 'Other'로 바꾸고 \n",
    "    .make.value_counts()\n",
    "    .plot(kind=\"bar\") #plot(kind=\"bar\")를 호출하는 것 만으로도 x축과 y축이 자동으로 설정됩니다.\n",
    "    \n",
    ")\n"
   ]
  },
  {
   "cell_type": "code",
   "execution_count": 50,
   "id": "a4e8a027-ec58-4fe6-b44d-f2378f0f8fc7",
   "metadata": {},
   "outputs": [
    {
     "data": {
      "text/plain": [
       "<Axes: xlabel='make'>"
      ]
     },
     "execution_count": 50,
     "metadata": {},
     "output_type": "execute_result"
    },
    {
     "data": {
      "image/png": "[encoded data removed]",
      "text/plain": [
       "<Figure size 1000x800 with 1 Axes>"
      ]
     },
     "metadata": {},
     "output_type": "display_data"
    }
   ],
   "source": [
    "import matplotlib.pyplot as plt\n",
    "\n",
    "fig, ax = plt.subplots(figsize=(10, 8))\n",
    "\n",
    "top_n = fueleco.make.value_counts().index[:6]\n",
    "(\n",
    "    fueleco.assign(\n",
    "        make = fueleco.make.where(fueleco.make.isin(top_n), 'Other')\n",
    "    )\n",
    "    .make.value_counts()[1:]\n",
    "    .plot.bar(ax=ax)\n",
    ")\n"
   ]
  },
  {
   "cell_type": "code",
   "execution_count": 51,
   "id": "2cc18a77-d610-4db0-9fa3-9779fc8a3e5b",
   "metadata": {},
   "outputs": [
    {
     "data": {
      "text/plain": [
       "Index(['drive', 'eng_dscr', 'fuelType', 'fuelType1', 'make', 'model',\n",
       "       'mpgData', 'trany', 'VClass', 'guzzler', 'trans_dscr', 'tCharger',\n",
       "       'sCharger', 'atvType', 'fuelType2', 'rangeA', 'evMotor', 'mfrCode',\n",
       "       'c240Dscr', 'c240bDscr', 'createdOn', 'modifiedOn', 'startStop'],\n",
       "      dtype='object')"
      ]
     },
     "execution_count": 51,
     "metadata": {},
     "output_type": "execute_result"
    }
   ],
   "source": [
    "fueleco.select_dtypes('object').columns"
   ]
  },
  {
   "cell_type": "code",
   "execution_count": 52,
   "id": "dfc55cd2-6328-440c-ab09-e8e38dad1579",
   "metadata": {},
   "outputs": [
    {
     "data": {
      "text/plain": [
       "<Axes: xlabel='count', ylabel='fuelType1'>"
      ]
     },
     "execution_count": 52,
     "metadata": {},
     "output_type": "execute_result"
    },
    {
     "data": {
      "image/png": "[encoded data removed]",
      "text/plain": [
       "<Figure size 640x480 with 1 Axes>"
      ]
     },
     "metadata": {},
     "output_type": "display_data"
    }
   ],
   "source": [
    "sns.countplot(y='fuelType1',data = fueleco) #order를 지정해주지 않으면 값 순서 대로 나옴"
   ]
  },
  {
   "cell_type": "code",
   "execution_count": 53,
   "id": "c31e7ed2-8421-4c79-8d83-2812a0b3ca7f",
   "metadata": {},
   "outputs": [
    {
     "data": {
      "text/plain": [
       "<Axes: xlabel='count', ylabel='fuelType1'>"
      ]
     },
     "execution_count": 53,
     "metadata": {},
     "output_type": "execute_result"
    },
    {
     "data": {
      "image/png": "[encoded data removed]",
      "text/plain": [
       "<Figure size 640x480 with 1 Axes>"
      ]
     },
     "metadata": {},
     "output_type": "display_data"
    }
   ],
   "source": [
    "sns.countplot(y='fuelType1',data = fueleco, order=fueleco.fuelType1.value_counts().index) # 인덱스 순으로 나옴."
   ]
  },
  {
   "cell_type": "code",
   "execution_count": 54,
   "id": "aa74221c-92a2-4f25-952a-9d360a129842",
   "metadata": {
    "scrolled": true,
    "tags": []
   },
   "outputs": [
    {
     "data": {
      "text/plain": [
       "<Axes: xlabel='count', ylabel='make'>"
      ]
     },
     "execution_count": 54,
     "metadata": {},
     "output_type": "execute_result"
    },
    {
     "data": {
      "image/png": "[encoded data removed]",
      "text/plain": [
       "<Figure size 1000x800 with 1 Axes>"
      ]
     },
     "metadata": {},
     "output_type": "display_data"
    }
   ],
   "source": [
    "import seaborn as sns\n",
    "import matplotlib.pyplot as plt\n",
    "\n",
    "top_n = fueleco.make.value_counts().index[:6]\n",
    "# make_counts = fueleco[fueleco.make.isin(top_n)].make.value_counts()\n",
    "# make_counts = make_counts.reindex(top_n)\n",
    "\n",
    "fig, ax = plt.subplots(figsize=(10,8))\n",
    "\n",
    "sns.countplot(y='make',\n",
    "              data=fueleco[fueleco.make.isin(top_n)],\n",
    "              hue='fuelType1', \n",
    "              order=fueleco.make.value_counts().index[:6],\n",
    "              dodge=False,\n",
    "              ax=ax\n",
    "             )\n"
   ]
  },
  {
   "attachments": {},
   "cell_type": "markdown",
   "id": "77a52732-6cee-4e7a-b958-7a0ffc6e8f36",
   "metadata": {},
   "source": [
    "**hue는 색깔을 지정해주는 함수 , 히스토그램이 아님.**\n",
    "**dodge=False = 그래프 뭉치게, True는 옆으로 그려짐**"
   ]
  },
  {
   "cell_type": "code",
   "execution_count": 55,
   "id": "4f696678-2871-4451-a721-454cc26a40b4",
   "metadata": {
    "scrolled": true,
    "tags": []
   },
   "outputs": [
    {
     "data": {
      "text/plain": [
       "<Axes: xlabel='count', ylabel='make'>"
      ]
     },
     "execution_count": 55,
     "metadata": {},
     "output_type": "execute_result"
    },
    {
     "data": {
      "image/png": "[encoded data removed]",
      "text/plain": [
       "<Figure size 1000x800 with 1 Axes>"
      ]
     },
     "metadata": {},
     "output_type": "display_data"
    }
   ],
   "source": [
    "import seaborn as sns\n",
    "import matplotlib.pyplot as plt\n",
    "\n",
    "top_n = fueleco.make.value_counts().index[:6]\n",
    "# make_counts = fueleco[fueleco.make.isin(top_n)].make.value_counts()\n",
    "# make_counts = make_counts.reindex(top_n)\n",
    "\n",
    "fig, ax = plt.subplots(figsize=(10,8))\n",
    "\n",
    "sns.countplot(y='make',\n",
    "              data=fueleco[fueleco.make.isin(top_n)],\n",
    "              hue='fuelType1', \n",
    "              order=fueleco.make.value_counts().index[:6],\n",
    "              dodge=True,\n",
    "              ax=ax\n",
    "             )\n"
   ]
  },
  {
   "cell_type": "code",
   "execution_count": 56,
   "id": "d35aa278-50bf-4936-b80a-f06a2f2af5b4",
   "metadata": {},
   "outputs": [
    {
     "data": {
      "text/plain": [
       "<Axes: xlabel='city08', ylabel='Count'>"
      ]
     },
     "execution_count": 56,
     "metadata": {},
     "output_type": "execute_result"
    },
    {
     "data": {
      "image/png": "[encoded data removed]",
      "text/plain": [
       "<Figure size 1000x800 with 1 Axes>"
      ]
     },
     "metadata": {},
     "output_type": "display_data"
    }
   ],
   "source": [
    "fig,ax = plt.subplots(figsize = (10,8))\n",
    "top_n = fueleco.make.value_counts().index[:3]\n",
    "sns.histplot(x='city08',\n",
    "             data = (fueleco[fueleco.make.isin(top_n)]),\n",
    "             hue = 'make',\n",
    "             binwidth = 5,\n",
    "             ax=ax\n",
    "            )"
   ]
  },
  {
   "cell_type": "markdown",
   "id": "ddbcf3b7-c412-4a98-8c0e-dddc40de1014",
   "metadata": {},
   "source": [
    "# na 값이 많은 컬럼 다루기"
   ]
  },
  {
   "cell_type": "code",
   "execution_count": 57,
   "id": "9bc1fd8a-52a9-422d-b1d7-433dd5755be4",
   "metadata": {},
   "outputs": [
    {
     "data": {
      "text/plain": [
       "1186"
      ]
     },
     "execution_count": 57,
     "metadata": {},
     "output_type": "execute_result"
    }
   ],
   "source": [
    "fueleco.drive.isna().sum()"
   ]
  },
  {
   "cell_type": "code",
   "execution_count": 58,
   "id": "b4a5d9b9-5476-4fd4-9c22-05c76a0bb643",
   "metadata": {},
   "outputs": [
    {
     "data": {
      "text/plain": [
       "drive\n",
       "Front-Wheel Drive             14776\n",
       "Rear-Wheel Drive              14409\n",
       "4-Wheel or All-Wheel Drive     6645\n",
       "All-Wheel Drive                3788\n",
       "4-Wheel Drive                  1788\n",
       "NaN                            1186\n",
       "2-Wheel Drive                   507\n",
       "Part-time 4-Wheel Drive         319\n",
       "Name: count, dtype: int64"
      ]
     },
     "execution_count": 58,
     "metadata": {},
     "output_type": "execute_result"
    }
   ],
   "source": [
    "fueleco.drive.value_counts(dropna=False) #그냥 카운트 할 경우 na 가 누락됨."
   ]
  },
  {
   "cell_type": "code",
   "execution_count": 59,
   "id": "acb0eef7-fe1d-45eb-8d5c-f5ce1ebef8f3",
   "metadata": {},
   "outputs": [
    {
     "data": {
      "text/plain": [
       "<Axes: xlabel='drive'>"
      ]
     },
     "execution_count": 59,
     "metadata": {},
     "output_type": "execute_result"
    },
    {
     "data": {
      "image/png": "[encoded data removed]",
      "text/plain": [
       "<Figure size 640x480 with 1 Axes>"
      ]
     },
     "metadata": {},
     "output_type": "display_data"
    }
   ],
   "source": [
    "fueleco.drive.value_counts(dropna=False).plot.bar()"
   ]
  },
  {
   "cell_type": "markdown",
   "id": "de79b945-6874-4d9d-ac42-564f576716ef",
   "metadata": {},
   "source": [
    "## object 형태 -> 수치형?\n",
    "\n",
    "rangeA는 object 형태인데, 값을 확인해보면 그런 것 같지 않습니다.\n",
    "rangeA열을 봅시다."
   ]
  },
  {
   "cell_type": "code",
   "execution_count": 60,
   "id": "b729e517-8c33-4758-9c29-e52005b51eb4",
   "metadata": {},
   "outputs": [
    {
     "data": {
      "text/plain": [
       "rangeA\n",
       "290        74\n",
       "270        58\n",
       "280        56\n",
       "310        41\n",
       "277        38\n",
       "           ..\n",
       "362/537     1\n",
       "337/501     1\n",
       "286         1\n",
       "341         1\n",
       "301         1\n",
       "Name: count, Length: 235, dtype: int64"
      ]
     },
     "execution_count": 60,
     "metadata": {},
     "output_type": "execute_result"
    }
   ],
   "source": [
    "fueleco.rangeA.value_counts()"
   ]
  },
  {
   "cell_type": "markdown",
   "id": "63e9efd3-ce8e-4868-ba1c-d3e5badc9943",
   "metadata": {},
   "source": [
    "362/537 이딴 이상한 애들 많음"
   ]
  },
  {
   "cell_type": "code",
   "execution_count": 61,
   "id": "175009b5-7166-4bc8-9f3a-117e5949897e",
   "metadata": {},
   "outputs": [
    {
     "data": {
      "text/plain": [
       "/    323\n",
       "-     71\n",
       "Name: count, dtype: int64"
      ]
     },
     "execution_count": 61,
     "metadata": {},
     "output_type": "execute_result"
    }
   ],
   "source": [
    "(\n",
    "    fueleco.rangeA.str.extract(r'([^0-9.])') #숫자와 소수점이 아니 문자를 추출!\n",
    "    .dropna()\n",
    "    .apply(lambda y:''.join(y), axis=1)\n",
    "    .value_counts()\n",
    ")\n"
   ]
  },
  {
   "cell_type": "markdown",
   "id": "10cfe6ee-ef34-4be3-8e8f-75d254dd358f",
   "metadata": {},
   "source": [
    "1. apply() : DF 나 S에 함수를 적용하는 메소드, axis =1 or 0 으로 열또는 행으로 추출\n",
    "2. row: ''.join(row)는 row에 ' ' 으로 되어 있는 애들을 묶는다."
   ]
  },
  {
   "cell_type": "code",
   "execution_count": 62,
   "id": "20ac1b83-3a25-4e7b-9eb1-4080960cf1f8",
   "metadata": {},
   "outputs": [
    {
     "data": {
      "text/plain": [
       "{float, str}"
      ]
     },
     "execution_count": 62,
     "metadata": {},
     "output_type": "execute_result"
    }
   ],
   "source": [
    "set(fueleco.rangeA.apply(type)) #apply에서 axis는 S만 지정 가능!"
   ]
  },
  {
   "cell_type": "code",
   "execution_count": 94,
   "id": "e615d0d8-5b6d-4b44-8b66-21ab81ada786",
   "metadata": {},
   "outputs": [
    {
     "data": {
      "text/plain": [
       "0        0.0\n",
       "1        0.0\n",
       "2        0.0\n",
       "3        0.0\n",
       "4        0.0\n",
       "        ... \n",
       "43413    0.0\n",
       "43414    0.0\n",
       "43415    0.0\n",
       "43416    0.0\n",
       "43417    0.0\n",
       "Length: 43418, dtype: float64"
      ]
     },
     "execution_count": 94,
     "metadata": {},
     "output_type": "execute_result"
    }
   ],
   "source": [
    "(\n",
    "    fueleco.rangeA.fillna('0')\n",
    "    .str.replace('-','/')\n",
    "    .str.split('/', expand=True) #expand = True : DF로 반환!\n",
    "    .astype(float)\n",
    "    .mean(axis=1)\n",
    ")"
   ]
  },
  {
   "cell_type": "markdown",
   "id": "edb872d4-a44d-43e1-83ba-1779952be5c1",
   "metadata": {},
   "source": [
    "# 수치화를 범주화로 사용하는 방법\n",
    "\n",
    "- cut: 동일한 너비의 구간으로 나눔\n",
    "- qcut: 분위수를 기준으로 나눔"
   ]
  },
  {
   "cell_type": "code",
   "execution_count": 64,
   "id": "148b6e3a-b647-47cd-a6c4-9bfd5a6f4f25",
   "metadata": {},
   "outputs": [
    {
     "data": {
      "text/plain": [
       "(-0.45, 44.95]     41889\n",
       "(269.7, 314.65]      600\n",
       "(314.65, 359.6]      379\n",
       "(359.6, 404.55]      216\n",
       "(224.75, 269.7]      187\n",
       "(404.55, 449.5]       92\n",
       "(89.9, 134.85]        21\n",
       "(44.95, 89.9]         20\n",
       "(179.8, 224.75]        9\n",
       "(134.85, 179.8]        5\n",
       "Name: count, dtype: int64"
      ]
     },
     "execution_count": 64,
     "metadata": {},
     "output_type": "execute_result"
    }
   ],
   "source": [
    "(\n",
    "    fueleco.rangeA.fillna('0')\n",
    "    .str.replace('-', '/')\n",
    "    .str.split('/', expand=True)\n",
    "    .astype(float)\n",
    "    .mean(axis=1)\n",
    "    .pipe(lambda x: pd.cut(x, 10)) #10구간으로 나눈다.\n",
    "    .value_counts()\n",
    ")\n"
   ]
  },
  {
   "cell_type": "code",
   "execution_count": 65,
   "id": "570591bf-010d-41ea-b635-60faf3a1e005",
   "metadata": {},
   "outputs": [
    {
     "data": {
      "text/plain": [
       "<Axes: ylabel='Frequency'>"
      ]
     },
     "execution_count": 65,
     "metadata": {},
     "output_type": "execute_result"
    },
    {
     "data": {
      "image/png": "[encoded data removed]",
      "text/plain": [
       "<Figure size 640x480 with 1 Axes>"
      ]
     },
     "metadata": {},
     "output_type": "display_data"
    }
   ],
   "source": [
    "(\n",
    "    fueleco.rangeA.fillna('0')\n",
    "    .str.replace('-','/')\n",
    "    .str.split('/',expand = True)\n",
    "    .astype(float)\n",
    "    .mean(axis = 1)\n",
    "    .plot.hist(bins=10)\n",
    ")"
   ]
  },
  {
   "cell_type": "code",
   "execution_count": 86,
   "id": "deb98561-fe2c-48f7-a98f-37ef6a77a97e",
   "metadata": {},
   "outputs": [
    {
     "data": {
      "text/plain": [
       "(29.0, 260.0]     208\n",
       "(350.0, 385.0]    178\n",
       "(273.0, 287.0]    176\n",
       "(287.0, 300.0]    176\n",
       "(8.999, 29.0]     175\n",
       "(314.0, 330.0]    172\n",
       "(330.0, 350.0]    171\n",
       "(300.0, 314.0]    168\n",
       "(385.0, 449.5]    166\n",
       "(260.0, 273.0]    136\n",
       "Name: count, dtype: int64"
      ]
     },
     "execution_count": 86,
     "metadata": {},
     "output_type": "execute_result"
    }
   ],
   "source": [
    "(\n",
    "     fueleco.rangeA.dropna() #fillna를 할 시 분위수로 나눌 수 없어서 에러발생\n",
    "     .str.replace('-', '/')\n",
    "     .str.split('/', expand=True)\n",
    "     .astype(float)\n",
    "     .mean(axis=1)\n",
    "     .pipe(lambda ser_: pd.qcut(ser_, 10))\n",
    "     .value_counts()\n",
    ")\n"
   ]
  },
  {
   "cell_type": "code",
   "execution_count": 67,
   "id": "3879cd0f-20e1-4bbb-b305-af73f0a291cf",
   "metadata": {},
   "outputs": [
    {
     "data": {
      "text/plain": [
       "<Axes: xlabel='city08'>"
      ]
     },
     "execution_count": 67,
     "metadata": {},
     "output_type": "execute_result"
    },
    {
     "data": {
      "image/png": "[encoded data removed]",
      "text/plain": [
       "<Figure size 640x480 with 1 Axes>"
      ]
     },
     "metadata": {},
     "output_type": "display_data"
    }
   ],
   "source": [
    "(\n",
    "    fueleco.city08.pipe(lambda x:pd.qcut(x,q=10))\n",
    "    .value_counts()\n",
    "    .sort_index()\n",
    "    .plot.bar()\n",
    ")"
   ]
  },
  {
   "cell_type": "code",
   "execution_count": 68,
   "id": "8aade760-d62d-4fe2-bc30-1fb912e5008b",
   "metadata": {},
   "outputs": [
    {
     "data": {
      "text/plain": [
       "<Axes: >"
      ]
     },
     "execution_count": 68,
     "metadata": {},
     "output_type": "execute_result"
    },
    {
     "data": {
      "image/png": "[encoded data removed]",
      "text/plain": [
       "<Figure size 1000x800 with 1 Axes>"
      ]
     },
     "metadata": {},
     "output_type": "display_data"
    }
   ],
   "source": [
    "fig, ax = plt.subplots(figsize = (10,8))\n",
    "fueleco.city08.hist(ax=ax)\n",
    "#sns.histplot(x= fueleco.city08, data = fueleco,binwidth= 5)"
   ]
  },
  {
   "cell_type": "markdown",
   "id": "e489fb14-0430-45f4-8cac-06caadcaab9e",
   "metadata": {},
   "source": [
    "# 다양한 그래프"
   ]
  },
  {
   "cell_type": "code",
   "execution_count": 69,
   "id": "21d1bfd4-d843-4a44-be4e-e340f9936ff5",
   "metadata": {},
   "outputs": [
    {
     "data": {
      "text/plain": [
       "<Axes: xlabel='city08'>"
      ]
     },
     "execution_count": 69,
     "metadata": {},
     "output_type": "execute_result"
    },
    {
     "data": {
      "image/png": "[encoded data removed]",
      "text/plain": [
       "<Figure size 1000x800 with 3 Axes>"
      ]
     },
     "metadata": {},
     "output_type": "display_data"
    }
   ],
   "source": [
    "fig,axs = plt.subplots(nrows=3,figsize=(10,8))#nrows : 그래프 행으로 갯수\n",
    "sns.boxplot(x=fueleco.city08, ax=axs[0])\n",
    "sns.violinplot(x=fueleco.city08, ax=axs[1])\n",
    "sns.boxenplot(x=fueleco.city08,ax=axs[2])"
   ]
  },
  {
   "cell_type": "code",
   "execution_count": 90,
   "id": "c3f9409f-5d20-4683-baae-403340932a25",
   "metadata": {},
   "outputs": [
    {
     "data": {
      "text/plain": [
       "KstestResult(statistic=0.9999999990134123, pvalue=0.0, statistic_location=6, statistic_sign=-1)"
      ]
     },
     "execution_count": 90,
     "metadata": {},
     "output_type": "execute_result"
    }
   ],
   "source": [
    "#데이터의 정규성 검정 : scipy의 kstest사용\n",
    "#kstest에서 p-value가 0.05이하면, 비 정규분포\n",
    "from scipy import stats\n",
    "stats.kstest(fueleco.city08, cdf='norm')"
   ]
  },
  {
   "cell_type": "markdown",
   "id": "cefc4ca9-922d-45fc-be87-0d0b50ca68a5",
   "metadata": {},
   "source": [
    "정규분포 성립"
   ]
  },
  {
   "cell_type": "code",
   "execution_count": null,
   "id": "0e3d82d0-75a6-423d-aa1d-14aa70050bcc",
   "metadata": {},
   "outputs": [
    {
     "data": {
      "text/plain": [
       "((array([-4.15925471, -3.95199683, -3.83894277, ...,  3.83894277,\n",
       "          3.95199683,  4.15925471]),\n",
       "  array([  6,   6,   6, ..., 150, 150, 150])),\n",
       " (6.229171721346239, 18.65452116633654, 0.7118327651332012))"
      ]
     },
     "execution_count": 58,
     "metadata": {},
     "output_type": "execute_result"
    },
    {
     "data": {
      "image/png": "[encoded data removed]",
      "text/plain": [
       "<Figure size 1000x800 with 1 Axes>"
      ]
     },
     "metadata": {},
     "output_type": "display_data"
    }
   ],
   "source": [
    "fig, ax = plt.subplots(figsize = (10,8))\n",
    "stats.probplot(fueleco.city08, plot=ax) #그래프가 직선에 가까울수록 정규분포한다!"
   ]
  },
  {
   "cell_type": "code",
   "execution_count": null,
   "id": "95cff92b-121c-4968-908c-07ea055a8fcb",
   "metadata": {},
   "outputs": [
    {
     "data": {
      "text/html": [
       "<div>\n",
       "<style scoped>\n",
       "    .dataframe tbody tr th:only-of-type {\n",
       "        vertical-align: middle;\n",
       "    }\n",
       "\n",
       "    .dataframe tbody tr th {\n",
       "        vertical-align: top;\n",
       "    }\n",
       "\n",
       "    .dataframe thead th {\n",
       "        text-align: right;\n",
       "    }\n",
       "</style>\n",
       "<table border=\"1\" class=\"dataframe\">\n",
       "  <thead>\n",
       "    <tr style=\"text-align: right;\">\n",
       "      <th></th>\n",
       "      <th>mean</th>\n",
       "      <th>std</th>\n",
       "      <th>min</th>\n",
       "      <th>max</th>\n",
       "      <th>count</th>\n",
       "    </tr>\n",
       "    <tr>\n",
       "      <th>make</th>\n",
       "      <th></th>\n",
       "      <th></th>\n",
       "      <th></th>\n",
       "      <th></th>\n",
       "      <th></th>\n",
       "    </tr>\n",
       "  </thead>\n",
       "  <tbody>\n",
       "    <tr>\n",
       "      <th>BMW</th>\n",
       "      <td>18.561740</td>\n",
       "      <td>9.562551</td>\n",
       "      <td>9</td>\n",
       "      <td>137</td>\n",
       "      <td>2138</td>\n",
       "    </tr>\n",
       "    <tr>\n",
       "      <th>Ford</th>\n",
       "      <td>17.298746</td>\n",
       "      <td>7.646095</td>\n",
       "      <td>9</td>\n",
       "      <td>118</td>\n",
       "      <td>3508</td>\n",
       "    </tr>\n",
       "    <tr>\n",
       "      <th>Honda</th>\n",
       "      <td>25.105948</td>\n",
       "      <td>10.113860</td>\n",
       "      <td>14</td>\n",
       "      <td>132</td>\n",
       "      <td>1076</td>\n",
       "    </tr>\n",
       "    <tr>\n",
       "      <th>Tesla</th>\n",
       "      <td>103.648148</td>\n",
       "      <td>17.129149</td>\n",
       "      <td>80</td>\n",
       "      <td>150</td>\n",
       "      <td>108</td>\n",
       "    </tr>\n",
       "  </tbody>\n",
       "</table>\n",
       "</div>"
      ],
      "text/plain": [
       "             mean        std  min  max  count\n",
       "make                                         \n",
       "BMW     18.561740   9.562551    9  137   2138\n",
       "Ford    17.298746   7.646095    9  118   3508\n",
       "Honda   25.105948  10.113860   14  132   1076\n",
       "Tesla  103.648148  17.129149   80  150    108"
      ]
     },
     "execution_count": 59,
     "metadata": {},
     "output_type": "execute_result"
    }
   ],
   "source": [
    "mask = fueleco.make.isin(['Ford','Honda','Tesla','BMW'])\n",
    "\n",
    "fueleco[mask].groupby('make').city08.agg(['mean','std','min','max','count'])\n",
    "                                        "
   ]
  },
  {
   "cell_type": "code",
   "execution_count": 91,
   "id": "e098a220-f6b6-472f-a042-75388edd06cf",
   "metadata": {},
   "outputs": [
    {
     "ename": "ValueError",
     "evalue": "Item wrong length 3 instead of 43418.",
     "output_type": "error",
     "traceback": [
      "\u001b[0;31m---------------------------------------------------------------------------\u001b[0m",
      "\u001b[0;31mValueError\u001b[0m                                Traceback (most recent call last)",
      "Cell \u001b[0;32mIn[91], line 1\u001b[0m\n\u001b[0;32m----> 1\u001b[0m sns\u001b[39m.\u001b[39mcatplot(x\u001b[39m=\u001b[39m\u001b[39m'\u001b[39m\u001b[39mmake\u001b[39m\u001b[39m'\u001b[39m,y\u001b[39m=\u001b[39m\u001b[39m'\u001b[39m\u001b[39mcity08\u001b[39m\u001b[39m'\u001b[39m,data \u001b[39m=\u001b[39m fueleco[mask],kind \u001b[39m=\u001b[39m \u001b[39m'\u001b[39m\u001b[39mbox\u001b[39m\u001b[39m'\u001b[39m)\n",
      "File \u001b[0;32m~/Desktop/강남대학교/파이썬데이터분석/PY_PT/Son_PT/trading/lib/python3.9/site-packages/pandas/core/frame.py:3751\u001b[0m, in \u001b[0;36mDataFrame.__getitem__\u001b[0;34m(self, key)\u001b[0m\n\u001b[1;32m   3749\u001b[0m \u001b[39m# Do we have a (boolean) 1d indexer?\u001b[39;00m\n\u001b[1;32m   3750\u001b[0m \u001b[39mif\u001b[39;00m com\u001b[39m.\u001b[39mis_bool_indexer(key):\n\u001b[0;32m-> 3751\u001b[0m     \u001b[39mreturn\u001b[39;00m \u001b[39mself\u001b[39;49m\u001b[39m.\u001b[39;49m_getitem_bool_array(key)\n\u001b[1;32m   3753\u001b[0m \u001b[39m# We are left with two options: a single key, and a collection of keys,\u001b[39;00m\n\u001b[1;32m   3754\u001b[0m \u001b[39m# We interpret tuples as collections only for non-MultiIndex\u001b[39;00m\n\u001b[1;32m   3755\u001b[0m is_single_key \u001b[39m=\u001b[39m \u001b[39misinstance\u001b[39m(key, \u001b[39mtuple\u001b[39m) \u001b[39mor\u001b[39;00m \u001b[39mnot\u001b[39;00m is_list_like(key)\n",
      "File \u001b[0;32m~/Desktop/강남대학교/파이썬데이터분석/PY_PT/Son_PT/trading/lib/python3.9/site-packages/pandas/core/frame.py:3798\u001b[0m, in \u001b[0;36mDataFrame._getitem_bool_array\u001b[0;34m(self, key)\u001b[0m\n\u001b[1;32m   3792\u001b[0m     warnings\u001b[39m.\u001b[39mwarn(\n\u001b[1;32m   3793\u001b[0m         \u001b[39m\"\u001b[39m\u001b[39mBoolean Series key will be reindexed to match DataFrame index.\u001b[39m\u001b[39m\"\u001b[39m,\n\u001b[1;32m   3794\u001b[0m         \u001b[39mUserWarning\u001b[39;00m,\n\u001b[1;32m   3795\u001b[0m         stacklevel\u001b[39m=\u001b[39mfind_stack_level(),\n\u001b[1;32m   3796\u001b[0m     )\n\u001b[1;32m   3797\u001b[0m \u001b[39melif\u001b[39;00m \u001b[39mlen\u001b[39m(key) \u001b[39m!=\u001b[39m \u001b[39mlen\u001b[39m(\u001b[39mself\u001b[39m\u001b[39m.\u001b[39mindex):\n\u001b[0;32m-> 3798\u001b[0m     \u001b[39mraise\u001b[39;00m \u001b[39mValueError\u001b[39;00m(\n\u001b[1;32m   3799\u001b[0m         \u001b[39mf\u001b[39m\u001b[39m\"\u001b[39m\u001b[39mItem wrong length \u001b[39m\u001b[39m{\u001b[39;00m\u001b[39mlen\u001b[39m(key)\u001b[39m}\u001b[39;00m\u001b[39m instead of \u001b[39m\u001b[39m{\u001b[39;00m\u001b[39mlen\u001b[39m(\u001b[39mself\u001b[39m\u001b[39m.\u001b[39mindex)\u001b[39m}\u001b[39;00m\u001b[39m.\u001b[39m\u001b[39m\"\u001b[39m\n\u001b[1;32m   3800\u001b[0m     )\n\u001b[1;32m   3802\u001b[0m \u001b[39m# check_bool_indexer will throw exception if Series key cannot\u001b[39;00m\n\u001b[1;32m   3803\u001b[0m \u001b[39m# be reindexed to match DataFrame rows\u001b[39;00m\n\u001b[1;32m   3804\u001b[0m key \u001b[39m=\u001b[39m check_bool_indexer(\u001b[39mself\u001b[39m\u001b[39m.\u001b[39mindex, key)\n",
      "\u001b[0;31mValueError\u001b[0m: Item wrong length 3 instead of 43418."
     ]
    }
   ],
   "source": [
    "sns.catplot(x='make',y='city08',data = fueleco[mask],kind = 'box')"
   ]
  },
  {
   "cell_type": "code",
   "execution_count": 92,
   "id": "5e0a3bf0-997d-4ae3-9bf6-2b1ac0138f7f",
   "metadata": {
    "scrolled": true,
    "tags": []
   },
   "outputs": [
    {
     "ename": "ValueError",
     "evalue": "Item wrong length 3 instead of 43418.",
     "output_type": "error",
     "traceback": [
      "\u001b[0;31m---------------------------------------------------------------------------\u001b[0m",
      "\u001b[0;31mValueError\u001b[0m                                Traceback (most recent call last)",
      "Cell \u001b[0;32mIn[92], line 1\u001b[0m\n\u001b[0;32m----> 1\u001b[0m g\u001b[39m=\u001b[39m sns\u001b[39m.\u001b[39mcatplot(x\u001b[39m=\u001b[39m\u001b[39m'\u001b[39m\u001b[39mmake\u001b[39m\u001b[39m'\u001b[39m,y\u001b[39m=\u001b[39m\u001b[39m'\u001b[39m\u001b[39mcity08\u001b[39m\u001b[39m'\u001b[39m, data \u001b[39m=\u001b[39m fueleco[mask], kind\u001b[39m=\u001b[39m\u001b[39m'\u001b[39m\u001b[39mbox\u001b[39m\u001b[39m'\u001b[39m)\n\u001b[1;32m      2\u001b[0m sns\u001b[39m.\u001b[39mswarmplot(x\u001b[39m=\u001b[39m\u001b[39m'\u001b[39m\u001b[39mmake\u001b[39m\u001b[39m'\u001b[39m,y\u001b[39m=\u001b[39m\u001b[39m'\u001b[39m\u001b[39mcity08\u001b[39m\u001b[39m'\u001b[39m, data \u001b[39m=\u001b[39m fueleco[mask], color \u001b[39m=\u001b[39m \u001b[39m'\u001b[39m\u001b[39mk\u001b[39m\u001b[39m'\u001b[39m,size\u001b[39m=\u001b[39m\u001b[39m1\u001b[39m,ax\u001b[39m=\u001b[39mg\u001b[39m.\u001b[39max, alpha\u001b[39m=\u001b[39m\u001b[39m.5\u001b[39m)\n",
      "File \u001b[0;32m~/Desktop/강남대학교/파이썬데이터분석/PY_PT/Son_PT/trading/lib/python3.9/site-packages/pandas/core/frame.py:3751\u001b[0m, in \u001b[0;36mDataFrame.__getitem__\u001b[0;34m(self, key)\u001b[0m\n\u001b[1;32m   3749\u001b[0m \u001b[39m# Do we have a (boolean) 1d indexer?\u001b[39;00m\n\u001b[1;32m   3750\u001b[0m \u001b[39mif\u001b[39;00m com\u001b[39m.\u001b[39mis_bool_indexer(key):\n\u001b[0;32m-> 3751\u001b[0m     \u001b[39mreturn\u001b[39;00m \u001b[39mself\u001b[39;49m\u001b[39m.\u001b[39;49m_getitem_bool_array(key)\n\u001b[1;32m   3753\u001b[0m \u001b[39m# We are left with two options: a single key, and a collection of keys,\u001b[39;00m\n\u001b[1;32m   3754\u001b[0m \u001b[39m# We interpret tuples as collections only for non-MultiIndex\u001b[39;00m\n\u001b[1;32m   3755\u001b[0m is_single_key \u001b[39m=\u001b[39m \u001b[39misinstance\u001b[39m(key, \u001b[39mtuple\u001b[39m) \u001b[39mor\u001b[39;00m \u001b[39mnot\u001b[39;00m is_list_like(key)\n",
      "File \u001b[0;32m~/Desktop/강남대학교/파이썬데이터분석/PY_PT/Son_PT/trading/lib/python3.9/site-packages/pandas/core/frame.py:3798\u001b[0m, in \u001b[0;36mDataFrame._getitem_bool_array\u001b[0;34m(self, key)\u001b[0m\n\u001b[1;32m   3792\u001b[0m     warnings\u001b[39m.\u001b[39mwarn(\n\u001b[1;32m   3793\u001b[0m         \u001b[39m\"\u001b[39m\u001b[39mBoolean Series key will be reindexed to match DataFrame index.\u001b[39m\u001b[39m\"\u001b[39m,\n\u001b[1;32m   3794\u001b[0m         \u001b[39mUserWarning\u001b[39;00m,\n\u001b[1;32m   3795\u001b[0m         stacklevel\u001b[39m=\u001b[39mfind_stack_level(),\n\u001b[1;32m   3796\u001b[0m     )\n\u001b[1;32m   3797\u001b[0m \u001b[39melif\u001b[39;00m \u001b[39mlen\u001b[39m(key) \u001b[39m!=\u001b[39m \u001b[39mlen\u001b[39m(\u001b[39mself\u001b[39m\u001b[39m.\u001b[39mindex):\n\u001b[0;32m-> 3798\u001b[0m     \u001b[39mraise\u001b[39;00m \u001b[39mValueError\u001b[39;00m(\n\u001b[1;32m   3799\u001b[0m         \u001b[39mf\u001b[39m\u001b[39m\"\u001b[39m\u001b[39mItem wrong length \u001b[39m\u001b[39m{\u001b[39;00m\u001b[39mlen\u001b[39m(key)\u001b[39m}\u001b[39;00m\u001b[39m instead of \u001b[39m\u001b[39m{\u001b[39;00m\u001b[39mlen\u001b[39m(\u001b[39mself\u001b[39m\u001b[39m.\u001b[39mindex)\u001b[39m}\u001b[39;00m\u001b[39m.\u001b[39m\u001b[39m\"\u001b[39m\n\u001b[1;32m   3800\u001b[0m     )\n\u001b[1;32m   3802\u001b[0m \u001b[39m# check_bool_indexer will throw exception if Series key cannot\u001b[39;00m\n\u001b[1;32m   3803\u001b[0m \u001b[39m# be reindexed to match DataFrame rows\u001b[39;00m\n\u001b[1;32m   3804\u001b[0m key \u001b[39m=\u001b[39m check_bool_indexer(\u001b[39mself\u001b[39m\u001b[39m.\u001b[39mindex, key)\n",
      "\u001b[0;31mValueError\u001b[0m: Item wrong length 3 instead of 43418."
     ]
    }
   ],
   "source": [
    "g= sns.catplot(x='make',y='city08', data = fueleco[mask], kind='box')\n",
    "sns.swarmplot(x='make',y='city08', data = fueleco[mask], color = 'k',size=1,ax=g.ax, alpha=.5)"
   ]
  },
  {
   "cell_type": "markdown",
   "id": "79b30b11-8ecb-44ff-bc40-6f42703a48a5",
   "metadata": {},
   "source": [
    "**swarmplot() : 범주형 값마다 수치형이 어떻게 분포하는지 그려주는 그래프!**"
   ]
  },
  {
   "cell_type": "code",
   "execution_count": 73,
   "id": "d4a36bda-ba9c-4569-b511-6ac86c804ca6",
   "metadata": {},
   "outputs": [
    {
     "ename": "NameError",
     "evalue": "name 'mask' is not defined",
     "output_type": "error",
     "traceback": [
      "\u001b[0;31m---------------------------------------------------------------------------\u001b[0m",
      "\u001b[0;31mNameError\u001b[0m                                 Traceback (most recent call last)",
      "Cell \u001b[0;32mIn[73], line 4\u001b[0m\n\u001b[1;32m      1\u001b[0m sns\u001b[39m.\u001b[39mcatplot(\n\u001b[1;32m      2\u001b[0m     x \u001b[39m=\u001b[39m \u001b[39m'\u001b[39m\u001b[39mmake\u001b[39m\u001b[39m'\u001b[39m,\n\u001b[1;32m      3\u001b[0m     y\u001b[39m=\u001b[39m\u001b[39m'\u001b[39m\u001b[39mcity08\u001b[39m\u001b[39m'\u001b[39m,\n\u001b[0;32m----> 4\u001b[0m     data \u001b[39m=\u001b[39m fueleco[mask],\n\u001b[1;32m      5\u001b[0m     kind \u001b[39m=\u001b[39m\u001b[39m'\u001b[39m\u001b[39mbox\u001b[39m\u001b[39m'\u001b[39m,\n\u001b[1;32m      6\u001b[0m     col\u001b[39m=\u001b[39m\u001b[39m'\u001b[39m\u001b[39myear\u001b[39m\u001b[39m'\u001b[39m, \u001b[39m#columns를 뭘로 나눌지\u001b[39;00m\n\u001b[1;32m      7\u001b[0m     col_order\u001b[39m=\u001b[39m[\u001b[39m2012\u001b[39m,\u001b[39m2014\u001b[39m,\u001b[39m2016\u001b[39m,\u001b[39m2018\u001b[39m], \u001b[39m#순서 \u001b[39;00m\n\u001b[1;32m      8\u001b[0m     col_wrap\u001b[39m=\u001b[39m\u001b[39m2\u001b[39m \u001b[39m#한줄당 몇개 생성할지\u001b[39;00m\n\u001b[1;32m      9\u001b[0m )\n",
      "\u001b[0;31mNameError\u001b[0m: name 'mask' is not defined"
     ]
    }
   ],
   "source": [
    "sns.catplot(\n",
    "    x = 'make',\n",
    "    y='city08',\n",
    "    data = fueleco[mask],\n",
    "    kind ='box',\n",
    "    col='year', #columns를 뭘로 나눌지\n",
    "    col_order=[2012,2014,2016,2018], #순서 \n",
    "    col_wrap=2 #한줄당 몇개 생성할지\n",
    ")\n",
    "    "
   ]
  },
  {
   "cell_type": "markdown",
   "id": "4d4540c6-9cc9-4deb-baf9-bc3911766b7b",
   "metadata": {},
   "source": [
    "# 두개의 연속 열 비교 - 연속형"
   ]
  },
  {
   "cell_type": "code",
   "execution_count": 74,
   "id": "68b84bed-b10d-4a0b-9886-94db577f2e4c",
   "metadata": {},
   "outputs": [
    {
     "data": {
      "text/plain": [
       "0.9459442223780542"
      ]
     },
     "execution_count": 74,
     "metadata": {},
     "output_type": "execute_result"
    }
   ],
   "source": [
    "fueleco.city08.corr(fueleco.highway08) #강한 선형관계"
   ]
  },
  {
   "cell_type": "code",
   "execution_count": 75,
   "id": "af9d4f2f-3c0b-4069-849b-aa7f6cd19c8b",
   "metadata": {},
   "outputs": [
    {
     "data": {
      "text/html": [
       "<div>\n",
       "<style scoped>\n",
       "    .dataframe tbody tr th:only-of-type {\n",
       "        vertical-align: middle;\n",
       "    }\n",
       "\n",
       "    .dataframe tbody tr th {\n",
       "        vertical-align: top;\n",
       "    }\n",
       "\n",
       "    .dataframe thead th {\n",
       "        text-align: right;\n",
       "    }\n",
       "</style>\n",
       "<table border=\"1\" class=\"dataframe\">\n",
       "  <thead>\n",
       "    <tr style=\"text-align: right;\">\n",
       "      <th></th>\n",
       "      <th>city08</th>\n",
       "      <th>highway08</th>\n",
       "      <th>cylinders</th>\n",
       "    </tr>\n",
       "  </thead>\n",
       "  <tbody>\n",
       "    <tr>\n",
       "      <th>city08</th>\n",
       "      <td>1.000000</td>\n",
       "      <td>0.945944</td>\n",
       "      <td>-0.683170</td>\n",
       "    </tr>\n",
       "    <tr>\n",
       "      <th>highway08</th>\n",
       "      <td>0.945944</td>\n",
       "      <td>1.000000</td>\n",
       "      <td>-0.647252</td>\n",
       "    </tr>\n",
       "    <tr>\n",
       "      <th>cylinders</th>\n",
       "      <td>-0.683170</td>\n",
       "      <td>-0.647252</td>\n",
       "      <td>1.000000</td>\n",
       "    </tr>\n",
       "  </tbody>\n",
       "</table>\n",
       "</div>"
      ],
      "text/plain": [
       "             city08  highway08  cylinders\n",
       "city08     1.000000   0.945944  -0.683170\n",
       "highway08  0.945944   1.000000  -0.647252\n",
       "cylinders -0.683170  -0.647252   1.000000"
      ]
     },
     "execution_count": 75,
     "metadata": {},
     "output_type": "execute_result"
    }
   ],
   "source": [
    "fueleco[['city08', 'highway08', 'cylinders']].corr()"
   ]
  },
  {
   "cell_type": "code",
   "execution_count": 76,
   "id": "6a8c4826-0e59-40d0-9ad2-7faf22ac654c",
   "metadata": {},
   "outputs": [
    {
     "name": "stderr",
     "output_type": "stream",
     "text": [
      "/var/folders/_l/nhxw713s4yx4h9jgpqkyf7qw0000gn/T/ipykernel_1208/4010377622.py:1: FutureWarning: In the future `np.bool` will be defined as the corresponding NumPy scalar.\n",
      "  mask =np.zeros_like(fueleco[['city08','highway08','cylinders']].corr(),dtype=np.bool)\n"
     ]
    },
    {
     "ename": "AttributeError",
     "evalue": "module 'numpy' has no attribute 'bool'.\n`np.bool` was a deprecated alias for the builtin `bool`. To avoid this error in existing code, use `bool` by itself. Doing this will not modify any behavior and is safe. If you specifically wanted the numpy scalar type, use `np.bool_` here.\nThe aliases was originally deprecated in NumPy 1.20; for more details and guidance see the original release note at:\n    https://numpy.org/devdocs/release/1.20.0-notes.html#deprecations",
     "output_type": "error",
     "traceback": [
      "\u001b[0;31m---------------------------------------------------------------------------\u001b[0m",
      "\u001b[0;31mAttributeError\u001b[0m                            Traceback (most recent call last)",
      "Cell \u001b[0;32mIn[76], line 1\u001b[0m\n\u001b[0;32m----> 1\u001b[0m mask \u001b[39m=\u001b[39mnp\u001b[39m.\u001b[39mzeros_like(fueleco[[\u001b[39m'\u001b[39m\u001b[39mcity08\u001b[39m\u001b[39m'\u001b[39m,\u001b[39m'\u001b[39m\u001b[39mhighway08\u001b[39m\u001b[39m'\u001b[39m,\u001b[39m'\u001b[39m\u001b[39mcylinders\u001b[39m\u001b[39m'\u001b[39m]]\u001b[39m.\u001b[39mcorr(),dtype\u001b[39m=\u001b[39mnp\u001b[39m.\u001b[39;49mbool)\n\u001b[1;32m      2\u001b[0m mask[np\u001b[39m.\u001b[39mtriu_indices_from(mask)] \u001b[39m=\u001b[39m \u001b[39mTrue\u001b[39;00m \u001b[39m#triu => triangle upper 상삼각행렬 인덱스, True 로 변환\u001b[39;00m\n\u001b[1;32m      3\u001b[0m mask\n",
      "File \u001b[0;32m~/Desktop/강남대학교/파이썬데이터분석/PY_PT/Son_PT/trading/lib/python3.9/site-packages/numpy/__init__.py:305\u001b[0m, in \u001b[0;36m__getattr__\u001b[0;34m(attr)\u001b[0m\n\u001b[1;32m    300\u001b[0m     warnings\u001b[39m.\u001b[39mwarn(\n\u001b[1;32m    301\u001b[0m         \u001b[39mf\u001b[39m\u001b[39m\"\u001b[39m\u001b[39mIn the future `np.\u001b[39m\u001b[39m{\u001b[39;00mattr\u001b[39m}\u001b[39;00m\u001b[39m` will be defined as the \u001b[39m\u001b[39m\"\u001b[39m\n\u001b[1;32m    302\u001b[0m         \u001b[39m\"\u001b[39m\u001b[39mcorresponding NumPy scalar.\u001b[39m\u001b[39m\"\u001b[39m, \u001b[39mFutureWarning\u001b[39;00m, stacklevel\u001b[39m=\u001b[39m\u001b[39m2\u001b[39m)\n\u001b[1;32m    304\u001b[0m \u001b[39mif\u001b[39;00m attr \u001b[39min\u001b[39;00m __former_attrs__:\n\u001b[0;32m--> 305\u001b[0m     \u001b[39mraise\u001b[39;00m \u001b[39mAttributeError\u001b[39;00m(__former_attrs__[attr])\n\u001b[1;32m    307\u001b[0m \u001b[39m# Importing Tester requires importing all of UnitTest which is not a\u001b[39;00m\n\u001b[1;32m    308\u001b[0m \u001b[39m# cheap import Since it is mainly used in test suits, we lazy import it\u001b[39;00m\n\u001b[1;32m    309\u001b[0m \u001b[39m# here to save on the order of 10 ms of import time for most users\u001b[39;00m\n\u001b[1;32m    310\u001b[0m \u001b[39m#\u001b[39;00m\n\u001b[1;32m    311\u001b[0m \u001b[39m# The previous way Tester was imported also had a side effect of adding\u001b[39;00m\n\u001b[1;32m    312\u001b[0m \u001b[39m# the full `numpy.testing` namespace\u001b[39;00m\n\u001b[1;32m    313\u001b[0m \u001b[39mif\u001b[39;00m attr \u001b[39m==\u001b[39m \u001b[39m'\u001b[39m\u001b[39mtesting\u001b[39m\u001b[39m'\u001b[39m:\n",
      "\u001b[0;31mAttributeError\u001b[0m: module 'numpy' has no attribute 'bool'.\n`np.bool` was a deprecated alias for the builtin `bool`. To avoid this error in existing code, use `bool` by itself. Doing this will not modify any behavior and is safe. If you specifically wanted the numpy scalar type, use `np.bool_` here.\nThe aliases was originally deprecated in NumPy 1.20; for more details and guidance see the original release note at:\n    https://numpy.org/devdocs/release/1.20.0-notes.html#deprecations"
     ]
    }
   ],
   "source": [
    "mask =np.zeros_like(fueleco[['city08','highway08','cylinders']].corr(),dtype=np.bool)\n",
    "mask[np.triu_indices_from(mask)] = True #triu => triangle upper 상삼각행렬 인덱스, True 로 변환\n",
    "mask"
   ]
  },
  {
   "cell_type": "code",
   "execution_count": 77,
   "id": "8220bec2-035e-4096-868b-e72fc20497c5",
   "metadata": {},
   "outputs": [
    {
     "data": {
      "text/plain": [
       "<Axes: >"
      ]
     },
     "execution_count": 77,
     "metadata": {},
     "output_type": "execute_result"
    },
    {
     "data": {
      "image/png": "[encoded data removed]",
      "text/plain": [
       "<Figure size 1000x800 with 2 Axes>"
      ]
     },
     "metadata": {},
     "output_type": "display_data"
    }
   ],
   "source": [
    "fig,ax = plt.subplots(figsize = (10,8))\n",
    "corr = fueleco[['city08','highway08','cylinders']].corr()\n",
    "\n",
    "mask = np.zeros_like(corr, dtype=bool)\n",
    "mask[np.triu_indices_from(mask)] = True\n",
    "sns.heatmap( #heatmap은 상관행렬을 시각화 하는 plot\n",
    "    corr,\n",
    "    mask=mask, #상 삼각행렬을 선택함으로써 그래프는 하 삼각행렬만 나옴!\n",
    "    fmt='.2f', #출력될 숫자 형식\n",
    "    annot=True, #각 셀에 값을 부여할지 말지\n",
    "    ax=ax, \n",
    "    cmap='RdBu', #색상\n",
    "    vmin=-1, \n",
    "    vmax=1,\n",
    "    square=True #그래프를 정사각형으로 출력할지 말지\n",
    ")"
   ]
  },
  {
   "cell_type": "markdown",
   "id": "2df9e462-cf6e-4e0a-bac8-2d15c5805a21",
   "metadata": {},
   "source": [
    "**만약 선형관계를 확인할 수 없다면, Spearman Correlation 을 구하는 것이 방법**\n",
    "> fueleco.city08.corr(fueleco.barrels08, method='spearman')"
   ]
  },
  {
   "cell_type": "markdown",
   "id": "fabf6933-b9bd-4bf1-8991-f5c0ede1e677",
   "metadata": {},
   "source": [
    "# 산포도 그래프"
   ]
  },
  {
   "cell_type": "code",
   "execution_count": 78,
   "id": "737c1996-466c-48b4-a807-ae8c46bcaf93",
   "metadata": {},
   "outputs": [
    {
     "data": {
      "text/plain": [
       "<Axes: xlabel='city08', ylabel='highway08'>"
      ]
     },
     "execution_count": 78,
     "metadata": {},
     "output_type": "execute_result"
    },
    {
     "data": {
      "image/png": "[encoded data removed]",
      "text/plain": [
       "<Figure size 1000x800 with 1 Axes>"
      ]
     },
     "metadata": {},
     "output_type": "display_data"
    }
   ],
   "source": [
    "fig, ax = plt.subplots(figsize = (10,8))\n",
    "fueleco.plot.scatter(\n",
    "    x='city08',\n",
    "    y='highway08',\n",
    "    alpha =1,\n",
    "    ax=ax\n",
    ")"
   ]
  },
  {
   "cell_type": "code",
   "execution_count": 79,
   "id": "ebd2d745-b8ea-4501-bd80-520db354e1bb",
   "metadata": {},
   "outputs": [
    {
     "data": {
      "image/png": "[encoded data removed]",
      "text/plain": [
       "<Figure size 500x500 with 1 Axes>"
      ]
     },
     "metadata": {},
     "output_type": "display_data"
    }
   ],
   "source": [
    "#회귀선 추가 할때!\n",
    "res = sns.lmplot(\n",
    "    x='city08', y='highway08', data=fueleco\n",
    ")"
   ]
  },
  {
   "cell_type": "code",
   "execution_count": 80,
   "id": "ae303a84-6ddb-4c56-a8bb-19144be11518",
   "metadata": {},
   "outputs": [
    {
     "data": {
      "text/plain": [
       "VClass\n",
       "Compact Cars                          6086\n",
       "Subcompact Cars                       5381\n",
       "Midsize Cars                          5184\n",
       "Large Cars                            2359\n",
       "Standard Pickup Trucks                2354\n",
       "Two Seaters                           2215\n",
       "Sport Utility Vehicle - 4WD           2078\n",
       "Small Station Wagons                  1662\n",
       "Sport Utility Vehicle - 2WD           1627\n",
       "Special Purpose Vehicles              1455\n",
       "Minicompact Cars                      1452\n",
       "Standard Pickup Trucks 2WD            1333\n",
       "Standard Pickup Trucks 4WD            1190\n",
       "Small Sport Utility Vehicle 4WD       1152\n",
       "Vans                                  1141\n",
       "Standard Sport Utility Vehicle 4WD     911\n",
       "Small Sport Utility Vehicle 2WD        759\n",
       "Special Purpose Vehicle 2WD            698\n",
       "Midsize-Large Station Wagons           656\n",
       "Midsize Station Wagons                 566\n",
       "Small Pickup Trucks                    538\n",
       "Small Pickup Trucks 2WD                485\n",
       "Vans, Cargo Type                       438\n",
       "Minivan - 2WD                          377\n",
       "Standard Sport Utility Vehicle 2WD     334\n",
       "Special Purpose Vehicle 4WD            326\n",
       "Vans, Passenger Type                   321\n",
       "Small Pickup Trucks 4WD                276\n",
       "Minivan - 4WD                           53\n",
       "Standard Pickup Trucks/2wd               4\n",
       "Vans Passenger                           2\n",
       "Special Purpose Vehicles/2wd             2\n",
       "Special Purpose Vehicles/4wd             2\n",
       "Special Purpose Vehicle                  1\n",
       "Name: count, dtype: int64"
      ]
     },
     "execution_count": 80,
     "metadata": {},
     "output_type": "execute_result"
    }
   ],
   "source": [
    "fueleco.VClass.value_counts()"
   ]
  },
  {
   "cell_type": "code",
   "execution_count": 81,
   "id": "0c255fd1-fdb3-4c97-b080-d6776832c7e6",
   "metadata": {},
   "outputs": [],
   "source": [
    "def generalize(ser, match_name, default): #ser은 VClass 칼럼\n",
    "    seen = None #other 만드는 함수\n",
    "    for match, name in match_name: #match : 찾을 키워드, name:바꿀 키워드\n",
    "        mask = ser.str.contains(match) # match : 밑에 있는 리스트! name은 ,변수\n",
    "        if seen is None:\n",
    "            seen = mask #처음 mask를 줄 때, mask가 한번씩 쭈욱 들어감.\n",
    "        else:\n",
    "            seen = seen | mask\n",
    "        ser = ser.where(~mask,name) # mask가 있으면! name으로\n",
    "    ser = ser.where(seen, default) #seen 이 False 이면 default('otehr')로 만들기\n",
    "    return ser\n",
    "\n",
    "makes = ['Ford','Tesla','BMW','Toyota']\n",
    "\n",
    "data = fueleco[fueleco.make.isin(makes)].assign(\n",
    "    SClass = lambda df_: generalize(df_.VClass,\n",
    "                                    [('Seaters','Car'),\n",
    "                                     ('Car','Car'),\n",
    "                                     ('Utility','SUV'),\n",
    "                                     ('Truck','Truck'),\n",
    "                                     ('Van','Van'),\n",
    "                                     ('van','Van'),\n",
    "                                     ('Wagon','Wagon'),\n",
    "                                    ],\n",
    "                                    'other')\n",
    ")\n",
    "                                     "
   ]
  },
  {
   "cell_type": "code",
   "execution_count": 82,
   "id": "c0f26ad2-e7f1-4218-b76d-2bc4e44fe71d",
   "metadata": {},
   "outputs": [
    {
     "data": {
      "text/html": [
       "<div>\n",
       "<style scoped>\n",
       "    .dataframe tbody tr th:only-of-type {\n",
       "        vertical-align: middle;\n",
       "    }\n",
       "\n",
       "    .dataframe tbody tr th {\n",
       "        vertical-align: top;\n",
       "    }\n",
       "\n",
       "    .dataframe thead th {\n",
       "        text-align: right;\n",
       "    }\n",
       "</style>\n",
       "<table border=\"1\" class=\"dataframe\">\n",
       "  <thead>\n",
       "    <tr style=\"text-align: right;\">\n",
       "      <th>SClass</th>\n",
       "      <th>Car</th>\n",
       "      <th>SUV</th>\n",
       "      <th>Truck</th>\n",
       "      <th>Van</th>\n",
       "      <th>Wagon</th>\n",
       "      <th>other</th>\n",
       "    </tr>\n",
       "    <tr>\n",
       "      <th>make</th>\n",
       "      <th></th>\n",
       "      <th></th>\n",
       "      <th></th>\n",
       "      <th></th>\n",
       "      <th></th>\n",
       "      <th></th>\n",
       "    </tr>\n",
       "  </thead>\n",
       "  <tbody>\n",
       "    <tr>\n",
       "      <th>BMW</th>\n",
       "      <td>1821.0</td>\n",
       "      <td>224.0</td>\n",
       "      <td>NaN</td>\n",
       "      <td>NaN</td>\n",
       "      <td>93.0</td>\n",
       "      <td>NaN</td>\n",
       "    </tr>\n",
       "    <tr>\n",
       "      <th>Ford</th>\n",
       "      <td>1171.0</td>\n",
       "      <td>464.0</td>\n",
       "      <td>1116.0</td>\n",
       "      <td>339.0</td>\n",
       "      <td>160.0</td>\n",
       "      <td>258.0</td>\n",
       "    </tr>\n",
       "    <tr>\n",
       "      <th>Tesla</th>\n",
       "      <td>76.0</td>\n",
       "      <td>32.0</td>\n",
       "      <td>NaN</td>\n",
       "      <td>NaN</td>\n",
       "      <td>NaN</td>\n",
       "      <td>NaN</td>\n",
       "    </tr>\n",
       "    <tr>\n",
       "      <th>Toyota</th>\n",
       "      <td>877.0</td>\n",
       "      <td>442.0</td>\n",
       "      <td>513.0</td>\n",
       "      <td>102.0</td>\n",
       "      <td>132.0</td>\n",
       "      <td>123.0</td>\n",
       "    </tr>\n",
       "  </tbody>\n",
       "</table>\n",
       "</div>"
      ],
      "text/plain": [
       "SClass     Car    SUV   Truck    Van  Wagon  other\n",
       "make                                              \n",
       "BMW     1821.0  224.0     NaN    NaN   93.0    NaN\n",
       "Ford    1171.0  464.0  1116.0  339.0  160.0  258.0\n",
       "Tesla     76.0   32.0     NaN    NaN    NaN    NaN\n",
       "Toyota   877.0  442.0   513.0  102.0  132.0  123.0"
      ]
     },
     "execution_count": 82,
     "metadata": {},
     "output_type": "execute_result"
    }
   ],
   "source": [
    "data.groupby(['make','SClass']).size().unstack() #행 인덱스를 열 인덱스로 바꿔 DF로 전환"
   ]
  },
  {
   "cell_type": "code",
   "execution_count": 83,
   "id": "f3e39391-291c-4f23-bec7-c8e994c3d360",
   "metadata": {},
   "outputs": [
    {
     "data": {
      "text/html": [
       "<div>\n",
       "<style scoped>\n",
       "    .dataframe tbody tr th:only-of-type {\n",
       "        vertical-align: middle;\n",
       "    }\n",
       "\n",
       "    .dataframe tbody tr th {\n",
       "        vertical-align: top;\n",
       "    }\n",
       "\n",
       "    .dataframe thead th {\n",
       "        text-align: right;\n",
       "    }\n",
       "</style>\n",
       "<table border=\"1\" class=\"dataframe\">\n",
       "  <thead>\n",
       "    <tr style=\"text-align: right;\">\n",
       "      <th>fuelType1</th>\n",
       "      <th>Diesel</th>\n",
       "      <th>Electricity</th>\n",
       "      <th>Natural Gas</th>\n",
       "      <th>Premium Gasoline</th>\n",
       "      <th>Regular Gasoline</th>\n",
       "    </tr>\n",
       "    <tr>\n",
       "      <th>make</th>\n",
       "      <th></th>\n",
       "      <th></th>\n",
       "      <th></th>\n",
       "      <th></th>\n",
       "      <th></th>\n",
       "    </tr>\n",
       "  </thead>\n",
       "  <tbody>\n",
       "    <tr>\n",
       "      <th>BMW</th>\n",
       "      <td>40</td>\n",
       "      <td>14</td>\n",
       "      <td>0</td>\n",
       "      <td>1886</td>\n",
       "      <td>198</td>\n",
       "    </tr>\n",
       "    <tr>\n",
       "      <th>Ford</th>\n",
       "      <td>40</td>\n",
       "      <td>20</td>\n",
       "      <td>19</td>\n",
       "      <td>93</td>\n",
       "      <td>3336</td>\n",
       "    </tr>\n",
       "    <tr>\n",
       "      <th>Tesla</th>\n",
       "      <td>0</td>\n",
       "      <td>108</td>\n",
       "      <td>0</td>\n",
       "      <td>0</td>\n",
       "      <td>0</td>\n",
       "    </tr>\n",
       "    <tr>\n",
       "      <th>Toyota</th>\n",
       "      <td>17</td>\n",
       "      <td>7</td>\n",
       "      <td>3</td>\n",
       "      <td>122</td>\n",
       "      <td>2040</td>\n",
       "    </tr>\n",
       "  </tbody>\n",
       "</table>\n",
       "</div>"
      ],
      "text/plain": [
       "fuelType1  Diesel  Electricity  Natural Gas  Premium Gasoline   \n",
       "make                                                            \n",
       "BMW            40           14            0              1886  \\\n",
       "Ford           40           20           19                93   \n",
       "Tesla           0          108            0                 0   \n",
       "Toyota         17            7            3               122   \n",
       "\n",
       "fuelType1  Regular Gasoline  \n",
       "make                         \n",
       "BMW                     198  \n",
       "Ford                   3336  \n",
       "Tesla                     0  \n",
       "Toyota                 2040  "
      ]
     },
     "execution_count": 83,
     "metadata": {},
     "output_type": "execute_result"
    }
   ],
   "source": [
    "pd.crosstab(data.make, data.fuelType1) # crosstab : (x, y) 교차 빈도수"
   ]
  },
  {
   "cell_type": "code",
   "execution_count": null,
   "id": "51035db6-d360-4122-860b-38f57e566d74",
   "metadata": {},
   "outputs": [],
   "source": []
  }
 ],
 "metadata": {
  "kernelspec": {
   "display_name": "Python 3 (ipykernel)",
   "language": "python",
   "name": "python3"
  },
  "language_info": {
   "codemirror_mode": {
    "name": "ipython",
    "version": 3
   },
   "file_extension": ".py",
   "mimetype": "text/x-python",
   "name": "python",
   "nbconvert_exporter": "python",
   "pygments_lexer": "ipython3",
   "version": "3.9.13"
  }
 },
 "nbformat": 4,
 "nbformat_minor": 5
}
